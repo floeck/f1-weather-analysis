{
 "cells": [
  {
   "cell_type": "markdown",
   "metadata": {},
   "source": [
    "# Preparation of Weather Data\n",
    "The following notebook demonstrates how weather data was scraped from airdensity online. A site that provides free to use weather data for corresponding race tracks. In this instance, Formula 1 circuits.\n",
    "\n",
    "The site can be found [here.]('https://airdensityonline.com/tracks/')"
   ]
  },
  {
   "cell_type": "markdown",
   "metadata": {},
   "source": [
    "## Imports & Helper Methods"
   ]
  },
  {
   "cell_type": "markdown",
   "metadata": {},
   "source": [
    "### Import Modules"
   ]
  },
  {
   "cell_type": "code",
   "execution_count": 275,
   "metadata": {},
   "outputs": [],
   "source": [
    "import requests\n",
    "import csv\n",
    "from bs4 import BeautifulSoup as bs\n",
    "import os"
   ]
  },
  {
   "cell_type": "markdown",
   "metadata": {},
   "source": [
    "### 12 Hour to 24 Hour Time Fuction\n",
    "Converts the scraped time format into more readble 24-hour time."
   ]
  },
  {
   "cell_type": "code",
   "execution_count": 221,
   "metadata": {},
   "outputs": [],
   "source": [
    "# Function to convert 12-hour time format to 24-hour\n",
    "def convert24(raw): \n",
    "      \n",
    "    # Checking if last two elements of time \n",
    "    # is AM and first two elements are 12 \n",
    "    if raw[-2:] == \"am\" and raw[:2] == \"12\": \n",
    "        return \"00\" + raw[2:-3] + \":00\"\n",
    "    \n",
    "    # Check for e.g. 10:00 am, 11:00 am\n",
    "    elif raw[-2:] == \"am\" and (raw[:2] == \"11\" or raw[:2] == \"10\"):\n",
    "        return raw[:-3] + \":00\"\n",
    "        \n",
    "    # remove the AM     \n",
    "    elif raw[-2:] == \"am\": \n",
    "        return \"0\" + raw[:-3] + \":00\"\n",
    "      \n",
    "    # Checking if last two elements of time \n",
    "    # is PM and first two elements are 12    \n",
    "    elif raw[-2:] == \"pm\" and raw[:2] == \"12\": \n",
    "        return raw[:5] + \":00\"\n",
    "          \n",
    "    elif raw[2] == \":\": \n",
    "        # add 12 to hours and remove PM \n",
    "        return str(int(raw[:2]) + 12) + raw[2:5] + \":00\"\n",
    "    \n",
    "    else: \n",
    "        # add 12 to hours and remove PM \n",
    "        return str(int(raw[:1]) + 12) + \":\" + raw[2:4] + \":00\""
   ]
  },
  {
   "cell_type": "markdown",
   "metadata": {},
   "source": [
    "### Fahrenheit to Celsius Function\n",
    "Changes temp from F to C."
   ]
  },
  {
   "cell_type": "code",
   "execution_count": 253,
   "metadata": {},
   "outputs": [],
   "source": [
    "def f_to_c(temp):\n",
    "    temp = (int(temp) - 32) * 5/9\n",
    "    return round(temp)"
   ]
  },
  {
   "cell_type": "markdown",
   "metadata": {},
   "source": [
    "## Scrape Website Weather Data\n",
    "Here we scrape the data from the weather website, modifying certain attributes for easier processing.\n",
    "You are able to specify the url of the site, and path you want to save the file for.\n",
    "\n",
    "**Note: This only works for links such as https://airdensityonline.com/track-history/Melbourne_Grand_Prix_Circuit/2020-03-21/**"
   ]
  },
  {
   "cell_type": "code",
   "execution_count": 274,
   "metadata": {},
   "outputs": [],
   "source": [
    "def scrape_weather(url, path):\n",
    "    # Prepare response raw data\n",
    "    response = requests.get(url)\n",
    "    soup = bs(response.content, 'html.parser')\n",
    "    rows = soup.find(class_ = 'forecastdata').find_all('ul', recursive=False)[1:]\n",
    "\n",
    "    # Create empty csv for writing\n",
    "    file = open('data/' + path, 'w', newline='')\n",
    "    writer = csv.writer(file)\n",
    "    writer.writerow(['time', 'temp', 'humidity', 'barometer', 'dew_point', 'grains', 'wind', 'air_density', 'density_alt'])\n",
    "\n",
    "    # Iterate over rows and scrape data\n",
    "    for row in rows:\n",
    "        time = row.find_all('li')[0].text.strip()[7:]\n",
    "        temp = row.find_all('li')[1].text.strip()[:-6]\n",
    "        humidity = row.find_all('li')[2].text.strip()[:-1]\n",
    "        barometer = row.find_all('li')[3].text.strip()[:-3]\n",
    "        dew_point = row.find_all('li')[4].text.strip()[:-6]\n",
    "        grains = row.find_all('li')[5].text.strip()\n",
    "        wind = row.find_all('li')[6].text.strip()\n",
    "        air_density = row.find_all('li')[7].text.strip()\n",
    "        density_alt = row.find_all('li')[8].text.strip()\n",
    "\n",
    "        # Convert particular data\n",
    "        time = convert24(time)\n",
    "        temp = f_to_c(temp)\n",
    "        dew_point = f_to_c(dew_point)\n",
    "\n",
    "        writer.writerow([time, temp, humidity, barometer, dew_point, grains, wind, air_density, density_alt])\n",
    "    \n",
    "    file.close()\n",
    "    return \"File Generated. Size: \" + str(os.stat('data/' + path).st_size)"
   ]
  },
  {
   "cell_type": "markdown",
   "metadata": {},
   "source": [
    "## "
   ]
  },
  {
   "cell_type": "code",
   "execution_count": 273,
   "metadata": {
    "scrolled": true
   },
   "outputs": [
    {
     "data": {
      "text/plain": [
       "'File Generated. Size: 1390'"
      ]
     },
     "execution_count": 273,
     "metadata": {},
     "output_type": "execute_result"
    }
   ],
   "source": [
    "scrape_weather('https://airdensityonline.com/track-history/Melbourne_Grand_Prix_Circuit/2020-03-21/', 'weather/test.csv')"
   ]
  },
  {
   "cell_type": "code",
   "execution_count": null,
   "metadata": {},
   "outputs": [],
   "source": []
  }
 ],
 "metadata": {
  "kernelspec": {
   "display_name": "Python 3",
   "language": "python",
   "name": "python3"
  },
  "language_info": {
   "codemirror_mode": {
    "name": "ipython",
    "version": 3
   },
   "file_extension": ".py",
   "mimetype": "text/x-python",
   "name": "python",
   "nbconvert_exporter": "python",
   "pygments_lexer": "ipython3",
   "version": "3.8.3"
  }
 },
 "nbformat": 4,
 "nbformat_minor": 4
}
