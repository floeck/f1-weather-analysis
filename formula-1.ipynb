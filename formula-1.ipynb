{
 "cells": [
  {
   "cell_type": "code",
   "execution_count": 71,
   "metadata": {},
   "outputs": [
    {
     "ename": "TypeError",
     "evalue": "'str' object does not support item assignment",
     "output_type": "error",
     "traceback": [
      "\u001b[0;31m---------------------------------------------------------------------------\u001b[0m",
      "\u001b[0;31mTypeError\u001b[0m                                 Traceback (most recent call last)",
      "\u001b[0;32m<ipython-input-71-a1629797ead1>\u001b[0m in \u001b[0;36m<module>\u001b[0;34m\u001b[0m\n\u001b[1;32m     15\u001b[0m \u001b[0minput\u001b[0m \u001b[0;34m=\u001b[0m \u001b[0;34m'Mar 01 12:00 am66 deg F86%30.04 Hg62 deg F81.8NW 1 mph97.43 %890 ft.\\n'\u001b[0m\u001b[0;34m\u001b[0m\u001b[0;34m\u001b[0m\u001b[0m\n\u001b[1;32m     16\u001b[0m \u001b[0;34m\u001b[0m\u001b[0m\n\u001b[0;32m---> 17\u001b[0;31m \u001b[0minput\u001b[0m\u001b[0;34m[\u001b[0m\u001b[0;36m7\u001b[0m\u001b[0;34m]\u001b[0m \u001b[0;34m=\u001b[0m \u001b[0;34m','\u001b[0m\u001b[0;34m\u001b[0m\u001b[0;34m\u001b[0m\u001b[0m\n\u001b[0m\u001b[1;32m     18\u001b[0m \u001b[0;34m\u001b[0m\u001b[0m\n\u001b[1;32m     19\u001b[0m \u001b[0mprint\u001b[0m\u001b[0;34m(\u001b[0m\u001b[0minput\u001b[0m\u001b[0;34m)\u001b[0m\u001b[0;34m\u001b[0m\u001b[0;34m\u001b[0m\u001b[0m\n",
      "\u001b[0;31mTypeError\u001b[0m: 'str' object does not support item assignment"
     ]
    }
   ],
   "source": [
    "import requests\n",
    "import csv\n",
    "from bs4 import BeautifulSoup as bs\n",
    "\n",
    "def get_response(url):\n",
    "    response = requests.get(url)\n",
    "    return bs(response.content, 'html.parser')\n",
    "\n",
    "raw_weather1 = get_response('https://airdensityonline.com/track-history/Melbourne_Grand_Prix_Circuit/2016-03-01/').find(class_ = 'forecastdata').text\n",
    "raw_weather1 = raw_weather1[90:]\n",
    "\n",
    "raw_weather2 = get_response('https://airdensityonline.com/track-history/Melbourne_Grand_Prix_Circuit/2016-03-20/').find(class_ = 'forecastdata').text\n",
    "raw_weather2 = raw_weather2[90:]\n",
    "\n",
    "input = 'Mar 01 12:00 am66 deg F86%30.04 Hg62 deg F81.8NW 1 mph97.43 %890 ft.\\n'\n",
    "\n",
    "input[7] = ','\n",
    "\n",
    "print(input)\n"
   ]
  },
  {
   "cell_type": "code",
   "execution_count": 62,
   "metadata": {},
   "outputs": [
    {
     "name": "stdout",
     "output_type": "stream",
     "text": [
      "Mar 01 12:00 am66 deg F86%30.04 Hg62 deg F81.8NW 1 mph97.43 %890 ft.\n",
      "Mar 01 1:00 am64 deg F89%30.04 Hg61 deg F78.9NW 1 mph97.85 %742 ft.\n",
      "Mar 01 2:00 am64 deg F89%30.02 Hg61 deg F79.0NW 3 mph97.79 %762 ft.\n",
      "Mar 01 3:00 am64 deg F90%30.00 Hg61 deg F79.9NW 2 mph97.72 %786 ft.\n",
      "Mar 01 4:00 am64 deg F89%30.00 Hg61 deg F79.0NW 2 mph97.71 %789 ft.\n",
      "Mar 01 5:00 am64 deg F88%29.98 Hg60 deg F78.2NE 2 mph97.70 %796 ft.\n",
      "Mar 01 6:00 am64 deg F89%29.98 Hg61 deg F79.1NW 3 mph97.67 %806 ft.\n",
      "Mar 01 7:00 am64 deg F90%30.00 Hg61 deg F79.9NW 4 mph97.70 %793 ft.\n",
      "Mar 01 8:00 am64 deg F89%30.02 Hg61 deg F79.0NW 4 mph97.78 %766 ft.\n",
      "Mar 01 9:00 am66 deg F86%30.01 Hg62 deg F81.9NE 5 mph97.34 %921 ft.\n",
      "Mar 01 10:00 am71 deg F71%30.01 Hg61 deg F80.3NE 6 mph96.44 %1237 ft.\n",
      "Mar 01 11:00 am79 deg F49%29.98 Hg58 deg F72.3N 7 mph95.10 %1710 ft.\n",
      "Mar 01 12:00 pm84 deg F38%29.98 Hg56 deg F65.9NW 10 mph94.35 %1976 ft.\n",
      "Mar 01 1:00 pm87 deg F30%29.95 Hg52 deg F57.2NW 12 mph93.94 %2125 ft.\n",
      "Mar 01 2:00 pm89 deg F25%29.94 Hg49 deg F50.7NW 11 mph93.68 %2219 ft.\n",
      "Mar 01 3:00 pm91 deg F21%29.92 Hg46 deg F45.3NW 8 mph93.39 %2324 ft.\n",
      "Mar 01 4:00 pm92 deg F20%29.89 Hg45 deg F44.6NW 8 mph93.16 %2406 ft.\n",
      "Mar 01 5:00 pm91 deg F22%29.88 Hg47 deg F47.6SW 5 mph93.24 %2377 ft.\n",
      "Mar 01 6:00 pm90 deg F22%29.89 Hg46 deg F46.1S 5 mph93.46 %2298 ft.\n",
      "Mar 01 7:00 pm87 deg F27%29.90 Hg49 deg F51.5SW 3 mph93.90 %2138 ft.\n",
      "Mar 01 8:00 pm78 deg F45%29.93 Hg55 deg F64.2SE 6 mph95.29 %1642 ft.\n",
      "Mar 01 9:00 pm77 deg F49%29.96 Hg56 deg F67.7SE 4 mph95.47 %1578 ft.\n",
      "Mar 01 10:00 pm76 deg F44%29.97 Hg53 deg F58.6SE 3 mph95.88 %1433 ft.\n",
      "Mar 01 11:00 pm73 deg F48%29.97 Hg52 deg F57.8NW 0 mph96.43 %1239 ft.\n",
      "\n"
     ]
    }
   ],
   "source": [
    "print(raw_weather1)"
   ]
  },
  {
   "cell_type": "code",
   "execution_count": 63,
   "metadata": {},
   "outputs": [
    {
     "name": "stdout",
     "output_type": "stream",
     "text": [
      "Mar 20 12:00 am58 deg F69%30.09 Hg48 deg F49.0SE 2 mph99.82 %60 ft.\n",
      "Mar 20 1:00 am58 deg F71%30.07 Hg49 deg F50.5SE 2 mph99.74 %89 ft.\n",
      "Mar 20 2:00 am57 deg F72%30.07 Hg48 deg F49.4SE 1 mph99.94 %20 ft.\n",
      "Mar 20 3:00 am56 deg F76%30.06 Hg48 deg F50.3SE 1 mph100.10 %-35 ft.\n",
      "Mar 20 4:00 am56 deg F79%30.06 Hg50 deg F52.3SE 0 mph100.03 %-10 ft.\n",
      "Mar 20 5:00 am55 deg F81%30.05 Hg49 deg F51.7SE 0 mph100.23 %-77 ft.\n",
      "Mar 20 6:00 am53 deg F84%30.06 Hg48 deg F49.8SE 0 mph100.67 %-229 ft.\n",
      "Mar 20 7:00 am51 deg F88%30.07 Hg47 deg F48.5SE 1 mph101.14 %-387 ft.\n",
      "Mar 20 8:00 am51 deg F89%30.09 Hg48 deg F49.0SE 1 mph101.21 %-413 ft.\n",
      "Mar 20 9:00 am57 deg F68%30.10 Hg46 deg F46.6SE 5 mph100.12 %-42 ft.\n",
      "Mar 20 10:00 am60 deg F59%30.11 Hg46 deg F45.0SE 7 mph99.60 %137 ft.\n",
      "Mar 20 11:00 am62 deg F55%30.11 Hg46 deg F45.0SE 6 mph99.24 %262 ft.\n",
      "Mar 20 12:00 pm65 deg F50%30.11 Hg46 deg F45.5E 5 mph98.63 %472 ft.\n",
      "Mar 20 1:00 pm68 deg F48%30.09 Hg48 deg F48.5E 3 mph97.94 %709 ft.\n",
      "Mar 20 2:00 pm70 deg F42%30.07 Hg46 deg F45.4SE 4 mph97.58 %835 ft.\n",
      "Mar 20 3:00 pm71 deg F41%30.05 Hg46 deg F45.9S 5 mph97.33 %923 ft.\n",
      "Mar 20 4:00 pm72 deg F42%30.04 Hg48 deg F48.7SW 5 mph97.04 %1025 ft.\n",
      "Mar 20 5:00 pm72 deg F41%30.03 Hg47 deg F47.6SE 6 mph97.03 %1029 ft.\n",
      "Mar 20 6:00 pm71 deg F45%30.03 Hg49 deg F50.5SE 8 mph97.15 %988 ft.\n",
      "Mar 20 7:00 pm68 deg F52%30.04 Hg50 deg F52.7SE 8 mph97.69 %799 ft.\n",
      "Mar 20 8:00 pm67 deg F53%30.05 Hg49 deg F51.8SE 8 mph97.94 %711 ft.\n",
      "Mar 20 9:00 pm64 deg F58%30.08 Hg49 deg F51.0SE 8 mph98.60 %483 ft.\n",
      "Mar 20 10:00 pm62 deg F62%30.08 Hg49 deg F50.8SE 6 mph99.01 %341 ft.\n",
      "Mar 20 11:00 pm61 deg F65%30.09 Hg49 deg F51.4SE 4 mph99.21 %270 ft.\n",
      "\n"
     ]
    }
   ],
   "source": [
    "print(raw_weather2)"
   ]
  },
  {
   "cell_type": "code",
   "execution_count": null,
   "metadata": {},
   "outputs": [],
   "source": []
  }
 ],
 "metadata": {
  "kernelspec": {
   "display_name": "Python 3",
   "language": "python",
   "name": "python3"
  },
  "language_info": {
   "codemirror_mode": {
    "name": "ipython",
    "version": 3
   },
   "file_extension": ".py",
   "mimetype": "text/x-python",
   "name": "python",
   "nbconvert_exporter": "python",
   "pygments_lexer": "ipython3",
   "version": "3.8.3"
  }
 },
 "nbformat": 4,
 "nbformat_minor": 4
}
