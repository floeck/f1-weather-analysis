{
 "cells": [
  {
   "cell_type": "markdown",
   "metadata": {},
   "source": [
    "# Predicting Formula 1 Performance in Track and Weather Data "
   ]
  },
  {
   "cell_type": "markdown",
   "metadata": {},
   "source": [
    "**Group:** V10FTW  \n",
    "**Members:** Oskar Floeck s3725028 & Connor Hutchinson s3544152"
   ]
  },
  {
   "cell_type": "markdown",
   "metadata": {},
   "source": [
    "## Table of contents\n",
    "\n",
    "* [Source and Description](#desc)\n",
    "* [Goals and Objectives](#goals)\n",
    "* [Data Preparation](#data)\n",
    "* [Data Exploration](#explore)\n",
    "* [Statistical Modelling & Performance Evaluation](#model)\n",
    "* [Summary & Conclusion](#conc)"
   ]
  },
  {
   "cell_type": "markdown",
   "metadata": {},
   "source": [
    "## Source and Description <a name=\"desc\">"
   ]
  },
  {
   "cell_type": "markdown",
   "metadata": {},
   "source": [
    "### Data Source"
   ]
  },
  {
   "cell_type": "markdown",
   "metadata": {},
   "source": [
    "Formula 1 Raw Data: http://ergast.com/mrd (Ergast, 2020)  \n",
    "Track Weather Data: https://www.motorsport-total.com/formel-1/ergebnisse (Motorsport-total, 2020)\n",
    "\n",
    "Given the way in which weather data was provided by the website above, a script was written to automatically grab neccesary information and store within `track_weather.csv` for analysis in this report. The full script can be [viewed here](https://github.com/floeck/f1-weather-analysis/blob/master/notebooks/scrape-weather.ipynb).\n",
    "\n",
    "* `races.csv` and `results.csv` obtained from Ergast: Contain all the relevant track data, such as fastest lap speeds, times and date.\n",
    "\n",
    "* `track_weather.csv` from motorsport-total: Contain track weather information, such as humidity etc.\n",
    "\n",
    "For the purposes of the report and due to track weather scraping limitations, the following tracks will be used in the analysis from the year 2007 to 2019. Details of these limitations are viewable on the script.\n",
    "\n",
    "<table>\n",
    "<tr>\n",
    "</tr>\n",
    "<tr>\n",
    "<td>\n",
    "    \n",
    "* Albert Park, Australia\n",
    "* Sepang, Malaysia\n",
    "* Sachir, Bahrain\n",
    "* Catalunya, Spain\n",
    "* De Monaco, Europe \n",
    "* Montreal, Canada\n",
    "* Magny Cours, France\n",
    "* Silverstone, Britain\n",
    "* Valencia, Germany\n",
    "* Hungaroring, Hungary \n",
    "    \n",
    "</td>\n",
    "<td>\n",
    "    \n",
    "* Istanbul, Turkey\n",
    "* Monza, Italy\n",
    "* De Spa, Belgium\n",
    "* Fuji, Japan\n",
    "* Shanghai, China\n",
    "* Interlagos, Brazil\n",
    "* Yas Marina, Abu Dhabi\n",
    "* Indianapolis, America\n",
    "* Austin, America\n",
    "* Hermanos, Mexico\n",
    "    \n",
    "</td>\n",
    "</tr>\n",
    "</table>"
   ]
  },
  {
   "cell_type": "markdown",
   "metadata": {},
   "source": [
    "### Descriptive Features\n",
    "\n",
    "Descriptions of data for `races.csv`\n",
    "\n",
    "| feature | type  | units  | desc  |\n",
    "|---|---|---|---|\n",
    "| raceId  | ordinal | unknown | ID of the race |\n",
    "| name | categorical | unknown  | Name of the race |\n",
    "| date | date | yyyy-mm-dd | Date of race |\n",
    "\n",
    "Descriptions of data for `results.csv`\n",
    "\n",
    "| feature | type  | units  | desc  |\n",
    "|---|---|---|---|\n",
    "| raceId  | ordinal | unknown | ID of the race |\n",
    "| fastestLapTime | positive real number | milliseconds  | Fastest lap time |\n",
    "| fastestLapSpeed | positive real number | kph | Fastest average lap speed |\n",
    "\n",
    "Descriptions of data for `track_weather.csv`\n",
    "\n",
    "| feature | type  | units  | desc  |\n",
    "|---|---|---|---|\n",
    "| track  | categorical | unknown | Track name |\n",
    "| date | date | yyyy-mm-dd | Date of race |\n",
    "| local_time | time | hh:mm:ss | Time of race |\n",
    "| weather | categorical | unknown | Track conditions |\n",
    "| temp | positive real number | celcius | Ambient temp |\n",
    "| track_temp | positive real number | celcius | Track temp |\n",
    "| humidity | positive real number | % | Ambient humidity |\n",
    "| air_pressure | positive real number | mBar | Ambient air pressure |\n",
    "| wind_speed | positive real number | m/s | Track wind speed |\n",
    "| wind_direction | categorical | direction | Track wind direction |\n"
   ]
  },
  {
   "cell_type": "markdown",
   "metadata": {},
   "source": [
    "### Target Feature\n",
    "The target feature is `fastestLapTime` which is a continuous numerical features."
   ]
  },
  {
   "cell_type": "markdown",
   "metadata": {},
   "source": [
    "## Goals and Objectives <a name=\"goals\">"
   ]
  },
  {
   "cell_type": "markdown",
   "metadata": {},
   "source": [
    "The primary goal of the report is to investigate whether or not we can accurately and reliably predict Formula 1 performance in the domain of fastest lap time via multiple linear regression, given the weather and track data we have collected."
   ]
  },
  {
   "cell_type": "markdown",
   "metadata": {},
   "source": [
    "## Data Preparation <a name=\"data\">"
   ]
  },
  {
   "cell_type": "markdown",
   "metadata": {},
   "source": [
    "### Preliminaries"
   ]
  },
  {
   "cell_type": "markdown",
   "metadata": {},
   "source": [
    "First, import all necessary modules required for the analysis. A helper function `to_milliseconds` has been written to assist in converting lap times to milliseconds, so that they can be more appropriately analysed."
   ]
  },
  {
   "cell_type": "code",
   "execution_count": 112,
   "metadata": {},
   "outputs": [],
   "source": [
    "# Module imports\n",
    "import warnings\n",
    "import pandas as pd \n",
    "import numpy as np\n",
    "import pandas as pd\n",
    "import matplotlib.pyplot as plt\n",
    "import seaborn as sns\n",
    "from sklearn import linear_model\n",
    "from sklearn.model_selection import train_test_split\n",
    "import statsmodels.api as sm\n",
    "from IPython.display import display_html, display, HTML\n",
    "\n",
    "# Disable warnings and allow large columns\n",
    "warnings.filterwarnings(\"ignore\")\n",
    "pd.set_option('display.max_columns', None)\n",
    "\n",
    "# Function that allows to convert time\n",
    "def to_milliseconds(string):\n",
    "    string = string.replace(\".\", \":\").split(\":\")\n",
    "    minutes = int(string[0])\n",
    "    seconds = int(string[1])\n",
    "    milliseconds = int(string[2])\n",
    "    return (minutes * 60000) + (seconds * 1000) + milliseconds"
   ]
  },
  {
   "cell_type": "markdown",
   "metadata": {},
   "source": [
    "Here we read in the data directly from the repository site."
   ]
  },
  {
   "cell_type": "code",
   "execution_count": 121,
   "metadata": {},
   "outputs": [],
   "source": [
    "# Read in data to notebook\n",
    "races = pd.read_csv('../data/formula-1/races.csv', sep=',')\n",
    "results = pd.read_csv('../data/formula-1/results.csv', sep=',')\n",
    "track_weather = pd.read_csv('../data/weather/track_weather.csv', sep=',')\n",
    "\n",
    "# Or if running notebook outside repository...\n",
    "#races = pd.read_csv('https://raw.githubusercontent.com/floeck/f1-weather-analysis/master/data/formula-1/races.csv', sep = ',')\n",
    "#results = pd.read_csv('https://raw.githubusercontent.com/floeck/f1-weather-analysis/master/data/formula-1/results.csv', sep=',')\n",
    "#track_weather = pd.read_csv('https://raw.githubusercontent.com/floeck/f1-weather-analysis/master/data/weather/track_weather.csv', sep=',')"
   ]
  },
  {
   "cell_type": "markdown",
   "metadata": {},
   "source": [
    "Dataset: `races.csv`"
   ]
  },
  {
   "cell_type": "code",
   "execution_count": 104,
   "metadata": {},
   "outputs": [
    {
     "data": {
      "text/html": [
       "<div>\n",
       "<style scoped>\n",
       "    .dataframe tbody tr th:only-of-type {\n",
       "        vertical-align: middle;\n",
       "    }\n",
       "\n",
       "    .dataframe tbody tr th {\n",
       "        vertical-align: top;\n",
       "    }\n",
       "\n",
       "    .dataframe thead th {\n",
       "        text-align: right;\n",
       "    }\n",
       "</style>\n",
       "<table border=\"1\" class=\"dataframe\">\n",
       "  <thead>\n",
       "    <tr style=\"text-align: right;\">\n",
       "      <th></th>\n",
       "      <th>raceId</th>\n",
       "      <th>year</th>\n",
       "      <th>round</th>\n",
       "      <th>circuitId</th>\n",
       "      <th>name</th>\n",
       "      <th>date</th>\n",
       "      <th>time</th>\n",
       "      <th>url</th>\n",
       "    </tr>\n",
       "  </thead>\n",
       "  <tbody>\n",
       "    <tr>\n",
       "      <th>685</th>\n",
       "      <td>686</td>\n",
       "      <td>1967</td>\n",
       "      <td>8</td>\n",
       "      <td>48</td>\n",
       "      <td>Canadian Grand Prix</td>\n",
       "      <td>1967-08-27</td>\n",
       "      <td>\\N</td>\n",
       "      <td>http://en.wikipedia.org/wiki/1967_Canadian_Gra...</td>\n",
       "    </tr>\n",
       "    <tr>\n",
       "      <th>117</th>\n",
       "      <td>118</td>\n",
       "      <td>2003</td>\n",
       "      <td>11</td>\n",
       "      <td>9</td>\n",
       "      <td>British Grand Prix</td>\n",
       "      <td>2003-07-20</td>\n",
       "      <td>\\N</td>\n",
       "      <td>http://en.wikipedia.org/wiki/2003_British_Gran...</td>\n",
       "    </tr>\n",
       "    <tr>\n",
       "      <th>160</th>\n",
       "      <td>161</td>\n",
       "      <td>2000</td>\n",
       "      <td>4</td>\n",
       "      <td>9</td>\n",
       "      <td>British Grand Prix</td>\n",
       "      <td>2000-04-23</td>\n",
       "      <td>\\N</td>\n",
       "      <td>http://en.wikipedia.org/wiki/2000_British_Gran...</td>\n",
       "    </tr>\n",
       "    <tr>\n",
       "      <th>729</th>\n",
       "      <td>730</td>\n",
       "      <td>1962</td>\n",
       "      <td>2</td>\n",
       "      <td>6</td>\n",
       "      <td>Monaco Grand Prix</td>\n",
       "      <td>1962-06-03</td>\n",
       "      <td>\\N</td>\n",
       "      <td>http://en.wikipedia.org/wiki/1962_Monaco_Grand...</td>\n",
       "    </tr>\n",
       "    <tr>\n",
       "      <th>94</th>\n",
       "      <td>95</td>\n",
       "      <td>2004</td>\n",
       "      <td>6</td>\n",
       "      <td>6</td>\n",
       "      <td>Monaco Grand Prix</td>\n",
       "      <td>2004-05-23</td>\n",
       "      <td>\\N</td>\n",
       "      <td>http://en.wikipedia.org/wiki/2004_Monaco_Grand...</td>\n",
       "    </tr>\n",
       "  </tbody>\n",
       "</table>\n",
       "</div>"
      ],
      "text/plain": [
       "     raceId  year  round  circuitId                 name        date time  \\\n",
       "685     686  1967      8         48  Canadian Grand Prix  1967-08-27   \\N   \n",
       "117     118  2003     11          9   British Grand Prix  2003-07-20   \\N   \n",
       "160     161  2000      4          9   British Grand Prix  2000-04-23   \\N   \n",
       "729     730  1962      2          6    Monaco Grand Prix  1962-06-03   \\N   \n",
       "94       95  2004      6          6    Monaco Grand Prix  2004-05-23   \\N   \n",
       "\n",
       "                                                   url  \n",
       "685  http://en.wikipedia.org/wiki/1967_Canadian_Gra...  \n",
       "117  http://en.wikipedia.org/wiki/2003_British_Gran...  \n",
       "160  http://en.wikipedia.org/wiki/2000_British_Gran...  \n",
       "729  http://en.wikipedia.org/wiki/1962_Monaco_Grand...  \n",
       "94   http://en.wikipedia.org/wiki/2004_Monaco_Grand...  "
      ]
     },
     "execution_count": 104,
     "metadata": {},
     "output_type": "execute_result"
    }
   ],
   "source": [
    "races.sample(5, random_state=999)"
   ]
  },
  {
   "cell_type": "markdown",
   "metadata": {},
   "source": [
    "Dataset: `results.csv`"
   ]
  },
  {
   "cell_type": "code",
   "execution_count": 105,
   "metadata": {},
   "outputs": [
    {
     "data": {
      "text/html": [
       "<div>\n",
       "<style scoped>\n",
       "    .dataframe tbody tr th:only-of-type {\n",
       "        vertical-align: middle;\n",
       "    }\n",
       "\n",
       "    .dataframe tbody tr th {\n",
       "        vertical-align: top;\n",
       "    }\n",
       "\n",
       "    .dataframe thead th {\n",
       "        text-align: right;\n",
       "    }\n",
       "</style>\n",
       "<table border=\"1\" class=\"dataframe\">\n",
       "  <thead>\n",
       "    <tr style=\"text-align: right;\">\n",
       "      <th></th>\n",
       "      <th>resultId</th>\n",
       "      <th>raceId</th>\n",
       "      <th>driverId</th>\n",
       "      <th>constructorId</th>\n",
       "      <th>number</th>\n",
       "      <th>grid</th>\n",
       "      <th>position</th>\n",
       "      <th>positionText</th>\n",
       "      <th>positionOrder</th>\n",
       "      <th>points</th>\n",
       "      <th>laps</th>\n",
       "      <th>time</th>\n",
       "      <th>milliseconds</th>\n",
       "      <th>fastestLap</th>\n",
       "      <th>rank</th>\n",
       "      <th>fastestLapTime</th>\n",
       "      <th>fastestLapSpeed</th>\n",
       "      <th>statusId</th>\n",
       "    </tr>\n",
       "  </thead>\n",
       "  <tbody>\n",
       "    <tr>\n",
       "      <th>20959</th>\n",
       "      <td>20962</td>\n",
       "      <td>848</td>\n",
       "      <td>5</td>\n",
       "      <td>205</td>\n",
       "      <td>20</td>\n",
       "      <td>19</td>\n",
       "      <td>19</td>\n",
       "      <td>19</td>\n",
       "      <td>19</td>\n",
       "      <td>0.0</td>\n",
       "      <td>55</td>\n",
       "      <td>\\N</td>\n",
       "      <td>\\N</td>\n",
       "      <td>44</td>\n",
       "      <td>19</td>\n",
       "      <td>1:45.055</td>\n",
       "      <td>185.697</td>\n",
       "      <td>12</td>\n",
       "    </tr>\n",
       "    <tr>\n",
       "      <th>24036</th>\n",
       "      <td>24042</td>\n",
       "      <td>1001</td>\n",
       "      <td>807</td>\n",
       "      <td>4</td>\n",
       "      <td>27</td>\n",
       "      <td>20</td>\n",
       "      <td>\\N</td>\n",
       "      <td>R</td>\n",
       "      <td>20</td>\n",
       "      <td>0.0</td>\n",
       "      <td>0</td>\n",
       "      <td>\\N</td>\n",
       "      <td>\\N</td>\n",
       "      <td>\\N</td>\n",
       "      <td>0</td>\n",
       "      <td>\\N</td>\n",
       "      <td>\\N</td>\n",
       "      <td>3</td>\n",
       "    </tr>\n",
       "    <tr>\n",
       "      <th>6593</th>\n",
       "      <td>6594</td>\n",
       "      <td>308</td>\n",
       "      <td>138</td>\n",
       "      <td>25</td>\n",
       "      <td>3</td>\n",
       "      <td>11</td>\n",
       "      <td>\\N</td>\n",
       "      <td>R</td>\n",
       "      <td>20</td>\n",
       "      <td>0.0</td>\n",
       "      <td>35</td>\n",
       "      <td>\\N</td>\n",
       "      <td>\\N</td>\n",
       "      <td>\\N</td>\n",
       "      <td>\\N</td>\n",
       "      <td>\\N</td>\n",
       "      <td>\\N</td>\n",
       "      <td>20</td>\n",
       "    </tr>\n",
       "    <tr>\n",
       "      <th>5388</th>\n",
       "      <td>5389</td>\n",
       "      <td>266</td>\n",
       "      <td>50</td>\n",
       "      <td>22</td>\n",
       "      <td>6</td>\n",
       "      <td>12</td>\n",
       "      <td>3</td>\n",
       "      <td>3</td>\n",
       "      <td>3</td>\n",
       "      <td>4.0</td>\n",
       "      <td>77</td>\n",
       "      <td>+1:10.329</td>\n",
       "      <td>6550514</td>\n",
       "      <td>\\N</td>\n",
       "      <td>\\N</td>\n",
       "      <td>\\N</td>\n",
       "      <td>\\N</td>\n",
       "      <td>1</td>\n",
       "    </tr>\n",
       "    <tr>\n",
       "      <th>1691</th>\n",
       "      <td>1692</td>\n",
       "      <td>98</td>\n",
       "      <td>13</td>\n",
       "      <td>15</td>\n",
       "      <td>12</td>\n",
       "      <td>15</td>\n",
       "      <td>\\N</td>\n",
       "      <td>R</td>\n",
       "      <td>18</td>\n",
       "      <td>0.0</td>\n",
       "      <td>0</td>\n",
       "      <td>\\N</td>\n",
       "      <td>\\N</td>\n",
       "      <td>\\N</td>\n",
       "      <td>\\N</td>\n",
       "      <td>\\N</td>\n",
       "      <td>\\N</td>\n",
       "      <td>4</td>\n",
       "    </tr>\n",
       "  </tbody>\n",
       "</table>\n",
       "</div>"
      ],
      "text/plain": [
       "       resultId  raceId  driverId  constructorId number  grid position  \\\n",
       "20959     20962     848         5            205     20    19       19   \n",
       "24036     24042    1001       807              4     27    20       \\N   \n",
       "6593       6594     308       138             25      3    11       \\N   \n",
       "5388       5389     266        50             22      6    12        3   \n",
       "1691       1692      98        13             15     12    15       \\N   \n",
       "\n",
       "      positionText  positionOrder  points  laps       time milliseconds  \\\n",
       "20959           19             19     0.0    55         \\N           \\N   \n",
       "24036            R             20     0.0     0         \\N           \\N   \n",
       "6593             R             20     0.0    35         \\N           \\N   \n",
       "5388             3              3     4.0    77  +1:10.329      6550514   \n",
       "1691             R             18     0.0     0         \\N           \\N   \n",
       "\n",
       "      fastestLap rank fastestLapTime fastestLapSpeed  statusId  \n",
       "20959         44   19       1:45.055         185.697        12  \n",
       "24036         \\N    0             \\N              \\N         3  \n",
       "6593          \\N   \\N             \\N              \\N        20  \n",
       "5388          \\N   \\N             \\N              \\N         1  \n",
       "1691          \\N   \\N             \\N              \\N         4  "
      ]
     },
     "execution_count": 105,
     "metadata": {},
     "output_type": "execute_result"
    }
   ],
   "source": [
    "results.sample(5, random_state=999)"
   ]
  },
  {
   "cell_type": "markdown",
   "metadata": {},
   "source": [
    "Dataset: `track_weather.csv`"
   ]
  },
  {
   "cell_type": "code",
   "execution_count": 106,
   "metadata": {},
   "outputs": [
    {
     "data": {
      "text/html": [
       "<div>\n",
       "<style scoped>\n",
       "    .dataframe tbody tr th:only-of-type {\n",
       "        vertical-align: middle;\n",
       "    }\n",
       "\n",
       "    .dataframe tbody tr th {\n",
       "        vertical-align: top;\n",
       "    }\n",
       "\n",
       "    .dataframe thead th {\n",
       "        text-align: right;\n",
       "    }\n",
       "</style>\n",
       "<table border=\"1\" class=\"dataframe\">\n",
       "  <thead>\n",
       "    <tr style=\"text-align: right;\">\n",
       "      <th></th>\n",
       "      <th>track</th>\n",
       "      <th>date</th>\n",
       "      <th>local_time</th>\n",
       "      <th>weather</th>\n",
       "      <th>temp</th>\n",
       "      <th>track_temp</th>\n",
       "      <th>humidity</th>\n",
       "      <th>air_pressure</th>\n",
       "      <th>wind_speed</th>\n",
       "      <th>wind_direction</th>\n",
       "    </tr>\n",
       "  </thead>\n",
       "  <tbody>\n",
       "    <tr>\n",
       "      <th>96</th>\n",
       "      <td>austin</td>\n",
       "      <td>2012-11-18</td>\n",
       "      <td>13:00:00</td>\n",
       "      <td>sunny</td>\n",
       "      <td>24.0</td>\n",
       "      <td>32.0</td>\n",
       "      <td>29.0</td>\n",
       "      <td>1004.0</td>\n",
       "      <td>5.0</td>\n",
       "      <td>south</td>\n",
       "    </tr>\n",
       "    <tr>\n",
       "      <th>245</th>\n",
       "      <td>abu-dhabi</td>\n",
       "      <td>2018-11-25</td>\n",
       "      <td>17:10:00</td>\n",
       "      <td>clear, short showers</td>\n",
       "      <td>29.0</td>\n",
       "      <td>31.0</td>\n",
       "      <td>55.0</td>\n",
       "      <td>1014.0</td>\n",
       "      <td>3.5</td>\n",
       "      <td>turning southeast</td>\n",
       "    </tr>\n",
       "    <tr>\n",
       "      <th>68</th>\n",
       "      <td>montreal</td>\n",
       "      <td>2010-06-13</td>\n",
       "      <td>12:00:00</td>\n",
       "      <td>slightly cloudy</td>\n",
       "      <td>26.0</td>\n",
       "      <td>38.0</td>\n",
       "      <td>42.0</td>\n",
       "      <td>1011.0</td>\n",
       "      <td>3.0</td>\n",
       "      <td>northeast</td>\n",
       "    </tr>\n",
       "    <tr>\n",
       "      <th>162</th>\n",
       "      <td>istanbul</td>\n",
       "      <td>2013</td>\n",
       "      <td>NaN</td>\n",
       "      <td>NaN</td>\n",
       "      <td>NaN</td>\n",
       "      <td>NaN</td>\n",
       "      <td>NaN</td>\n",
       "      <td>NaN</td>\n",
       "      <td>NaN</td>\n",
       "      <td>NaN</td>\n",
       "    </tr>\n",
       "    <tr>\n",
       "      <th>82</th>\n",
       "      <td>indianapolis</td>\n",
       "      <td>2011</td>\n",
       "      <td>NaN</td>\n",
       "      <td>NaN</td>\n",
       "      <td>NaN</td>\n",
       "      <td>NaN</td>\n",
       "      <td>NaN</td>\n",
       "      <td>NaN</td>\n",
       "      <td>NaN</td>\n",
       "      <td>NaN</td>\n",
       "    </tr>\n",
       "  </tbody>\n",
       "</table>\n",
       "</div>"
      ],
      "text/plain": [
       "            track        date local_time               weather  temp  \\\n",
       "96         austin  2012-11-18   13:00:00                 sunny  24.0   \n",
       "245     abu-dhabi  2018-11-25   17:10:00  clear, short showers  29.0   \n",
       "68       montreal  2010-06-13   12:00:00       slightly cloudy  26.0   \n",
       "162      istanbul        2013        NaN                   NaN   NaN   \n",
       "82   indianapolis        2011        NaN                   NaN   NaN   \n",
       "\n",
       "     track_temp  humidity  air_pressure  wind_speed     wind_direction  \n",
       "96         32.0      29.0        1004.0         5.0              south  \n",
       "245        31.0      55.0        1014.0         3.5  turning southeast  \n",
       "68         38.0      42.0        1011.0         3.0          northeast  \n",
       "162         NaN       NaN           NaN         NaN                NaN  \n",
       "82          NaN       NaN           NaN         NaN                NaN  "
      ]
     },
     "execution_count": 106,
     "metadata": {},
     "output_type": "execute_result"
    }
   ],
   "source": [
    "track_weather.sample(5, random_state=999)"
   ]
  },
  {
   "cell_type": "markdown",
   "metadata": {},
   "source": [
    "### Data Cleaning and Transformation"
   ]
  },
  {
   "cell_type": "markdown",
   "metadata": {},
   "source": [
    "Now that all the data is imported, we can begin cleaning and remove unneccesary information."
   ]
  },
  {
   "cell_type": "code",
   "execution_count": 122,
   "metadata": {},
   "outputs": [],
   "source": [
    "# Drop unneccesary columns\n",
    "races = races.drop(columns = ['year', 'circuitId', 'round', 'time', 'url'])\n",
    "results = results.drop(columns = ['resultId', 'driverId', 'constructorId', 'number', 'grid', 'position',\n",
    "                                  'positionText', 'positionOrder', 'points', 'laps', 'fastestLap', 'time',\n",
    "                                  'milliseconds', 'fastestLap', 'rank', 'statusId'])\n",
    "track_weather = track_weather.drop(columns = 'local_time')\n",
    "\n",
    "# Update problem data in columns\n",
    "results = results.replace(r'\\\\N','null', regex=True)\n",
    "\n",
    "# Query only those with races finishes\n",
    "results = results.loc[results['fastestLapTime'] != 'null']\n",
    "\n",
    "# Convert fastest lap speed to float\n",
    "results['fastestLapSpeed'] = results['fastestLapSpeed'].astype(float)\n",
    "results.rename(columns={'fastestLapSpeed': 'lapAverageSpeed', 'fastestLapTime': 'lapTime'}, inplace = True)\n",
    "\n",
    "# Convert fastest time to milliseconds\n",
    "results['lapTime'] = results['lapTime'].apply(to_milliseconds)\n",
    "\n",
    "# Group by track and date, then average fastest lap and top speed\n",
    "races_results = races.merge(results, on = 'raceId').groupby(['raceId', 'name', 'date']).mean()\n",
    "df = races_results.merge(track_weather, on = 'date')\n",
    "\n",
    "# Add rain column\n",
    "rain_desc = [\"rain\", \"shower\", \"drizzle\", \"wet\"]\n",
    "df['rain'] = np.where(df['weather'].str.contains('|'.join(rain_desc)), 'wet', 'dry')\n",
    "\n",
    "# Add relevant categorical columns\n",
    "df['year'] = df['date'].str[:4].astype(int).astype('category')\n",
    "df['track'] = df['track'].astype('category')\n",
    "df['rain'] = df['rain'].astype('category')\n",
    "\n",
    "# Round & export dataframe to csv\n",
    "df = df.round(3)\n",
    "df.to_csv('../data/V10FTW_Data.csv')"
   ]
  },
  {
   "cell_type": "markdown",
   "metadata": {},
   "source": [
    "Now lets have a look to see our dataframe features match the description outlined earlier in the report."
   ]
  },
  {
   "cell_type": "code",
   "execution_count": 124,
   "metadata": {},
   "outputs": [
    {
     "name": "stdout",
     "output_type": "stream",
     "text": [
      "Shape of the dataset is (215, 13) \n",
      "\n",
      "date                 object\n",
      "lapTime             float64\n",
      "lapAverageSpeed     float64\n",
      "track              category\n",
      "weather              object\n",
      "temp                float64\n",
      "track_temp          float64\n",
      "humidity            float64\n",
      "air_pressure        float64\n",
      "wind_speed          float64\n",
      "wind_direction       object\n",
      "rain               category\n",
      "year               category\n",
      "dtype: object\n"
     ]
    }
   ],
   "source": [
    "print(f\"Shape of the dataset is {df.shape} \\n\")\n",
    "print(df.dtypes)"
   ]
  },
  {
   "cell_type": "markdown",
   "metadata": {},
   "source": [
    "### Check for Missing Values"
   ]
  },
  {
   "cell_type": "code",
   "execution_count": 125,
   "metadata": {},
   "outputs": [
    {
     "name": "stdout",
     "output_type": "stream",
     "text": [
      "\n",
      "Number of missing values for each feature:\n",
      "date               0\n",
      "lapTime            0\n",
      "lapAverageSpeed    0\n",
      "track              0\n",
      "weather            0\n",
      "temp               0\n",
      "track_temp         0\n",
      "humidity           0\n",
      "air_pressure       0\n",
      "wind_speed         0\n",
      "wind_direction     0\n",
      "rain               0\n",
      "year               0\n",
      "dtype: int64\n"
     ]
    }
   ],
   "source": [
    "print(f\"\\nNumber of missing values for each feature:\")\n",
    "print(df.isnull().sum())"
   ]
  },
  {
   "cell_type": "markdown",
   "metadata": {},
   "source": [
    "### Summary Statistics"
   ]
  },
  {
   "cell_type": "code",
   "execution_count": 126,
   "metadata": {},
   "outputs": [
    {
     "data": {
      "text/html": [
       "<b>Table 1: Summary of continuous features</b>"
      ],
      "text/plain": [
       "<IPython.core.display.HTML object>"
      ]
     },
     "metadata": {},
     "output_type": "display_data"
    },
    {
     "data": {
      "text/html": [
       "<div>\n",
       "<style scoped>\n",
       "    .dataframe tbody tr th:only-of-type {\n",
       "        vertical-align: middle;\n",
       "    }\n",
       "\n",
       "    .dataframe tbody tr th {\n",
       "        vertical-align: top;\n",
       "    }\n",
       "\n",
       "    .dataframe thead th {\n",
       "        text-align: right;\n",
       "    }\n",
       "</style>\n",
       "<table border=\"1\" class=\"dataframe\">\n",
       "  <thead>\n",
       "    <tr style=\"text-align: right;\">\n",
       "      <th></th>\n",
       "      <th>lapTime</th>\n",
       "      <th>lapAverageSpeed</th>\n",
       "      <th>temp</th>\n",
       "      <th>track_temp</th>\n",
       "      <th>humidity</th>\n",
       "      <th>air_pressure</th>\n",
       "      <th>wind_speed</th>\n",
       "    </tr>\n",
       "  </thead>\n",
       "  <tbody>\n",
       "    <tr>\n",
       "      <th>count</th>\n",
       "      <td>215.000000</td>\n",
       "      <td>215.000000</td>\n",
       "      <td>215.000000</td>\n",
       "      <td>215.000000</td>\n",
       "      <td>215.000000</td>\n",
       "      <td>215.000000</td>\n",
       "      <td>215.000000</td>\n",
       "    </tr>\n",
       "    <tr>\n",
       "      <th>mean</th>\n",
       "      <td>92600.561456</td>\n",
       "      <td>201.440167</td>\n",
       "      <td>24.074419</td>\n",
       "      <td>35.190698</td>\n",
       "      <td>51.269767</td>\n",
       "      <td>987.548837</td>\n",
       "      <td>2.922326</td>\n",
       "    </tr>\n",
       "    <tr>\n",
       "      <th>std</th>\n",
       "      <td>11098.117244</td>\n",
       "      <td>19.865508</td>\n",
       "      <td>5.040402</td>\n",
       "      <td>9.345193</td>\n",
       "      <td>16.970061</td>\n",
       "      <td>72.822125</td>\n",
       "      <td>1.644096</td>\n",
       "    </tr>\n",
       "    <tr>\n",
       "      <th>min</th>\n",
       "      <td>72460.200000</td>\n",
       "      <td>144.650000</td>\n",
       "      <td>12.000000</td>\n",
       "      <td>14.000000</td>\n",
       "      <td>5.000000</td>\n",
       "      <td>99.000000</td>\n",
       "      <td>0.600000</td>\n",
       "    </tr>\n",
       "    <tr>\n",
       "      <th>25%</th>\n",
       "      <td>83092.395500</td>\n",
       "      <td>191.745000</td>\n",
       "      <td>20.500000</td>\n",
       "      <td>29.000000</td>\n",
       "      <td>40.000000</td>\n",
       "      <td>991.000000</td>\n",
       "      <td>1.500000</td>\n",
       "    </tr>\n",
       "    <tr>\n",
       "      <th>50%</th>\n",
       "      <td>92599.222000</td>\n",
       "      <td>200.785000</td>\n",
       "      <td>24.000000</td>\n",
       "      <td>34.000000</td>\n",
       "      <td>50.000000</td>\n",
       "      <td>1003.000000</td>\n",
       "      <td>2.500000</td>\n",
       "    </tr>\n",
       "    <tr>\n",
       "      <th>75%</th>\n",
       "      <td>100946.418000</td>\n",
       "      <td>213.594500</td>\n",
       "      <td>27.500000</td>\n",
       "      <td>42.000000</td>\n",
       "      <td>61.000000</td>\n",
       "      <td>1012.000000</td>\n",
       "      <td>4.000000</td>\n",
       "    </tr>\n",
       "    <tr>\n",
       "      <th>max</th>\n",
       "      <td>121779.435000</td>\n",
       "      <td>248.377000</td>\n",
       "      <td>37.000000</td>\n",
       "      <td>60.000000</td>\n",
       "      <td>98.000000</td>\n",
       "      <td>1025.000000</td>\n",
       "      <td>8.000000</td>\n",
       "    </tr>\n",
       "  </tbody>\n",
       "</table>\n",
       "</div>"
      ],
      "text/plain": [
       "             lapTime  lapAverageSpeed        temp  track_temp    humidity  \\\n",
       "count     215.000000       215.000000  215.000000  215.000000  215.000000   \n",
       "mean    92600.561456       201.440167   24.074419   35.190698   51.269767   \n",
       "std     11098.117244        19.865508    5.040402    9.345193   16.970061   \n",
       "min     72460.200000       144.650000   12.000000   14.000000    5.000000   \n",
       "25%     83092.395500       191.745000   20.500000   29.000000   40.000000   \n",
       "50%     92599.222000       200.785000   24.000000   34.000000   50.000000   \n",
       "75%    100946.418000       213.594500   27.500000   42.000000   61.000000   \n",
       "max    121779.435000       248.377000   37.000000   60.000000   98.000000   \n",
       "\n",
       "       air_pressure  wind_speed  \n",
       "count    215.000000  215.000000  \n",
       "mean     987.548837    2.922326  \n",
       "std       72.822125    1.644096  \n",
       "min       99.000000    0.600000  \n",
       "25%      991.000000    1.500000  \n",
       "50%     1003.000000    2.500000  \n",
       "75%     1012.000000    4.000000  \n",
       "max     1025.000000    8.000000  "
      ]
     },
     "execution_count": 126,
     "metadata": {},
     "output_type": "execute_result"
    }
   ],
   "source": [
    "display(HTML('<b>Table 1: Summary of continuous features</b>'))\n",
    "df.describe(include='float64')"
   ]
  },
  {
   "cell_type": "code",
   "execution_count": 127,
   "metadata": {},
   "outputs": [
    {
     "data": {
      "text/html": [
       "<b>Table 2: Summary of categorical features</b>"
      ],
      "text/plain": [
       "<IPython.core.display.HTML object>"
      ]
     },
     "metadata": {},
     "output_type": "display_data"
    },
    {
     "data": {
      "text/html": [
       "<div>\n",
       "<style scoped>\n",
       "    .dataframe tbody tr th:only-of-type {\n",
       "        vertical-align: middle;\n",
       "    }\n",
       "\n",
       "    .dataframe tbody tr th {\n",
       "        vertical-align: top;\n",
       "    }\n",
       "\n",
       "    .dataframe thead th {\n",
       "        text-align: right;\n",
       "    }\n",
       "</style>\n",
       "<table border=\"1\" class=\"dataframe\">\n",
       "  <thead>\n",
       "    <tr style=\"text-align: right;\">\n",
       "      <th></th>\n",
       "      <th>date</th>\n",
       "      <th>track</th>\n",
       "      <th>weather</th>\n",
       "      <th>wind_direction</th>\n",
       "      <th>rain</th>\n",
       "      <th>year</th>\n",
       "    </tr>\n",
       "  </thead>\n",
       "  <tbody>\n",
       "    <tr>\n",
       "      <th>count</th>\n",
       "      <td>215</td>\n",
       "      <td>215</td>\n",
       "      <td>215</td>\n",
       "      <td>215</td>\n",
       "      <td>215</td>\n",
       "      <td>215</td>\n",
       "    </tr>\n",
       "    <tr>\n",
       "      <th>unique</th>\n",
       "      <td>206</td>\n",
       "      <td>20</td>\n",
       "      <td>34</td>\n",
       "      <td>16</td>\n",
       "      <td>2</td>\n",
       "      <td>13</td>\n",
       "    </tr>\n",
       "    <tr>\n",
       "      <th>top</th>\n",
       "      <td>2018-10-21</td>\n",
       "      <td>interlagos</td>\n",
       "      <td>sunny</td>\n",
       "      <td>south</td>\n",
       "      <td>dry</td>\n",
       "      <td>2016</td>\n",
       "    </tr>\n",
       "    <tr>\n",
       "      <th>freq</th>\n",
       "      <td>2</td>\n",
       "      <td>13</td>\n",
       "      <td>83</td>\n",
       "      <td>31</td>\n",
       "      <td>182</td>\n",
       "      <td>18</td>\n",
       "    </tr>\n",
       "  </tbody>\n",
       "</table>\n",
       "</div>"
      ],
      "text/plain": [
       "              date       track weather wind_direction rain  year\n",
       "count          215         215     215            215  215   215\n",
       "unique         206          20      34             16    2    13\n",
       "top     2018-10-21  interlagos   sunny          south  dry  2016\n",
       "freq             2          13      83             31  182    18"
      ]
     },
     "execution_count": 127,
     "metadata": {},
     "output_type": "execute_result"
    }
   ],
   "source": [
    "display(HTML('<b>Table 2: Summary of categorical features</b>'))\n",
    "df.describe(include=['category', 'object'])"
   ]
  },
  {
   "cell_type": "markdown",
   "metadata": {},
   "source": [
    "### Continuous Features"
   ]
  },
  {
   "cell_type": "markdown",
   "metadata": {},
   "source": [
    "Testing for potential multicollinearity problems that may effect our models performance."
   ]
  },
  {
   "cell_type": "code",
   "execution_count": 128,
   "metadata": {},
   "outputs": [
    {
     "data": {
      "text/html": [
       "<div>\n",
       "<style scoped>\n",
       "    .dataframe tbody tr th:only-of-type {\n",
       "        vertical-align: middle;\n",
       "    }\n",
       "\n",
       "    .dataframe tbody tr th {\n",
       "        vertical-align: top;\n",
       "    }\n",
       "\n",
       "    .dataframe thead th {\n",
       "        text-align: right;\n",
       "    }\n",
       "</style>\n",
       "<table border=\"1\" class=\"dataframe\">\n",
       "  <thead>\n",
       "    <tr style=\"text-align: right;\">\n",
       "      <th></th>\n",
       "      <th>lapTime</th>\n",
       "      <th>lapAverageSpeed</th>\n",
       "      <th>temp</th>\n",
       "      <th>track_temp</th>\n",
       "      <th>humidity</th>\n",
       "      <th>air_pressure</th>\n",
       "      <th>wind_speed</th>\n",
       "    </tr>\n",
       "  </thead>\n",
       "  <tbody>\n",
       "    <tr>\n",
       "      <th>lapTime</th>\n",
       "      <td>1.000000</td>\n",
       "      <td>0.001423</td>\n",
       "      <td>-0.052734</td>\n",
       "      <td>-0.356947</td>\n",
       "      <td>0.160068</td>\n",
       "      <td>0.138620</td>\n",
       "      <td>0.187672</td>\n",
       "    </tr>\n",
       "    <tr>\n",
       "      <th>lapAverageSpeed</th>\n",
       "      <td>0.001423</td>\n",
       "      <td>1.000000</td>\n",
       "      <td>-0.071805</td>\n",
       "      <td>-0.003104</td>\n",
       "      <td>-0.078459</td>\n",
       "      <td>-0.215872</td>\n",
       "      <td>0.053095</td>\n",
       "    </tr>\n",
       "    <tr>\n",
       "      <th>temp</th>\n",
       "      <td>-0.052734</td>\n",
       "      <td>-0.071805</td>\n",
       "      <td>1.000000</td>\n",
       "      <td>0.616918</td>\n",
       "      <td>-0.318113</td>\n",
       "      <td>0.073936</td>\n",
       "      <td>-0.116751</td>\n",
       "    </tr>\n",
       "    <tr>\n",
       "      <th>track_temp</th>\n",
       "      <td>-0.356947</td>\n",
       "      <td>-0.003104</td>\n",
       "      <td>0.616918</td>\n",
       "      <td>1.000000</td>\n",
       "      <td>-0.472892</td>\n",
       "      <td>-0.082002</td>\n",
       "      <td>-0.205659</td>\n",
       "    </tr>\n",
       "    <tr>\n",
       "      <th>humidity</th>\n",
       "      <td>0.160068</td>\n",
       "      <td>-0.078459</td>\n",
       "      <td>-0.318113</td>\n",
       "      <td>-0.472892</td>\n",
       "      <td>1.000000</td>\n",
       "      <td>-0.076109</td>\n",
       "      <td>0.078590</td>\n",
       "    </tr>\n",
       "    <tr>\n",
       "      <th>air_pressure</th>\n",
       "      <td>0.138620</td>\n",
       "      <td>-0.215872</td>\n",
       "      <td>0.073936</td>\n",
       "      <td>-0.082002</td>\n",
       "      <td>-0.076109</td>\n",
       "      <td>1.000000</td>\n",
       "      <td>-0.029121</td>\n",
       "    </tr>\n",
       "    <tr>\n",
       "      <th>wind_speed</th>\n",
       "      <td>0.187672</td>\n",
       "      <td>0.053095</td>\n",
       "      <td>-0.116751</td>\n",
       "      <td>-0.205659</td>\n",
       "      <td>0.078590</td>\n",
       "      <td>-0.029121</td>\n",
       "      <td>1.000000</td>\n",
       "    </tr>\n",
       "  </tbody>\n",
       "</table>\n",
       "</div>"
      ],
      "text/plain": [
       "                  lapTime  lapAverageSpeed      temp  track_temp  humidity  \\\n",
       "lapTime          1.000000         0.001423 -0.052734   -0.356947  0.160068   \n",
       "lapAverageSpeed  0.001423         1.000000 -0.071805   -0.003104 -0.078459   \n",
       "temp            -0.052734        -0.071805  1.000000    0.616918 -0.318113   \n",
       "track_temp      -0.356947        -0.003104  0.616918    1.000000 -0.472892   \n",
       "humidity         0.160068        -0.078459 -0.318113   -0.472892  1.000000   \n",
       "air_pressure     0.138620        -0.215872  0.073936   -0.082002 -0.076109   \n",
       "wind_speed       0.187672         0.053095 -0.116751   -0.205659  0.078590   \n",
       "\n",
       "                 air_pressure  wind_speed  \n",
       "lapTime              0.138620    0.187672  \n",
       "lapAverageSpeed     -0.215872    0.053095  \n",
       "temp                 0.073936   -0.116751  \n",
       "track_temp          -0.082002   -0.205659  \n",
       "humidity            -0.076109    0.078590  \n",
       "air_pressure         1.000000   -0.029121  \n",
       "wind_speed          -0.029121    1.000000  "
      ]
     },
     "execution_count": 128,
     "metadata": {},
     "output_type": "execute_result"
    }
   ],
   "source": [
    "df.corr(method = 'spearman')"
   ]
  },
  {
   "cell_type": "markdown",
   "metadata": {},
   "source": [
    "This information may be more interpretable later on when we develop our models for `lapTime`. On first glance, it seems `air_pressure` is going to have little predictive power, due to its low range in Table 1 and lack of relationship with other features."
   ]
  },
  {
   "cell_type": "markdown",
   "metadata": {},
   "source": [
    "Now specifically investigating the target features of our report."
   ]
  },
  {
   "cell_type": "code",
   "execution_count": 129,
   "metadata": {},
   "outputs": [
    {
     "data": {
      "text/html": [
       "<div>\n",
       "<style scoped>\n",
       "    .dataframe tbody tr th:only-of-type {\n",
       "        vertical-align: middle;\n",
       "    }\n",
       "\n",
       "    .dataframe tbody tr th {\n",
       "        vertical-align: top;\n",
       "    }\n",
       "\n",
       "    .dataframe thead th {\n",
       "        text-align: right;\n",
       "    }\n",
       "</style>\n",
       "<table border=\"1\" class=\"dataframe\">\n",
       "  <thead>\n",
       "    <tr style=\"text-align: right;\">\n",
       "      <th></th>\n",
       "      <th>lapTime</th>\n",
       "    </tr>\n",
       "  </thead>\n",
       "  <tbody>\n",
       "    <tr>\n",
       "      <th>count</th>\n",
       "      <td>215.000000</td>\n",
       "    </tr>\n",
       "    <tr>\n",
       "      <th>mean</th>\n",
       "      <td>92600.561456</td>\n",
       "    </tr>\n",
       "    <tr>\n",
       "      <th>std</th>\n",
       "      <td>11098.117244</td>\n",
       "    </tr>\n",
       "    <tr>\n",
       "      <th>min</th>\n",
       "      <td>72460.200000</td>\n",
       "    </tr>\n",
       "    <tr>\n",
       "      <th>25%</th>\n",
       "      <td>83092.395500</td>\n",
       "    </tr>\n",
       "    <tr>\n",
       "      <th>50%</th>\n",
       "      <td>92599.222000</td>\n",
       "    </tr>\n",
       "    <tr>\n",
       "      <th>75%</th>\n",
       "      <td>100946.418000</td>\n",
       "    </tr>\n",
       "    <tr>\n",
       "      <th>max</th>\n",
       "      <td>121779.435000</td>\n",
       "    </tr>\n",
       "  </tbody>\n",
       "</table>\n",
       "</div>"
      ],
      "text/plain": [
       "             lapTime\n",
       "count     215.000000\n",
       "mean    92600.561456\n",
       "std     11098.117244\n",
       "min     72460.200000\n",
       "25%     83092.395500\n",
       "50%     92599.222000\n",
       "75%    100946.418000\n",
       "max    121779.435000"
      ]
     },
     "execution_count": 129,
     "metadata": {},
     "output_type": "execute_result"
    }
   ],
   "source": [
    "df[['lapTime']].describe()"
   ]
  },
  {
   "cell_type": "markdown",
   "metadata": {},
   "source": [
    "Range of `lapTime` seems suitable, as does its variance."
   ]
  },
  {
   "cell_type": "markdown",
   "metadata": {},
   "source": [
    "### Categorical Features"
   ]
  },
  {
   "cell_type": "markdown",
   "metadata": {},
   "source": [
    "We can now safely remove the `date` and `weather` columns as `year` sufficiently describes date, and `rain` describes the track conditions."
   ]
  },
  {
   "cell_type": "code",
   "execution_count": 130,
   "metadata": {},
   "outputs": [],
   "source": [
    "df = df.drop(columns=['date', 'weather'])"
   ]
  },
  {
   "cell_type": "markdown",
   "metadata": {},
   "source": [
    "Now lets investigate the categorical features of our dataframe."
   ]
  },
  {
   "cell_type": "code",
   "execution_count": 131,
   "metadata": {},
   "outputs": [
    {
     "name": "stdout",
     "output_type": "stream",
     "text": [
      "Unique values for track\n",
      "[albert-park, sepang, shanghai, sachir, catalunya, ..., montreal, magny-cours, indianapolis, austin, mexico]\n",
      "Length: 20\n",
      "Categories (20, object): [albert-park, sepang, shanghai, sachir, ..., magny-cours, indianapolis, austin, mexico]\n",
      "\n",
      "Unique values for rain\n",
      "[dry, wet]\n",
      "Categories (2, object): [dry, wet]\n",
      "\n",
      "Unique values for year\n",
      "[2009, 2008, 2007, 2010, 2011, ..., 2015, 2016, 2017, 2018, 2019]\n",
      "Length: 13\n",
      "Categories (13, int64): [2009, 2008, 2007, 2010, ..., 2016, 2017, 2018, 2019]\n",
      "\n",
      "Unique values for wind_direction\n",
      "['south' 'turning' 'east' 'southeast' 'northeast' 'northwest' 'west'\n",
      " 'north' 'southern' 'southwest' 'turning east' 'turning south'\n",
      " 'western liqueur' 'turning west' 'turning southeast' 'changing']\n",
      "\n"
     ]
    }
   ],
   "source": [
    "categorical_columns = df.columns[df.dtypes=='category'].tolist()\n",
    "categorical_columns += df.columns[df.dtypes==object].tolist()\n",
    "\n",
    "for col in categorical_columns:\n",
    "    print('Unique values for ' + col)\n",
    "    print(df[col].unique())\n",
    "    print('')"
   ]
  },
  {
   "cell_type": "markdown",
   "metadata": {},
   "source": [
    "As shown above, the unique values for `wind_direction` are large. Due to a translator function being used in the scrape weather script mentioned earlier, there is some conflicting and similar information being shown. With this in mind, it is likely that this data is not going to aid our models. Therefore, it will be removed."
   ]
  },
  {
   "cell_type": "code",
   "execution_count": 132,
   "metadata": {},
   "outputs": [],
   "source": [
    "df = df.drop(columns='wind_direction')"
   ]
  },
  {
   "cell_type": "markdown",
   "metadata": {},
   "source": [
    "## Statistical Modelling & Performance Evaluation <a name=\"model\">"
   ]
  },
  {
   "cell_type": "markdown",
   "metadata": {},
   "source": [
    "### Full Model\n",
    "Below is our current dataframe we will be using to develop our models for predicting `fastestLapSpeed` and `fastestLapTime`."
   ]
  },
  {
   "cell_type": "code",
   "execution_count": 133,
   "metadata": {},
   "outputs": [
    {
     "data": {
      "text/html": [
       "<div>\n",
       "<style scoped>\n",
       "    .dataframe tbody tr th:only-of-type {\n",
       "        vertical-align: middle;\n",
       "    }\n",
       "\n",
       "    .dataframe tbody tr th {\n",
       "        vertical-align: top;\n",
       "    }\n",
       "\n",
       "    .dataframe thead th {\n",
       "        text-align: right;\n",
       "    }\n",
       "</style>\n",
       "<table border=\"1\" class=\"dataframe\">\n",
       "  <thead>\n",
       "    <tr style=\"text-align: right;\">\n",
       "      <th></th>\n",
       "      <th>lapTime</th>\n",
       "      <th>lapAverageSpeed</th>\n",
       "      <th>track</th>\n",
       "      <th>temp</th>\n",
       "      <th>track_temp</th>\n",
       "      <th>humidity</th>\n",
       "      <th>air_pressure</th>\n",
       "      <th>wind_speed</th>\n",
       "      <th>rain</th>\n",
       "      <th>year</th>\n",
       "    </tr>\n",
       "  </thead>\n",
       "  <tbody>\n",
       "    <tr>\n",
       "      <th>148</th>\n",
       "      <td>101203.545</td>\n",
       "      <td>193.917</td>\n",
       "      <td>shanghai</td>\n",
       "      <td>21.0</td>\n",
       "      <td>37.0</td>\n",
       "      <td>37.0</td>\n",
       "      <td>1014.0</td>\n",
       "      <td>4.8</td>\n",
       "      <td>dry</td>\n",
       "      <td>2016</td>\n",
       "    </tr>\n",
       "    <tr>\n",
       "      <th>191</th>\n",
       "      <td>84167.789</td>\n",
       "      <td>247.815</td>\n",
       "      <td>monza</td>\n",
       "      <td>22.0</td>\n",
       "      <td>32.0</td>\n",
       "      <td>61.0</td>\n",
       "      <td>995.0</td>\n",
       "      <td>2.5</td>\n",
       "      <td>dry</td>\n",
       "      <td>2018</td>\n",
       "    </tr>\n",
       "    <tr>\n",
       "      <th>125</th>\n",
       "      <td>103112.500</td>\n",
       "      <td>192.507</td>\n",
       "      <td>indianapolis</td>\n",
       "      <td>23.0</td>\n",
       "      <td>32.0</td>\n",
       "      <td>42.0</td>\n",
       "      <td>1003.0</td>\n",
       "      <td>6.0</td>\n",
       "      <td>dry</td>\n",
       "      <td>2014</td>\n",
       "    </tr>\n",
       "    <tr>\n",
       "      <th>68</th>\n",
       "      <td>91556.087</td>\n",
       "      <td>209.944</td>\n",
       "      <td>istanbul</td>\n",
       "      <td>16.0</td>\n",
       "      <td>33.0</td>\n",
       "      <td>44.0</td>\n",
       "      <td>1001.0</td>\n",
       "      <td>6.0</td>\n",
       "      <td>dry</td>\n",
       "      <td>2011</td>\n",
       "    </tr>\n",
       "    <tr>\n",
       "      <th>187</th>\n",
       "      <td>95886.722</td>\n",
       "      <td>219.376</td>\n",
       "      <td>magny-cours</td>\n",
       "      <td>24.0</td>\n",
       "      <td>41.0</td>\n",
       "      <td>52.0</td>\n",
       "      <td>966.0</td>\n",
       "      <td>1.0</td>\n",
       "      <td>dry</td>\n",
       "      <td>2018</td>\n",
       "    </tr>\n",
       "  </tbody>\n",
       "</table>\n",
       "</div>"
      ],
      "text/plain": [
       "        lapTime  lapAverageSpeed         track  temp  track_temp  humidity  \\\n",
       "148  101203.545          193.917      shanghai  21.0        37.0      37.0   \n",
       "191   84167.789          247.815         monza  22.0        32.0      61.0   \n",
       "125  103112.500          192.507  indianapolis  23.0        32.0      42.0   \n",
       "68    91556.087          209.944      istanbul  16.0        33.0      44.0   \n",
       "187   95886.722          219.376   magny-cours  24.0        41.0      52.0   \n",
       "\n",
       "     air_pressure  wind_speed rain  year  \n",
       "148        1014.0         4.8  dry  2016  \n",
       "191         995.0         2.5  dry  2018  \n",
       "125        1003.0         6.0  dry  2014  \n",
       "68         1001.0         6.0  dry  2011  \n",
       "187         966.0         1.0  dry  2018  "
      ]
     },
     "execution_count": 133,
     "metadata": {},
     "output_type": "execute_result"
    }
   ],
   "source": [
    "df.sample(5, random_state=999)"
   ]
  },
  {
   "cell_type": "markdown",
   "metadata": {},
   "source": [
    "Now we can develop our two models. On the X-Axis, we add all of our features and categorical variables. Below are the categorical features that will be converted and first dropped for our model. `year` and `track` are included in the model as performance changes throughout the years due to engine designs among other regulations pertaining to the FIA, and track, as each track requires different car configurations and differs in distance etc.\n",
    "* `rain` dummy dropped is dry\n",
    "* `track` dummy dropped is Abu-Dahbi\n",
    "* `year` dummy dropped is 2007\n",
    "\n",
    "On the Y-Axis, our target features mentioned earlier, namely `lapTime`."
   ]
  },
  {
   "cell_type": "code",
   "execution_count": 135,
   "metadata": {
    "scrolled": false
   },
   "outputs": [
    {
     "name": "stdout",
     "output_type": "stream",
     "text": [
      "                            OLS Regression Results                            \n",
      "==============================================================================\n",
      "Dep. Variable:                lapTime   R-squared:                       0.910\n",
      "Model:                            OLS   Adj. R-squared:                  0.890\n",
      "Method:                 Least Squares   F-statistic:                     46.70\n",
      "Date:                Fri, 23 Oct 2020   Prob (F-statistic):           2.11e-73\n",
      "Time:                        16:16:01   Log-Likelihood:                -2048.6\n",
      "No. Observations:                 215   AIC:                             4175.\n",
      "Df Residuals:                     176   BIC:                             4307.\n",
      "Df Model:                          38                                         \n",
      "Covariance Type:            nonrobust                                         \n",
      "======================================================================================\n",
      "                         coef    std err          t      P>|t|      [0.025      0.975]\n",
      "--------------------------------------------------------------------------------------\n",
      "const               1.608e+05   1.22e+04     13.175      0.000    1.37e+05    1.85e+05\n",
      "temp                 214.9759    105.198      2.044      0.042       7.364     422.588\n",
      "track_temp           -91.6592     65.585     -1.398      0.164    -221.092      37.774\n",
      "lapAverageSpeed     -343.6913     55.673     -6.173      0.000    -453.564    -233.819\n",
      "humidity             -30.2773     24.121     -1.255      0.211     -77.880      17.326\n",
      "air_pressure           1.3063      4.436      0.294      0.769      -7.448      10.061\n",
      "wind_speed           422.5759    200.987      2.103      0.037      25.921     819.231\n",
      "rain_wet            1144.3597   1081.408      1.058      0.291    -989.836    3278.556\n",
      "track_albert-park  -5936.7573   1946.516     -3.050      0.003   -9778.273   -2095.242\n",
      "track_austin       -3755.8037   1747.262     -2.150      0.033   -7204.085    -307.523\n",
      "track_catalunya    -1.458e+04   1794.266     -8.124      0.000   -1.81e+04    -1.1e+04\n",
      "track_de-monaco     -3.62e+04   2780.625    -13.020      0.000   -4.17e+04   -3.07e+04\n",
      "track_de-spa        2.144e+04   2576.758      8.322      0.000    1.64e+04    2.65e+04\n",
      "track_fuji           -95.8720   1972.735     -0.049      0.961   -3989.132    3797.388\n",
      "track_hungaroring  -2.031e+04   1767.947    -11.491      0.000   -2.38e+04   -1.68e+04\n",
      "track_indianapolis -3755.8037   1747.262     -2.150      0.033   -7204.085    -307.523\n",
      "track_interlagos   -2.187e+04   1978.317    -11.056      0.000   -2.58e+04    -1.8e+04\n",
      "track_istanbul     -4294.5476   2558.747     -1.678      0.095   -9344.323     755.228\n",
      "track_magny-cours  -6561.7609   2595.336     -2.528      0.012   -1.17e+04   -1439.777\n",
      "track_mexico       -2.122e+04   2491.316     -8.517      0.000   -2.61e+04   -1.63e+04\n",
      "track_montreal     -2.175e+04   1795.274    -12.118      0.000   -2.53e+04   -1.82e+04\n",
      "track_monza         1007.9936   3090.712      0.326      0.745   -5091.634    7107.621\n",
      "track_sachir       -2732.8939   1668.539     -1.638      0.103   -6025.813     560.025\n",
      "track_sepang         170.3074   1833.263      0.093      0.926   -3447.700    3788.315\n",
      "track_shanghai      -374.8349   1669.426     -0.225      0.823   -3669.504    2919.834\n",
      "track_silverstone   1233.9670   2396.415      0.515      0.607   -3495.441    5963.375\n",
      "track_valencia      1946.9203   1989.621      0.979      0.329   -1979.665    5873.506\n",
      "year_2008            962.6416   1356.528      0.710      0.479   -1714.512    3639.796\n",
      "year_2009           3327.0746   1360.878      2.445      0.015     641.336    6012.814\n",
      "year_2010           5881.0683   1322.198      4.448      0.000    3271.664    8490.472\n",
      "year_2011           4958.9803   1387.893      3.573      0.000    2219.926    7698.034\n",
      "year_2012           5153.3708   1330.382      3.874      0.000    2527.817    7778.925\n",
      "year_2013           4627.7677   1381.796      3.349      0.001    1900.747    7354.789\n",
      "year_2014           6987.4332   1415.543      4.936      0.000    4193.811    9781.055\n",
      "year_2015           6830.4870   1396.032      4.893      0.000    4075.370    9585.604\n",
      "year_2016           6436.1671   1313.438      4.900      0.000    3844.052    9028.282\n",
      "year_2017           5393.2393   1308.564      4.121      0.000    2810.742    7975.736\n",
      "year_2018           5837.9095   1338.547      4.361      0.000    3196.241    8479.578\n",
      "year_2019           6099.7762   1361.648      4.480      0.000    3412.517    8787.035\n",
      "==============================================================================\n",
      "Omnibus:                       71.886   Durbin-Watson:                   1.528\n",
      "Prob(Omnibus):                  0.000   Jarque-Bera (JB):              804.818\n",
      "Skew:                          -0.908   Prob(JB):                    1.72e-175\n",
      "Kurtosis:                      12.303   Cond. No.                     5.22e+04\n",
      "==============================================================================\n",
      "\n",
      "Warnings:\n",
      "[1] Standard Errors assume that the covariance matrix of the errors is correctly specified.\n",
      "[2] The condition number is large, 5.22e+04. This might indicate that there are\n",
      "strong multicollinearity or other numerical problems.\n"
     ]
    }
   ],
   "source": [
    "X = df[['temp', 'track_temp', 'lapAverageSpeed', 'humidity', 'air_pressure', 'wind_speed', 'rain', 'track', 'year']]\n",
    "Y = df['lapTime']\n",
    "\n",
    "# Convert categorical into dummy/indicator variables\n",
    "X = pd.get_dummies(data=X, drop_first=True)\n",
    "\n",
    "# With sklearn\n",
    "regr = linear_model.LinearRegression()\n",
    "regr.fit(X, Y)\n",
    "\n",
    "# With statsmodels\n",
    "X = sm.add_constant(X) # adding a constant\n",
    "model = sm.OLS(Y, X).fit()\n",
    "print(model.summary())"
   ]
  },
  {
   "cell_type": "markdown",
   "metadata": {},
   "source": [
    "#### Model Analysis\n",
    "\n",
    "91% of the variation is explained by the independant variables. Observing the p-values, `temp`, `lapAverageSpeed` and `wind_speed` are all statistically significant at the 5% level, whereas `track_temp`, `humidity`, `air_pressure` and `rain` are not. Most of the `tracks` and `years` are highly significant, bar a few."
   ]
  },
  {
   "cell_type": "markdown",
   "metadata": {},
   "source": [
    "Now we produce new dataframes for prediction purposes, and plot residuals for the mull models."
   ]
  },
  {
   "cell_type": "code",
   "execution_count": 139,
   "metadata": {},
   "outputs": [
    {
     "data": {
      "text/html": [
       "<div>\n",
       "<style scoped>\n",
       "    .dataframe tbody tr th:only-of-type {\n",
       "        vertical-align: middle;\n",
       "    }\n",
       "\n",
       "    .dataframe tbody tr th {\n",
       "        vertical-align: top;\n",
       "    }\n",
       "\n",
       "    .dataframe thead th {\n",
       "        text-align: right;\n",
       "    }\n",
       "</style>\n",
       "<table border=\"1\" class=\"dataframe\">\n",
       "  <thead>\n",
       "    <tr style=\"text-align: right;\">\n",
       "      <th></th>\n",
       "      <th>actual</th>\n",
       "      <th>predicted</th>\n",
       "      <th>residual</th>\n",
       "    </tr>\n",
       "  </thead>\n",
       "  <tbody>\n",
       "    <tr>\n",
       "      <th>148</th>\n",
       "      <td>101203.545</td>\n",
       "      <td>103597.588004</td>\n",
       "      <td>-2394.043004</td>\n",
       "    </tr>\n",
       "    <tr>\n",
       "      <th>191</th>\n",
       "      <td>84167.789</td>\n",
       "      <td>84807.756397</td>\n",
       "      <td>-639.967397</td>\n",
       "    </tr>\n",
       "    <tr>\n",
       "      <th>125</th>\n",
       "      <td>103112.500</td>\n",
       "      <td>102482.073599</td>\n",
       "      <td>630.426401</td>\n",
       "    </tr>\n",
       "    <tr>\n",
       "      <th>68</th>\n",
       "      <td>91556.087</td>\n",
       "      <td>92262.273173</td>\n",
       "      <td>-706.186173</td>\n",
       "    </tr>\n",
       "    <tr>\n",
       "      <th>187</th>\n",
       "      <td>95886.722</td>\n",
       "      <td>86218.008914</td>\n",
       "      <td>9668.713086</td>\n",
       "    </tr>\n",
       "  </tbody>\n",
       "</table>\n",
       "</div>"
      ],
      "text/plain": [
       "         actual      predicted     residual\n",
       "148  101203.545  103597.588004 -2394.043004\n",
       "191   84167.789   84807.756397  -639.967397\n",
       "125  103112.500  102482.073599   630.426401\n",
       "68    91556.087   92262.273173  -706.186173\n",
       "187   95886.722   86218.008914  9668.713086"
      ]
     },
     "execution_count": 139,
     "metadata": {},
     "output_type": "execute_result"
    }
   ],
   "source": [
    "residuals_full = pd.DataFrame({'actual': df['lapTime'], \n",
    "                            'predicted': model.fittedvalues, \n",
    "                            'residual': model.resid})\n",
    "residuals_full.sample(5, random_state=999)"
   ]
  },
  {
   "cell_type": "code",
   "execution_count": 142,
   "metadata": {},
   "outputs": [
    {
     "data": {
      "image/png": "[encoded data removed]",
      "text/plain": [
       "<Figure size 432x288 with 1 Axes>"
      ]
     },
     "metadata": {
      "needs_background": "light"
     },
     "output_type": "display_data"
    }
   ],
   "source": [
    "def plot_line(axis, slope, intercept, **kargs):\n",
    "    xmin, xmax = axis.get_xlim()\n",
    "    plt.plot([xmin, xmax], [xmin*slope+intercept, xmax*slope+intercept], **kargs)\n",
    "    \n",
    "# Creating scatter plot\n",
    "plt.scatter(residuals_full['actual'], residuals_full['predicted'], alpha=0.3);\n",
    "plot_line(axis=plt.gca(), slope=1, intercept=0, c=\"red\");\n",
    "plt.xlabel('Actual Lap Time (ms)');\n",
    "plt.ylabel('Predicted Lap Time (ms)');\n",
    "plt.title('Figure X: Actual vs. predicted lap time', fontsize=15);\n",
    "plt.show();"
   ]
  },
  {
   "cell_type": "markdown",
   "metadata": {},
   "source": [
    "Looking at Figure X, we can see that the model is quite accurate for most mid-range track fastest laps, but starts to suffer on longer and shorter tracks. An assumption here is that the longer the track time, the larger the total distance of the track."
   ]
  },
  {
   "cell_type": "markdown",
   "metadata": {},
   "source": [
    "### Model Diagnostic Checks"
   ]
  },
  {
   "cell_type": "markdown",
   "metadata": {},
   "source": [
    "This section of the report will analyse assumptions of our regression, and whether or not they are sound. More noteably:\n",
    "* Linearity of relationship between target variables and independant variables\n",
    "* Constant variance of errors\n",
    "* Normality of residual distribution\n",
    "* Statistical independence of residuals"
   ]
  },
  {
   "cell_type": "markdown",
   "metadata": {},
   "source": [
    "First, lets produce a scatter plot of residuals for both models."
   ]
  },
  {
   "cell_type": "code",
   "execution_count": 143,
   "metadata": {},
   "outputs": [
    {
     "data": {
      "image/png": "[encoded data removed]",
      "text/plain": [
       "<Figure size 432x288 with 1 Axes>"
      ]
     },
     "metadata": {
      "needs_background": "light"
     },
     "output_type": "display_data"
    }
   ],
   "source": [
    "plt.scatter(residuals_full['predicted'], residuals_full['residual'], alpha=0.3);\n",
    "plt.xlabel('Predicted Lap Time (ms)');\n",
    "plt.ylabel('Residuals')\n",
    "plt.title('Figure X(a): Residuals vs. predicted lap time', fontsize=15)\n",
    "plt.show();"
   ]
  },
  {
   "cell_type": "markdown",
   "metadata": {},
   "source": [
    "Looking at Figure X(a), we can see majority of values centre around 0 and are mostly random. We do not see any evidence of a banding pattern. "
   ]
  },
  {
   "cell_type": "code",
   "execution_count": 144,
   "metadata": {},
   "outputs": [
    {
     "data": {
      "image/png": "[encoded data removed]",
      "text/plain": [
       "<Figure size 432x288 with 1 Axes>"
      ]
     },
     "metadata": {
      "needs_background": "light"
     },
     "output_type": "display_data"
    }
   ],
   "source": [
    "plt.scatter(residuals_full['actual'], residuals_full['residual'], alpha=0.3);\n",
    "plt.xlabel('Predicted Lap Time (ms)');\n",
    "plt.ylabel('Residuals')\n",
    "plt.title('Figure X(c): Residuals vs. actual lap time', fontsize=15)\n",
    "plt.show();"
   ]
  },
  {
   "cell_type": "markdown",
   "metadata": {},
   "source": [
    "In this particular plot, we see the model underestimating speeds below 80000ms and overestimating about 110000ms."
   ]
  },
  {
   "cell_type": "code",
   "execution_count": 146,
   "metadata": {},
   "outputs": [
    {
     "data": {
      "image/png": "[encoded data removed]",
      "text/plain": [
       "<Figure size 432x288 with 1 Axes>"
      ]
     },
     "metadata": {
      "needs_background": "light"
     },
     "output_type": "display_data"
    }
   ],
   "source": [
    "plt.hist(residuals_full['actual'], label='actual', bins=20, alpha=0.7);\n",
    "plt.hist(residuals_full['predicted'], label='predicted', bins=20, alpha=0.7);\n",
    "plt.xlabel('Lap Time (ms)');\n",
    "plt.ylabel('Frequency');\n",
    "plt.title('Figure X: Actual lap time vs. predicted lap time', fontsize=15);\n",
    "plt.legend()\n",
    "plt.show();"
   ]
  },
  {
   "cell_type": "code",
   "execution_count": null,
   "metadata": {},
   "outputs": [],
   "source": []
  },
  {
   "cell_type": "markdown",
   "metadata": {},
   "source": [
    "## Summary & Conclusion <a name=\"conc\">"
   ]
  },
  {
   "cell_type": "markdown",
   "metadata": {},
   "source": [
    "Furthur study. These models are only somewhat reliable for the tracks and conditions mentioned. Furthur studies it is suggested to instead of looking at tracks as a whole, look at track attributes, such as corner types, length etc. This would allow a future model to perform more accurately accross a wider range of tracks and environments, potentially allowing for new track designs to be tested."
   ]
  },
  {
   "cell_type": "code",
   "execution_count": null,
   "metadata": {},
   "outputs": [],
   "source": []
  }
 ],
 "metadata": {
  "kernelspec": {
   "display_name": "Python 3",
   "language": "python",
   "name": "python3"
  },
  "language_info": {
   "codemirror_mode": {
    "name": "ipython",
    "version": 3
   },
   "file_extension": ".py",
   "mimetype": "text/x-python",
   "name": "python",
   "nbconvert_exporter": "python",
   "pygments_lexer": "ipython3",
   "version": "3.8.3"
  }
 },
 "nbformat": 4,
 "nbformat_minor": 4
}
