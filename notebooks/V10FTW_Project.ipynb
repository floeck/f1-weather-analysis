{
 "cells": [
  {
   "cell_type": "markdown",
   "metadata": {},
   "source": [
    "# Predicting Formula 1 Performance in Track and Weather Data \n",
    "\n",
    "**Group:** V10FTW  \n",
    "**Members:** Oskar Floeck s3725028 & Connor Hutchinson s3544152\n",
    "\n",
    "## Table of contents\n",
    "\n",
    "* [Source and Description](#desc)\n",
    "* [Goals and Objectives](#goals)\n",
    "* [Data Preparation](#data)\n",
    "* [Data Exploration](#explore)\n",
    "* [Statistical Modelling & Performance Evaluation](#model)\n",
    "* [Summary & Conclusion](#conc)\n",
    "\n",
    "## Source and Description <a name=\"desc\">\n",
    "\n",
    "Formula 1 Track Data: https://ergast.com/mrd (Ergast, 2020)  \n",
    "Track Weather Data: https://www.motorsport-total.com/formel-1/ergebnisse (Motorsport-total, 2020)\n",
    "\n",
    "Given the way in which weather data was provided by the website above, a script was written to automatically grab neccesary information and store within `track_weather.csv` for analysis in this report. The full script can be [viewed here](https://github.com/floeck/f1-weather-analysis/blob/master/notebooks/scrape-weather.ipynb).\n",
    "\n",
    "* `races.csv` and `results.csv` obtained from Ergast: Contain all the relevant track data, such as fastest lap speeds, times and date.\n",
    "\n",
    "* `track_weather.csv` from motorsport-total: Contain track weather information, such as humidity etc.\n",
    "\n",
    "For the purposes of the report and due to track weather scraping limitations, the following tracks will be used in the analysis from the year 2007 to 2019. Details of these limitations are viewable on the script.\n",
    "\n",
    "<table>\n",
    "<tr>\n",
    "</tr>\n",
    "<tr>\n",
    "<td>\n",
    "    \n",
    "* Albert Park, Australia\n",
    "* Sepang, Malaysia\n",
    "* Sachir, Bahrain\n",
    "* Catalunya, Spain\n",
    "* De Monaco, Europe \n",
    "* Montreal, Canada\n",
    "* Magny Cours, France\n",
    "* Silverstone, Britain\n",
    "* Valencia, Germany\n",
    "* Hungaroring, Hungary \n",
    "    \n",
    "</td>\n",
    "<td>\n",
    "    \n",
    "* Istanbul, Turkey\n",
    "* Monza, Italy\n",
    "* De Spa, Belgium\n",
    "* Fuji, Japan\n",
    "* Shanghai, China\n",
    "* Interlagos, Brazil\n",
    "* Yas Marina, Abu Dhabi\n",
    "* Indianapolis, America\n",
    "* Austin, America\n",
    "* Hermanos, Mexico\n",
    "    \n",
    "</td>\n",
    "</tr>\n",
    "</table>\n",
    "\n",
    "### Descriptive Features\n",
    "\n",
    "Descriptions of data for `races.csv`\n",
    "\n",
    "| feature | type  | units  | desc  |\n",
    "|---|---|---|---|\n",
    "| raceId  | ordinal | unknown | ID of the race |\n",
    "| name | categorical | unknown  | Name of the race |\n",
    "| date | date | yyyy-mm-dd | Date of race |\n",
    "\n",
    "Descriptions of data for `results.csv`\n",
    "\n",
    "| feature | type  | units  | desc  |\n",
    "|---|---|---|---|\n",
    "| raceId  | ordinal | unknown | ID of the race |\n",
    "| fastestLapTime | positive real number | milliseconds  | Fastest lap time |\n",
    "| fastestLapSpeed | positive real number | kph | Fastest average lap speed |\n",
    "\n",
    "Descriptions of data for `track_weather.csv`\n",
    "\n",
    "| feature | type  | units  | desc  |\n",
    "|---|---|---|---|\n",
    "| track  | categorical | unknown | Track name |\n",
    "| date | date | yyyy-mm-dd | Date of race |\n",
    "| local_time | time | hh:mm:ss | Time of race |\n",
    "| weather | categorical | unknown | Track conditions |\n",
    "| temp | positive real number | celcius | Ambient temp |\n",
    "| track_temp | positive real number | celcius | Track temp |\n",
    "| humidity | positive real number | % | Ambient humidity |\n",
    "| air_pressure | positive real number | mBar | Ambient air pressure |\n",
    "| wind_speed | positive real number | m/s | Track wind speed |\n",
    "| wind_direction | categorical | direction | Track wind direction |\n",
    "\n",
    "\n",
    "### Target Feature\n",
    "The target feature is `fastestLapTime` which is a continuous numerical feature.\n",
    "\n",
    "## Goals and Objectives <a name=\"goals\">\n",
    "\n",
    "The primary goal of the report is to investigate whether or not we can accurately and reliably predict Formula 1 lap times via multiple linear regression, given the weather and track data we have collected. Secondary goals are investigating the effects weather may have on general track performance.\n",
    "\n",
    "## Data Preparation <a name=\"data\">\n",
    "\n",
    "### Preliminaries\n",
    "\n",
    "First, import all necessary modules required for the analysis."
   ]
  },
  {
   "cell_type": "code",
   "execution_count": 93,
   "metadata": {},
   "outputs": [],
   "source": [
    "# Module imports\n",
    "import warnings; import patsy; import matplotlib\n",
    "import pandas as pd; import numpy as np\n",
    "import matplotlib.pyplot as plt\n",
    "import seaborn as sns\n",
    "from sklearn import linear_model\n",
    "from sklearn.model_selection import train_test_split\n",
    "import statsmodels.api as sm\n",
    "from IPython.display import display_html, display, HTML\n",
    "# Disable warnings and allow large columns\n",
    "warnings.filterwarnings(\"ignore\")\n",
    "pd.set_option('display.max_columns', None)\n",
    "matplotlib.rcParams['figure.figsize'] = (20, 16)\n",
    "matplotlib.rcParams['figure.dpi'] = 200\n",
    "matplotlib.rcParams.update({'font.size': 22})\n",
    "%matplotlib inline\n",
    "# Function that allows to convert time\n",
    "def to_milliseconds(string):\n",
    "    string = string.replace(\".\", \":\").split(\":\")\n",
    "    minutes = int(string[0])\n",
    "    seconds = int(string[1])\n",
    "    milliseconds = int(string[2])\n",
    "    return (minutes * 60000) + (seconds * 1000) + milliseconds"
   ]
  },
  {
   "cell_type": "markdown",
   "metadata": {},
   "source": [
    "Here we read in the data directly from the repository site."
   ]
  },
  {
   "cell_type": "code",
   "execution_count": 86,
   "metadata": {},
   "outputs": [],
   "source": [
    "races = pd.read_csv('https://raw.githubusercontent.com/floeck/f1-weather-analysis/master/data/formula-1/races.csv', sep = ',')\n",
    "results = pd.read_csv('https://raw.githubusercontent.com/floeck/f1-weather-analysis/master/data/formula-1/results.csv', sep=',')\n",
    "track_weather = pd.read_csv('https://raw.githubusercontent.com/floeck/f1-weather-analysis/master/data/weather/track_weather.csv', sep=',')"
   ]
  },
  {
   "cell_type": "code",
   "execution_count": 43,
   "metadata": {},
   "outputs": [
    {
     "data": {
      "text/html": [
       "<div>\n",
       "<style scoped>\n",
       "    .dataframe tbody tr th:only-of-type {\n",
       "        vertical-align: middle;\n",
       "    }\n",
       "\n",
       "    .dataframe tbody tr th {\n",
       "        vertical-align: top;\n",
       "    }\n",
       "\n",
       "    .dataframe thead th {\n",
       "        text-align: right;\n",
       "    }\n",
       "</style>\n",
       "<table border=\"1\" class=\"dataframe\">\n",
       "  <thead>\n",
       "    <tr style=\"text-align: right;\">\n",
       "      <th></th>\n",
       "      <th>raceId</th>\n",
       "      <th>year</th>\n",
       "      <th>round</th>\n",
       "      <th>circuitId</th>\n",
       "      <th>name</th>\n",
       "      <th>date</th>\n",
       "      <th>time</th>\n",
       "      <th>url</th>\n",
       "    </tr>\n",
       "  </thead>\n",
       "  <tbody>\n",
       "    <tr>\n",
       "      <th>685</th>\n",
       "      <td>686</td>\n",
       "      <td>1967</td>\n",
       "      <td>8</td>\n",
       "      <td>48</td>\n",
       "      <td>Canadian Grand Prix</td>\n",
       "      <td>1967-08-27</td>\n",
       "      <td>\\N</td>\n",
       "      <td>http://en.wikipedia.org/wiki/1967_Canadian_Gra...</td>\n",
       "    </tr>\n",
       "    <tr>\n",
       "      <th>117</th>\n",
       "      <td>118</td>\n",
       "      <td>2003</td>\n",
       "      <td>11</td>\n",
       "      <td>9</td>\n",
       "      <td>British Grand Prix</td>\n",
       "      <td>2003-07-20</td>\n",
       "      <td>\\N</td>\n",
       "      <td>http://en.wikipedia.org/wiki/2003_British_Gran...</td>\n",
       "    </tr>\n",
       "    <tr>\n",
       "      <th>160</th>\n",
       "      <td>161</td>\n",
       "      <td>2000</td>\n",
       "      <td>4</td>\n",
       "      <td>9</td>\n",
       "      <td>British Grand Prix</td>\n",
       "      <td>2000-04-23</td>\n",
       "      <td>\\N</td>\n",
       "      <td>http://en.wikipedia.org/wiki/2000_British_Gran...</td>\n",
       "    </tr>\n",
       "    <tr>\n",
       "      <th>729</th>\n",
       "      <td>730</td>\n",
       "      <td>1962</td>\n",
       "      <td>2</td>\n",
       "      <td>6</td>\n",
       "      <td>Monaco Grand Prix</td>\n",
       "      <td>1962-06-03</td>\n",
       "      <td>\\N</td>\n",
       "      <td>http://en.wikipedia.org/wiki/1962_Monaco_Grand...</td>\n",
       "    </tr>\n",
       "    <tr>\n",
       "      <th>94</th>\n",
       "      <td>95</td>\n",
       "      <td>2004</td>\n",
       "      <td>6</td>\n",
       "      <td>6</td>\n",
       "      <td>Monaco Grand Prix</td>\n",
       "      <td>2004-05-23</td>\n",
       "      <td>\\N</td>\n",
       "      <td>http://en.wikipedia.org/wiki/2004_Monaco_Grand...</td>\n",
       "    </tr>\n",
       "  </tbody>\n",
       "</table>\n",
       "</div>"
      ],
      "text/plain": [
       "     raceId  year  round  circuitId                 name        date time  \\\n",
       "685     686  1967      8         48  Canadian Grand Prix  1967-08-27   \\N   \n",
       "117     118  2003     11          9   British Grand Prix  2003-07-20   \\N   \n",
       "160     161  2000      4          9   British Grand Prix  2000-04-23   \\N   \n",
       "729     730  1962      2          6    Monaco Grand Prix  1962-06-03   \\N   \n",
       "94       95  2004      6          6    Monaco Grand Prix  2004-05-23   \\N   \n",
       "\n",
       "                                                   url  \n",
       "685  http://en.wikipedia.org/wiki/1967_Canadian_Gra...  \n",
       "117  http://en.wikipedia.org/wiki/2003_British_Gran...  \n",
       "160  http://en.wikipedia.org/wiki/2000_British_Gran...  \n",
       "729  http://en.wikipedia.org/wiki/1962_Monaco_Grand...  \n",
       "94   http://en.wikipedia.org/wiki/2004_Monaco_Grand...  "
      ]
     },
     "execution_count": 43,
     "metadata": {},
     "output_type": "execute_result"
    }
   ],
   "source": [
    "races.sample(5, random_state=999)"
   ]
  },
  {
   "cell_type": "code",
   "execution_count": 44,
   "metadata": {},
   "outputs": [
    {
     "data": {
      "text/html": [
       "<div>\n",
       "<style scoped>\n",
       "    .dataframe tbody tr th:only-of-type {\n",
       "        vertical-align: middle;\n",
       "    }\n",
       "\n",
       "    .dataframe tbody tr th {\n",
       "        vertical-align: top;\n",
       "    }\n",
       "\n",
       "    .dataframe thead th {\n",
       "        text-align: right;\n",
       "    }\n",
       "</style>\n",
       "<table border=\"1\" class=\"dataframe\">\n",
       "  <thead>\n",
       "    <tr style=\"text-align: right;\">\n",
       "      <th></th>\n",
       "      <th>resultId</th>\n",
       "      <th>raceId</th>\n",
       "      <th>driverId</th>\n",
       "      <th>constructorId</th>\n",
       "      <th>number</th>\n",
       "      <th>grid</th>\n",
       "      <th>position</th>\n",
       "      <th>positionText</th>\n",
       "      <th>positionOrder</th>\n",
       "      <th>points</th>\n",
       "      <th>laps</th>\n",
       "      <th>time</th>\n",
       "      <th>milliseconds</th>\n",
       "      <th>fastestLap</th>\n",
       "      <th>rank</th>\n",
       "      <th>fastestLapTime</th>\n",
       "      <th>fastestLapSpeed</th>\n",
       "      <th>statusId</th>\n",
       "    </tr>\n",
       "  </thead>\n",
       "  <tbody>\n",
       "    <tr>\n",
       "      <th>20959</th>\n",
       "      <td>20962</td>\n",
       "      <td>848</td>\n",
       "      <td>5</td>\n",
       "      <td>205</td>\n",
       "      <td>20</td>\n",
       "      <td>19</td>\n",
       "      <td>19</td>\n",
       "      <td>19</td>\n",
       "      <td>19</td>\n",
       "      <td>0.0</td>\n",
       "      <td>55</td>\n",
       "      <td>\\N</td>\n",
       "      <td>\\N</td>\n",
       "      <td>44</td>\n",
       "      <td>19</td>\n",
       "      <td>1:45.055</td>\n",
       "      <td>185.697</td>\n",
       "      <td>12</td>\n",
       "    </tr>\n",
       "    <tr>\n",
       "      <th>24036</th>\n",
       "      <td>24042</td>\n",
       "      <td>1001</td>\n",
       "      <td>807</td>\n",
       "      <td>4</td>\n",
       "      <td>27</td>\n",
       "      <td>20</td>\n",
       "      <td>\\N</td>\n",
       "      <td>R</td>\n",
       "      <td>20</td>\n",
       "      <td>0.0</td>\n",
       "      <td>0</td>\n",
       "      <td>\\N</td>\n",
       "      <td>\\N</td>\n",
       "      <td>\\N</td>\n",
       "      <td>0</td>\n",
       "      <td>\\N</td>\n",
       "      <td>\\N</td>\n",
       "      <td>3</td>\n",
       "    </tr>\n",
       "    <tr>\n",
       "      <th>6593</th>\n",
       "      <td>6594</td>\n",
       "      <td>308</td>\n",
       "      <td>138</td>\n",
       "      <td>25</td>\n",
       "      <td>3</td>\n",
       "      <td>11</td>\n",
       "      <td>\\N</td>\n",
       "      <td>R</td>\n",
       "      <td>20</td>\n",
       "      <td>0.0</td>\n",
       "      <td>35</td>\n",
       "      <td>\\N</td>\n",
       "      <td>\\N</td>\n",
       "      <td>\\N</td>\n",
       "      <td>\\N</td>\n",
       "      <td>\\N</td>\n",
       "      <td>\\N</td>\n",
       "      <td>20</td>\n",
       "    </tr>\n",
       "    <tr>\n",
       "      <th>5388</th>\n",
       "      <td>5389</td>\n",
       "      <td>266</td>\n",
       "      <td>50</td>\n",
       "      <td>22</td>\n",
       "      <td>6</td>\n",
       "      <td>12</td>\n",
       "      <td>3</td>\n",
       "      <td>3</td>\n",
       "      <td>3</td>\n",
       "      <td>4.0</td>\n",
       "      <td>77</td>\n",
       "      <td>+1:10.329</td>\n",
       "      <td>6550514</td>\n",
       "      <td>\\N</td>\n",
       "      <td>\\N</td>\n",
       "      <td>\\N</td>\n",
       "      <td>\\N</td>\n",
       "      <td>1</td>\n",
       "    </tr>\n",
       "    <tr>\n",
       "      <th>1691</th>\n",
       "      <td>1692</td>\n",
       "      <td>98</td>\n",
       "      <td>13</td>\n",
       "      <td>15</td>\n",
       "      <td>12</td>\n",
       "      <td>15</td>\n",
       "      <td>\\N</td>\n",
       "      <td>R</td>\n",
       "      <td>18</td>\n",
       "      <td>0.0</td>\n",
       "      <td>0</td>\n",
       "      <td>\\N</td>\n",
       "      <td>\\N</td>\n",
       "      <td>\\N</td>\n",
       "      <td>\\N</td>\n",
       "      <td>\\N</td>\n",
       "      <td>\\N</td>\n",
       "      <td>4</td>\n",
       "    </tr>\n",
       "  </tbody>\n",
       "</table>\n",
       "</div>"
      ],
      "text/plain": [
       "       resultId  raceId  driverId  constructorId number  grid position  \\\n",
       "20959     20962     848         5            205     20    19       19   \n",
       "24036     24042    1001       807              4     27    20       \\N   \n",
       "6593       6594     308       138             25      3    11       \\N   \n",
       "5388       5389     266        50             22      6    12        3   \n",
       "1691       1692      98        13             15     12    15       \\N   \n",
       "\n",
       "      positionText  positionOrder  points  laps       time milliseconds  \\\n",
       "20959           19             19     0.0    55         \\N           \\N   \n",
       "24036            R             20     0.0     0         \\N           \\N   \n",
       "6593             R             20     0.0    35         \\N           \\N   \n",
       "5388             3              3     4.0    77  +1:10.329      6550514   \n",
       "1691             R             18     0.0     0         \\N           \\N   \n",
       "\n",
       "      fastestLap rank fastestLapTime fastestLapSpeed  statusId  \n",
       "20959         44   19       1:45.055         185.697        12  \n",
       "24036         \\N    0             \\N              \\N         3  \n",
       "6593          \\N   \\N             \\N              \\N        20  \n",
       "5388          \\N   \\N             \\N              \\N         1  \n",
       "1691          \\N   \\N             \\N              \\N         4  "
      ]
     },
     "execution_count": 44,
     "metadata": {},
     "output_type": "execute_result"
    }
   ],
   "source": [
    "results.sample(5, random_state=999)"
   ]
  },
  {
   "cell_type": "code",
   "execution_count": 45,
   "metadata": {},
   "outputs": [
    {
     "data": {
      "text/html": [
       "<div>\n",
       "<style scoped>\n",
       "    .dataframe tbody tr th:only-of-type {\n",
       "        vertical-align: middle;\n",
       "    }\n",
       "\n",
       "    .dataframe tbody tr th {\n",
       "        vertical-align: top;\n",
       "    }\n",
       "\n",
       "    .dataframe thead th {\n",
       "        text-align: right;\n",
       "    }\n",
       "</style>\n",
       "<table border=\"1\" class=\"dataframe\">\n",
       "  <thead>\n",
       "    <tr style=\"text-align: right;\">\n",
       "      <th></th>\n",
       "      <th>track</th>\n",
       "      <th>date</th>\n",
       "      <th>local_time</th>\n",
       "      <th>weather</th>\n",
       "      <th>temp</th>\n",
       "      <th>track_temp</th>\n",
       "      <th>humidity</th>\n",
       "      <th>air_pressure</th>\n",
       "      <th>wind_speed</th>\n",
       "      <th>wind_direction</th>\n",
       "    </tr>\n",
       "  </thead>\n",
       "  <tbody>\n",
       "    <tr>\n",
       "      <th>96</th>\n",
       "      <td>austin</td>\n",
       "      <td>2012-11-18</td>\n",
       "      <td>13:00:00</td>\n",
       "      <td>sunny</td>\n",
       "      <td>24.0</td>\n",
       "      <td>32.0</td>\n",
       "      <td>29.0</td>\n",
       "      <td>1004.0</td>\n",
       "      <td>5.0</td>\n",
       "      <td>south</td>\n",
       "    </tr>\n",
       "    <tr>\n",
       "      <th>245</th>\n",
       "      <td>abu-dhabi</td>\n",
       "      <td>2018-11-25</td>\n",
       "      <td>17:10:00</td>\n",
       "      <td>clear, short showers</td>\n",
       "      <td>29.0</td>\n",
       "      <td>31.0</td>\n",
       "      <td>55.0</td>\n",
       "      <td>1014.0</td>\n",
       "      <td>3.5</td>\n",
       "      <td>turning southeast</td>\n",
       "    </tr>\n",
       "    <tr>\n",
       "      <th>68</th>\n",
       "      <td>montreal</td>\n",
       "      <td>2010-06-13</td>\n",
       "      <td>12:00:00</td>\n",
       "      <td>slightly cloudy</td>\n",
       "      <td>26.0</td>\n",
       "      <td>38.0</td>\n",
       "      <td>42.0</td>\n",
       "      <td>1011.0</td>\n",
       "      <td>3.0</td>\n",
       "      <td>northeast</td>\n",
       "    </tr>\n",
       "    <tr>\n",
       "      <th>162</th>\n",
       "      <td>istanbul</td>\n",
       "      <td>2013</td>\n",
       "      <td>NaN</td>\n",
       "      <td>NaN</td>\n",
       "      <td>NaN</td>\n",
       "      <td>NaN</td>\n",
       "      <td>NaN</td>\n",
       "      <td>NaN</td>\n",
       "      <td>NaN</td>\n",
       "      <td>NaN</td>\n",
       "    </tr>\n",
       "    <tr>\n",
       "      <th>82</th>\n",
       "      <td>indianapolis</td>\n",
       "      <td>2011</td>\n",
       "      <td>NaN</td>\n",
       "      <td>NaN</td>\n",
       "      <td>NaN</td>\n",
       "      <td>NaN</td>\n",
       "      <td>NaN</td>\n",
       "      <td>NaN</td>\n",
       "      <td>NaN</td>\n",
       "      <td>NaN</td>\n",
       "    </tr>\n",
       "  </tbody>\n",
       "</table>\n",
       "</div>"
      ],
      "text/plain": [
       "            track        date local_time               weather  temp  \\\n",
       "96         austin  2012-11-18   13:00:00                 sunny  24.0   \n",
       "245     abu-dhabi  2018-11-25   17:10:00  clear, short showers  29.0   \n",
       "68       montreal  2010-06-13   12:00:00       slightly cloudy  26.0   \n",
       "162      istanbul        2013        NaN                   NaN   NaN   \n",
       "82   indianapolis        2011        NaN                   NaN   NaN   \n",
       "\n",
       "     track_temp  humidity  air_pressure  wind_speed     wind_direction  \n",
       "96         32.0      29.0        1004.0         5.0              south  \n",
       "245        31.0      55.0        1014.0         3.5  turning southeast  \n",
       "68         38.0      42.0        1011.0         3.0          northeast  \n",
       "162         NaN       NaN           NaN         NaN                NaN  \n",
       "82          NaN       NaN           NaN         NaN                NaN  "
      ]
     },
     "execution_count": 45,
     "metadata": {},
     "output_type": "execute_result"
    }
   ],
   "source": [
    "track_weather.sample(5, random_state=999)"
   ]
  },
  {
   "cell_type": "markdown",
   "metadata": {},
   "source": [
    "### Data Cleaning and Transformation"
   ]
  },
  {
   "cell_type": "markdown",
   "metadata": {},
   "source": [
    "Now that all the data is imported, we can begin cleaning and remove unneccesary information."
   ]
  },
  {
   "cell_type": "code",
   "execution_count": 87,
   "metadata": {},
   "outputs": [
    {
     "name": "stdout",
     "output_type": "stream",
     "text": [
      "Shape of the dataset is (215, 13) \n",
      "\n",
      "date                object\n",
      "lapTime            float64\n",
      "lapAverageSpeed    float64\n",
      "track               object\n",
      "weather             object\n",
      "temp               float64\n",
      "track_temp         float64\n",
      "humidity           float64\n",
      "air_pressure       float64\n",
      "wind_speed         float64\n",
      "wind_direction      object\n",
      "rain                object\n",
      "year                object\n",
      "dtype: object\n"
     ]
    }
   ],
   "source": [
    "# Drop unneccesary columns\n",
    "races = races.drop(columns = ['year', 'circuitId', 'round', 'time', 'url'])\n",
    "results = results.drop(columns = ['resultId', 'driverId', 'constructorId', 'number', 'grid', 'position',\n",
    "                                  'positionText', 'positionOrder', 'points', 'laps', 'fastestLap', 'time',\n",
    "                                  'milliseconds', 'fastestLap', 'rank', 'statusId'])\n",
    "track_weather = track_weather.drop(columns = 'local_time')\n",
    "# Update problem data in columns\n",
    "results = results.replace(r'\\\\N','null', regex=True)\n",
    "# Query only those with races finishes\n",
    "results = results.loc[results['fastestLapTime'] != 'null']\n",
    "# Convert fastest lap speed to float & rename columns\n",
    "results['fastestLapSpeed'] = results['fastestLapSpeed'].astype(float)\n",
    "results.rename(columns={'fastestLapSpeed': 'lapAverageSpeed', 'fastestLapTime': 'lapTime'}, inplace = True)\n",
    "# Convert fastest time to milliseconds\n",
    "results['lapTime'] = results['lapTime'].apply(to_milliseconds)\n",
    "# Group by track and date, then average lap and average speed\n",
    "races_results = races.merge(results, on = 'raceId').groupby(['raceId', 'name', 'date']).mean()\n",
    "df = races_results.merge(track_weather, on = 'date')\n",
    "# Add rain column\n",
    "rain_desc = [\"rain\", \"shower\", \"drizzle\", \"wet\"]\n",
    "df['rain'] = np.where(df['weather'].str.contains('|'.join(rain_desc)), 'wet', 'dry')\n",
    "# Add relevant categorical columns\n",
    "df['year'] = df['date'].str[:4].astype(int).astype('object')\n",
    "# Round & export dataframe to csv\n",
    "df = df.round(3)\n",
    "df.to_csv('../data/V10FTW_Data.csv')\n",
    "#Now lets have a look to see our dataframe features match the description outlined earlier in the report.\n",
    "print(f\"Shape of the dataset is {df.shape} \\n\")\n",
    "print(df.dtypes)"
   ]
  },
  {
   "cell_type": "markdown",
   "metadata": {},
   "source": [
    "### Check for Missing Values"
   ]
  },
  {
   "cell_type": "code",
   "execution_count": 94,
   "metadata": {},
   "outputs": [
    {
     "name": "stdout",
     "output_type": "stream",
     "text": [
      "\n",
      "Missing values for each feature:\n",
      "lapTime            0\n",
      "lapAverageSpeed    0\n",
      "track              0\n",
      "temp               0\n",
      "track_temp         0\n",
      "humidity           0\n",
      "air_pressure       0\n",
      "wind_speed         0\n",
      "wind_direction     0\n",
      "rain               0\n",
      "year               0\n",
      "dtype: int64\n"
     ]
    }
   ],
   "source": [
    "print(f\"\\nMissing values for each feature:\"); print(df.isnull().sum())"
   ]
  },
  {
   "cell_type": "markdown",
   "metadata": {},
   "source": [
    "### Summary Statistics\n",
    "Here we can view a summary of the continuous and categorical variables."
   ]
  },
  {
   "cell_type": "code",
   "execution_count": 95,
   "metadata": {},
   "outputs": [
    {
     "data": {
      "text/html": [
       "<div>\n",
       "<style scoped>\n",
       "    .dataframe tbody tr th:only-of-type {\n",
       "        vertical-align: middle;\n",
       "    }\n",
       "\n",
       "    .dataframe tbody tr th {\n",
       "        vertical-align: top;\n",
       "    }\n",
       "\n",
       "    .dataframe thead th {\n",
       "        text-align: right;\n",
       "    }\n",
       "</style>\n",
       "<table border=\"1\" class=\"dataframe\">\n",
       "  <thead>\n",
       "    <tr style=\"text-align: right;\">\n",
       "      <th></th>\n",
       "      <th>lapTime</th>\n",
       "      <th>lapAverageSpeed</th>\n",
       "      <th>temp</th>\n",
       "      <th>track_temp</th>\n",
       "      <th>humidity</th>\n",
       "      <th>air_pressure</th>\n",
       "      <th>wind_speed</th>\n",
       "    </tr>\n",
       "  </thead>\n",
       "  <tbody>\n",
       "    <tr>\n",
       "      <th>count</th>\n",
       "      <td>215.000000</td>\n",
       "      <td>215.000000</td>\n",
       "      <td>215.000000</td>\n",
       "      <td>215.000000</td>\n",
       "      <td>215.000000</td>\n",
       "      <td>215.000000</td>\n",
       "      <td>215.000000</td>\n",
       "    </tr>\n",
       "    <tr>\n",
       "      <th>mean</th>\n",
       "      <td>92600.561456</td>\n",
       "      <td>201.440167</td>\n",
       "      <td>24.074419</td>\n",
       "      <td>35.190698</td>\n",
       "      <td>51.269767</td>\n",
       "      <td>987.548837</td>\n",
       "      <td>2.922326</td>\n",
       "    </tr>\n",
       "    <tr>\n",
       "      <th>std</th>\n",
       "      <td>11098.117244</td>\n",
       "      <td>19.865508</td>\n",
       "      <td>5.040402</td>\n",
       "      <td>9.345193</td>\n",
       "      <td>16.970061</td>\n",
       "      <td>72.822125</td>\n",
       "      <td>1.644096</td>\n",
       "    </tr>\n",
       "    <tr>\n",
       "      <th>min</th>\n",
       "      <td>72460.200000</td>\n",
       "      <td>144.650000</td>\n",
       "      <td>12.000000</td>\n",
       "      <td>14.000000</td>\n",
       "      <td>5.000000</td>\n",
       "      <td>99.000000</td>\n",
       "      <td>0.600000</td>\n",
       "    </tr>\n",
       "    <tr>\n",
       "      <th>25%</th>\n",
       "      <td>83092.395500</td>\n",
       "      <td>191.745000</td>\n",
       "      <td>20.500000</td>\n",
       "      <td>29.000000</td>\n",
       "      <td>40.000000</td>\n",
       "      <td>991.000000</td>\n",
       "      <td>1.500000</td>\n",
       "    </tr>\n",
       "    <tr>\n",
       "      <th>50%</th>\n",
       "      <td>92599.222000</td>\n",
       "      <td>200.785000</td>\n",
       "      <td>24.000000</td>\n",
       "      <td>34.000000</td>\n",
       "      <td>50.000000</td>\n",
       "      <td>1003.000000</td>\n",
       "      <td>2.500000</td>\n",
       "    </tr>\n",
       "    <tr>\n",
       "      <th>75%</th>\n",
       "      <td>100946.418000</td>\n",
       "      <td>213.594500</td>\n",
       "      <td>27.500000</td>\n",
       "      <td>42.000000</td>\n",
       "      <td>61.000000</td>\n",
       "      <td>1012.000000</td>\n",
       "      <td>4.000000</td>\n",
       "    </tr>\n",
       "    <tr>\n",
       "      <th>max</th>\n",
       "      <td>121779.435000</td>\n",
       "      <td>248.377000</td>\n",
       "      <td>37.000000</td>\n",
       "      <td>60.000000</td>\n",
       "      <td>98.000000</td>\n",
       "      <td>1025.000000</td>\n",
       "      <td>8.000000</td>\n",
       "    </tr>\n",
       "  </tbody>\n",
       "</table>\n",
       "</div>"
      ],
      "text/plain": [
       "             lapTime  lapAverageSpeed        temp  track_temp    humidity  \\\n",
       "count     215.000000       215.000000  215.000000  215.000000  215.000000   \n",
       "mean    92600.561456       201.440167   24.074419   35.190698   51.269767   \n",
       "std     11098.117244        19.865508    5.040402    9.345193   16.970061   \n",
       "min     72460.200000       144.650000   12.000000   14.000000    5.000000   \n",
       "25%     83092.395500       191.745000   20.500000   29.000000   40.000000   \n",
       "50%     92599.222000       200.785000   24.000000   34.000000   50.000000   \n",
       "75%    100946.418000       213.594500   27.500000   42.000000   61.000000   \n",
       "max    121779.435000       248.377000   37.000000   60.000000   98.000000   \n",
       "\n",
       "       air_pressure  wind_speed  \n",
       "count    215.000000  215.000000  \n",
       "mean     987.548837    2.922326  \n",
       "std       72.822125    1.644096  \n",
       "min       99.000000    0.600000  \n",
       "25%      991.000000    1.500000  \n",
       "50%     1003.000000    2.500000  \n",
       "75%     1012.000000    4.000000  \n",
       "max     1025.000000    8.000000  "
      ]
     },
     "execution_count": 95,
     "metadata": {},
     "output_type": "execute_result"
    }
   ],
   "source": [
    "df.describe(include='float64')"
   ]
  },
  {
   "cell_type": "code",
   "execution_count": 96,
   "metadata": {},
   "outputs": [
    {
     "data": {
      "text/html": [
       "<div>\n",
       "<style scoped>\n",
       "    .dataframe tbody tr th:only-of-type {\n",
       "        vertical-align: middle;\n",
       "    }\n",
       "\n",
       "    .dataframe tbody tr th {\n",
       "        vertical-align: top;\n",
       "    }\n",
       "\n",
       "    .dataframe thead th {\n",
       "        text-align: right;\n",
       "    }\n",
       "</style>\n",
       "<table border=\"1\" class=\"dataframe\">\n",
       "  <thead>\n",
       "    <tr style=\"text-align: right;\">\n",
       "      <th></th>\n",
       "      <th>track</th>\n",
       "      <th>wind_direction</th>\n",
       "      <th>rain</th>\n",
       "      <th>year</th>\n",
       "    </tr>\n",
       "  </thead>\n",
       "  <tbody>\n",
       "    <tr>\n",
       "      <th>count</th>\n",
       "      <td>215</td>\n",
       "      <td>215</td>\n",
       "      <td>215</td>\n",
       "      <td>215</td>\n",
       "    </tr>\n",
       "    <tr>\n",
       "      <th>unique</th>\n",
       "      <td>20</td>\n",
       "      <td>16</td>\n",
       "      <td>2</td>\n",
       "      <td>13</td>\n",
       "    </tr>\n",
       "    <tr>\n",
       "      <th>top</th>\n",
       "      <td>monza</td>\n",
       "      <td>south</td>\n",
       "      <td>dry</td>\n",
       "      <td>2007</td>\n",
       "    </tr>\n",
       "    <tr>\n",
       "      <th>freq</th>\n",
       "      <td>13</td>\n",
       "      <td>31</td>\n",
       "      <td>182</td>\n",
       "      <td>18</td>\n",
       "    </tr>\n",
       "  </tbody>\n",
       "</table>\n",
       "</div>"
      ],
      "text/plain": [
       "        track wind_direction rain  year\n",
       "count     215            215  215   215\n",
       "unique     20             16    2    13\n",
       "top     monza          south  dry  2007\n",
       "freq       13             31  182    18"
      ]
     },
     "execution_count": 96,
     "metadata": {},
     "output_type": "execute_result"
    }
   ],
   "source": [
    "df.describe(include=['object'])"
   ]
  },
  {
   "cell_type": "markdown",
   "metadata": {},
   "source": [
    "### Continuous Features"
   ]
  },
  {
   "cell_type": "markdown",
   "metadata": {},
   "source": [
    "Testing for potential multicollinearity problems that may effect our models performance."
   ]
  },
  {
   "cell_type": "code",
   "execution_count": 98,
   "metadata": {},
   "outputs": [
    {
     "data": {
      "text/html": [
       "<div>\n",
       "<style scoped>\n",
       "    .dataframe tbody tr th:only-of-type {\n",
       "        vertical-align: middle;\n",
       "    }\n",
       "\n",
       "    .dataframe tbody tr th {\n",
       "        vertical-align: top;\n",
       "    }\n",
       "\n",
       "    .dataframe thead th {\n",
       "        text-align: right;\n",
       "    }\n",
       "</style>\n",
       "<table border=\"1\" class=\"dataframe\">\n",
       "  <thead>\n",
       "    <tr style=\"text-align: right;\">\n",
       "      <th></th>\n",
       "      <th>lapTime</th>\n",
       "      <th>lapAverageSpeed</th>\n",
       "      <th>temp</th>\n",
       "      <th>track_temp</th>\n",
       "      <th>humidity</th>\n",
       "      <th>air_pressure</th>\n",
       "      <th>wind_speed</th>\n",
       "    </tr>\n",
       "  </thead>\n",
       "  <tbody>\n",
       "    <tr>\n",
       "      <th>lapTime</th>\n",
       "      <td>1.000000</td>\n",
       "      <td>0.001423</td>\n",
       "      <td>-0.052734</td>\n",
       "      <td>-0.356947</td>\n",
       "      <td>0.160068</td>\n",
       "      <td>0.138620</td>\n",
       "      <td>0.187672</td>\n",
       "    </tr>\n",
       "    <tr>\n",
       "      <th>lapAverageSpeed</th>\n",
       "      <td>0.001423</td>\n",
       "      <td>1.000000</td>\n",
       "      <td>-0.071805</td>\n",
       "      <td>-0.003104</td>\n",
       "      <td>-0.078459</td>\n",
       "      <td>-0.215872</td>\n",
       "      <td>0.053095</td>\n",
       "    </tr>\n",
       "    <tr>\n",
       "      <th>temp</th>\n",
       "      <td>-0.052734</td>\n",
       "      <td>-0.071805</td>\n",
       "      <td>1.000000</td>\n",
       "      <td>0.616918</td>\n",
       "      <td>-0.318113</td>\n",
       "      <td>0.073936</td>\n",
       "      <td>-0.116751</td>\n",
       "    </tr>\n",
       "    <tr>\n",
       "      <th>track_temp</th>\n",
       "      <td>-0.356947</td>\n",
       "      <td>-0.003104</td>\n",
       "      <td>0.616918</td>\n",
       "      <td>1.000000</td>\n",
       "      <td>-0.472892</td>\n",
       "      <td>-0.082002</td>\n",
       "      <td>-0.205659</td>\n",
       "    </tr>\n",
       "    <tr>\n",
       "      <th>humidity</th>\n",
       "      <td>0.160068</td>\n",
       "      <td>-0.078459</td>\n",
       "      <td>-0.318113</td>\n",
       "      <td>-0.472892</td>\n",
       "      <td>1.000000</td>\n",
       "      <td>-0.076109</td>\n",
       "      <td>0.078590</td>\n",
       "    </tr>\n",
       "    <tr>\n",
       "      <th>air_pressure</th>\n",
       "      <td>0.138620</td>\n",
       "      <td>-0.215872</td>\n",
       "      <td>0.073936</td>\n",
       "      <td>-0.082002</td>\n",
       "      <td>-0.076109</td>\n",
       "      <td>1.000000</td>\n",
       "      <td>-0.029121</td>\n",
       "    </tr>\n",
       "    <tr>\n",
       "      <th>wind_speed</th>\n",
       "      <td>0.187672</td>\n",
       "      <td>0.053095</td>\n",
       "      <td>-0.116751</td>\n",
       "      <td>-0.205659</td>\n",
       "      <td>0.078590</td>\n",
       "      <td>-0.029121</td>\n",
       "      <td>1.000000</td>\n",
       "    </tr>\n",
       "  </tbody>\n",
       "</table>\n",
       "</div>"
      ],
      "text/plain": [
       "                  lapTime  lapAverageSpeed      temp  track_temp  humidity  \\\n",
       "lapTime          1.000000         0.001423 -0.052734   -0.356947  0.160068   \n",
       "lapAverageSpeed  0.001423         1.000000 -0.071805   -0.003104 -0.078459   \n",
       "temp            -0.052734        -0.071805  1.000000    0.616918 -0.318113   \n",
       "track_temp      -0.356947        -0.003104  0.616918    1.000000 -0.472892   \n",
       "humidity         0.160068        -0.078459 -0.318113   -0.472892  1.000000   \n",
       "air_pressure     0.138620        -0.215872  0.073936   -0.082002 -0.076109   \n",
       "wind_speed       0.187672         0.053095 -0.116751   -0.205659  0.078590   \n",
       "\n",
       "                 air_pressure  wind_speed  \n",
       "lapTime              0.138620    0.187672  \n",
       "lapAverageSpeed     -0.215872    0.053095  \n",
       "temp                 0.073936   -0.116751  \n",
       "track_temp          -0.082002   -0.205659  \n",
       "humidity            -0.076109    0.078590  \n",
       "air_pressure         1.000000   -0.029121  \n",
       "wind_speed          -0.029121    1.000000  "
      ]
     },
     "execution_count": 98,
     "metadata": {},
     "output_type": "execute_result"
    }
   ],
   "source": [
    "df.corr(method='spearman')"
   ]
  },
  {
   "cell_type": "markdown",
   "metadata": {},
   "source": [
    "This information may be more interpretable later on when we develop our models for `lapTime`. On first glance, it seems `air_pressure` is going to have little predictive power, due to its low range and lack of relationship with other features. Additionally, `temp` and `track_temp` seem closely related, as expected."
   ]
  },
  {
   "cell_type": "markdown",
   "metadata": {},
   "source": [
    "Now specifically investigating the target feature of our report, namely `lapTime`."
   ]
  },
  {
   "cell_type": "code",
   "execution_count": 73,
   "metadata": {},
   "outputs": [
    {
     "data": {
      "text/html": [
       "<div>\n",
       "<style scoped>\n",
       "    .dataframe tbody tr th:only-of-type {\n",
       "        vertical-align: middle;\n",
       "    }\n",
       "\n",
       "    .dataframe tbody tr th {\n",
       "        vertical-align: top;\n",
       "    }\n",
       "\n",
       "    .dataframe thead th {\n",
       "        text-align: right;\n",
       "    }\n",
       "</style>\n",
       "<table border=\"1\" class=\"dataframe\">\n",
       "  <thead>\n",
       "    <tr style=\"text-align: right;\">\n",
       "      <th></th>\n",
       "      <th>lapTime</th>\n",
       "    </tr>\n",
       "  </thead>\n",
       "  <tbody>\n",
       "    <tr>\n",
       "      <th>count</th>\n",
       "      <td>215.000000</td>\n",
       "    </tr>\n",
       "    <tr>\n",
       "      <th>mean</th>\n",
       "      <td>92600.561456</td>\n",
       "    </tr>\n",
       "    <tr>\n",
       "      <th>std</th>\n",
       "      <td>11098.117244</td>\n",
       "    </tr>\n",
       "    <tr>\n",
       "      <th>min</th>\n",
       "      <td>72460.200000</td>\n",
       "    </tr>\n",
       "    <tr>\n",
       "      <th>25%</th>\n",
       "      <td>83092.395500</td>\n",
       "    </tr>\n",
       "    <tr>\n",
       "      <th>50%</th>\n",
       "      <td>92599.222000</td>\n",
       "    </tr>\n",
       "    <tr>\n",
       "      <th>75%</th>\n",
       "      <td>100946.418000</td>\n",
       "    </tr>\n",
       "    <tr>\n",
       "      <th>max</th>\n",
       "      <td>121779.435000</td>\n",
       "    </tr>\n",
       "  </tbody>\n",
       "</table>\n",
       "</div>"
      ],
      "text/plain": [
       "             lapTime\n",
       "count     215.000000\n",
       "mean    92600.561456\n",
       "std     11098.117244\n",
       "min     72460.200000\n",
       "25%     83092.395500\n",
       "50%     92599.222000\n",
       "75%    100946.418000\n",
       "max    121779.435000"
      ]
     },
     "execution_count": 73,
     "metadata": {},
     "output_type": "execute_result"
    }
   ],
   "source": [
    "df[['lapTime']].describe()"
   ]
  },
  {
   "cell_type": "markdown",
   "metadata": {},
   "source": [
    "Range of `lapTime` seems suitable, as does its variance."
   ]
  },
  {
   "cell_type": "markdown",
   "metadata": {},
   "source": [
    "### Categorical Features"
   ]
  },
  {
   "cell_type": "markdown",
   "metadata": {},
   "source": [
    "We can now safely remove the `date` and `weather` columns as `year` sufficiently describes date, and `rain` describes the track conditions."
   ]
  },
  {
   "cell_type": "code",
   "execution_count": 89,
   "metadata": {},
   "outputs": [],
   "source": [
    "df = df.drop(columns=['date', 'weather'])"
   ]
  },
  {
   "cell_type": "markdown",
   "metadata": {},
   "source": [
    "Now lets investigate the categorical features of our dataframe."
   ]
  },
  {
   "cell_type": "code",
   "execution_count": 90,
   "metadata": {},
   "outputs": [
    {
     "name": "stdout",
     "output_type": "stream",
     "text": [
      "Unique values: track\n",
      "['albert-park' 'sepang' 'shanghai' 'sachir' 'catalunya' 'de-monaco'\n",
      " 'istanbul' 'silverstone' 'hungaroring' 'valencia' 'de-spa' 'monza' 'fuji'\n",
      " 'interlagos' 'abu-dhabi' 'montreal' 'magny-cours' 'indianapolis' 'austin'\n",
      " 'mexico']\n",
      "\n",
      "Unique values: wind_direction\n",
      "['south' 'turning' 'east' 'southeast' 'northeast' 'northwest' 'west'\n",
      " 'north' 'southern' 'southwest' 'turning east' 'turning south'\n",
      " 'western liqueur' 'turning west' 'turning southeast' 'changing']\n",
      "\n",
      "Unique values: rain\n",
      "['dry' 'wet']\n",
      "\n",
      "Unique values: year\n",
      "[2009 2008 2007 2010 2011 2012 2013 2014 2015 2016 2017 2018 2019]\n",
      "\n"
     ]
    }
   ],
   "source": [
    "categorical_columns = df.columns[df.dtypes==object].tolist()\n",
    "for col in categorical_columns:\n",
    "    print('Unique values: ' + col)\n",
    "    print(df[col].unique()); print('')"
   ]
  },
  {
   "cell_type": "markdown",
   "metadata": {},
   "source": [
    "As shown above, the unique values for `wind_direction` are large. Due to a translator function being used in the scrape weather script mentioned earlier, there is some conflicting and similar information being shown. With this in mind, it is likely that this data is not going to be useful in our models. Therefore, it will be removed."
   ]
  },
  {
   "cell_type": "code",
   "execution_count": 77,
   "metadata": {},
   "outputs": [],
   "source": [
    "df = df.drop(columns='wind_direction')"
   ]
  },
  {
   "cell_type": "markdown",
   "metadata": {},
   "source": [
    "## Data Exploration <a name=\"explore\">\n",
    "\n",
    "We will now explore and investigate our data that we have prepared before modelling."
   ]
  },
  {
   "cell_type": "code",
   "execution_count": 78,
   "metadata": {},
   "outputs": [
    {
     "data": {
      "image/png": "[encoded data removed]",
      "text/plain": [
       "<Figure size 432x288 with 1 Axes>"
      ]
     },
     "metadata": {
      "needs_background": "light"
     },
     "output_type": "display_data"
    }
   ],
   "source": [
    "#Compare dry vs wet laptimes at one circuit vs another\n",
    "wet = df.loc[(df['rain'] == 'wet')]; value_counts = wet['track'].value_counts().head(8).plot(kind='barh')\n",
    "#only showing top 8 results for simplicity\n",
    "plt.title('Figure 2: Rain results per track'); plt.ylabel('track'); plt.xlabel('no. of rain results');plt.show()"
   ]
  },
  {
   "cell_type": "code",
   "execution_count": 79,
   "metadata": {},
   "outputs": [
    {
     "data": {
      "image/png": "[encoded data removed]",
      "text/plain": [
       "<Figure size 432x288 with 4 Axes>"
      ]
     },
     "metadata": {
      "needs_background": "light"
     },
     "output_type": "display_data"
    }
   ],
   "source": [
    "#Figure setup\n",
    "fig = plt.figure()\n",
    "ax1 = fig.add_subplot(221); ax2 = fig.add_subplot(222); ax3 = fig.add_subplot(223); ax4 = fig.add_subplot(224)\n",
    "silverstone = df[df['track']=='silverstone']; sepang = df[df['track']=='sepang']\n",
    "interlagos = df[df['track']=='interlagos']; deMonaco = df[df['track']=='de-monaco']\n",
    "interlagosTimes = sns.boxplot(y=\"lapTime\",x=\"rain\",data=interlagos.sort_values(by='rain',ascending=False),ax=ax3)\n",
    "interlagosTimes.set(ylabel=\"fastest lap time in ms\",title='Fastest laptimes at Interlagos')\n",
    "sepangTimes = sns.boxplot(y=\"lapTime\",x=\"rain\",data=sepang.sort_values(by='rain',ascending=False),ax=ax1)\n",
    "sepangTimes.set(ylabel=\"fastest lap time in ms\",title=\"Fastest laptimes at Sepang\")\n",
    "silverstoneTimes = sns.boxplot(y=\"lapTime\",x=\"rain\",data=silverstone.sort_values(by='rain',ascending=False),ax=ax2)\n",
    "silverstoneTimes.set(ylabel=\"fastest lap time in ms\",title='Fastest laptimes at Silverstone')\n",
    "interlagosTimes = sns.boxplot(y=\"lapTime\",x=\"rain\",data=interlagos.sort_values(by='rain',ascending=False),ax=ax3)\n",
    "interlagosTimes.set(ylabel=\"fastest lap time in ms\",title='Fastest laptimes at Interlagos')\n",
    "monacoTimes = sns.boxplot(y=\"lapTime\",x=\"rain\",data=deMonaco.sort_values(by='rain',ascending=False),ax=ax4)\n",
    "monacoTimes.set(ylabel=\"fastest lap time in ms\",title='Fastest laptimes at Monaco')\n",
    "plt.tight_layout(pad=2, w_pad=2, h_pad=1); plt.show()"
   ]
  },
  {
   "cell_type": "markdown",
   "metadata": {},
   "source": [
    "In the above comparison, Sepang, Interlagos and Silverstone (3 of the tracks with the highest quantity of wet races, likely due to their natural climates) show that wet tracks can have a general increase on laptimes (as expected). However, this also shows that there are some outliers and external factors other than rain that can affect these lengthier times. Those anomolies (on both wet and dry) are likely due to either severe weather or safety factors. All of them do however show that it is incredibly unlikely to get the fastest possible laptime in wet conditions.\n",
    "There is however some extremely impressive lap times in all of the above results given that the max whisker (in all graphs) sits in the interquartile range of the dry lap times.\n",
    "\n",
    "### Temperature\n",
    "\n",
    "Comparing the above tracks and the affect that temps have on the laptimes.\n",
    "\n",
    "First however, a quick overview of the above track temperature and their normal distributions at each track.\n",
    "\n",
    "This will help give us an overview of the differences in the track temps at each track as well as just how much the track temps can differ over a variety of races on a given track."
   ]
  },
  {
   "cell_type": "code",
   "execution_count": 80,
   "metadata": {},
   "outputs": [
    {
     "data": {
      "image/png": "[encoded data removed]",
      "text/plain": [
       "<Figure size 432x288 with 2 Axes>"
      ]
     },
     "metadata": {
      "needs_background": "light"
     },
     "output_type": "display_data"
    }
   ],
   "source": [
    "#Figure setup\n",
    "fig = plt.figure(); ax = fig.add_subplot(121); ax1 = fig.add_subplot(122)\n",
    "sns.distplot(sepang[['track_temp']],hist=False,ax=ax,label='Sepang')\n",
    "sns.distplot(silverstone[['track_temp']],hist=False,ax=ax,label='Silverstone')\n",
    "sns.distplot(interlagos[['track_temp']],hist=False,ax=ax,label='Interlagos')\n",
    "sns.distplot(deMonaco[['track_temp']],hist=False,ax=ax,label='Monaco')\n",
    "ax.set_title('ND for track temperatures at each track')\n",
    "ax.set_xlabel('Track Temperature (degrees C)'); ax.set_ylabel('Density')\n",
    "ax.legend(loc='best',frameon=False, bbox_to_anchor=(1.05, 1), fontsize='small')\n",
    "sns.lineplot(x=\"track_temp\",y=\"lapTime\",data=sepang)\n",
    "sns.lineplot(x=\"track_temp\",y=\"lapTime\",data=silverstone)\n",
    "sns.lineplot(x=\"track_temp\",y=\"lapTime\",data=interlagos)\n",
    "sns.lineplot(x=\"track_temp\",y=\"lapTime\",data=deMonaco)\n",
    "plt.title('Track temp vs. Fastest lap times')\n",
    "plt.xlabel('Track Temperature (degrees C)'); plt.ylabel('Fastest lap time in ms')\n",
    "plt.tight_layout(pad=0, w_pad=3, h_pad=1); plt.show()"
   ]
  },
  {
   "cell_type": "markdown",
   "metadata": {},
   "source": [
    "Before continuing, it is worth noting that this shows that Silverstone is the most left skewed of 40deg, meaning that it generally will be cooler on that track compared to the others. Interlagos has a much broader spread however appears to be generally the hotter track.\n",
    "Although a relationship cannot be made over all tracks, a general decrease in lap times can be seen over Interlagos, Silverstone and Monaco when track temps increase. This is suggestive that warmer tracks can play a role in reducing lap times. However, with with the exception of Monaco's results, all show that there is a threshold where high track temps can cause a spike in fastest lap times to increase. Track temps are generally hotter than the air temperature and can result in better grip, however too high can potentially degrade tyres much faster. \n",
    "<br>Overall it is clearly not as major a factor to lap performance as wet weather was in our previous graphs, however it was worth noting the relationship.\n",
    "\n",
    "### Wind Speed\n",
    "\n",
    "Finally, in regards to weather, we will look at the affects of wind speeds on F1 performance."
   ]
  },
  {
   "cell_type": "code",
   "execution_count": 81,
   "metadata": {},
   "outputs": [
    {
     "data": {
      "image/png": "[encoded data removed]",
      "text/plain": [
       "<Figure size 432x288 with 2 Axes>"
      ]
     },
     "metadata": {
      "needs_background": "light"
     },
     "output_type": "display_data"
    }
   ],
   "source": [
    "#Figure setup\n",
    "fig = plt.figure()\n",
    "ax1 = fig.add_subplot(121)\n",
    "sns.lineplot(x=\"wind_speed\",y=\"lapTime\",data=deMonaco)\n",
    "plt.title('Wind vs. Fastest lap times in Monaco')\n",
    "plt.xlabel('Wind speed in kmh'); plt.ylabel('Fastest lap time in ms')\n",
    "ax2 = fig.add_subplot(122)\n",
    "sns.lineplot(x=\"wind_speed\",y=\"lapTime\",data=sepang,label=\"Sepang\")\n",
    "sns.lineplot(x=\"wind_speed\",y=\"lapTime\",data=silverstone,label=\"Silverstone\")\n",
    "sns.lineplot(x=\"wind_speed\",y=\"lapTime\",data=interlagos,label=\"Interlagos\")\n",
    "plt.title('Wind vs. Fastest lap times')\n",
    "plt.xlabel('Wind speed in kmh'); plt.ylabel('Fastest lap time in ms')\n",
    "plt.tight_layout(pad=2, w_pad=2, h_pad=1)\n",
    "plt.legend(loc='best',frameon=False, bbox_to_anchor=(1.05, 1), fontsize='small'); plt.show()"
   ]
  },
  {
   "cell_type": "markdown",
   "metadata": {},
   "source": [
    "In the above we have seperated Monaco due to its unique lower average wind speed. We can clearly see that Monaco generally has quite low wind speeds across all of its results, ranging from as little as 1 to 2kmh. This may be consistent with Monaco being one of the few street circuits in Formula 1, hosted mainly around the streets of Monte Carlo. Both graphs show quite linear results in Monaco, where a slight increase in wind speeds results in longer laptimes. However, the results presented across the other circuits is not quite as consistent.<br>\n",
    "To us, this suggests that wind speeds, when isolated and low, present a reasonably large impact on lap performance. However, across tracks that are more susceptible to higher wind speeds and other enviornmental factors due to being more open than Monaco, results can be messy and a relationship being made is inconclusive.\n",
    "<br>\n",
    "To investigate further, we will now look at the likelyhood of having multiple instances of the above weather and how likely it is that they will occur."
   ]
  },
  {
   "cell_type": "markdown",
   "metadata": {},
   "source": [
    "### Multiple Weather Events"
   ]
  },
  {
   "cell_type": "code",
   "execution_count": 82,
   "metadata": {},
   "outputs": [
    {
     "data": {
      "image/png": "[encoded data removed]",
      "text/plain": [
       "<Figure size 432x288 with 4 Axes>"
      ]
     },
     "metadata": {
      "needs_background": "light"
     },
     "output_type": "display_data"
    }
   ],
   "source": [
    "# create scatterplot \n",
    "fig = plt.figure()\n",
    "ax1 = fig.add_subplot(141); ax2 = fig.add_subplot(142); ax3 = fig.add_subplot(143); ax4 = fig.add_subplot(144)\n",
    "rain_wind = sns.scatterplot(df['rain'], df['wind_speed'], hue=df['rain'],ax=ax1)\n",
    "rain_wind.set(title='Wind vs rain',ylabel='wind in kmh')\n",
    "rain_temp = sns.scatterplot(df['rain'], df['track_temp'], hue=df['rain'],ax=ax2)\n",
    "rain_temp.set(title='Rain vs temp',ylabel='track temp in \\N{DEGREE SIGN}c')\n",
    "wind_temp = sns.scatterplot(df['wind_speed'], df['track_temp'], hue=df['wind_speed'],ax=ax3)\n",
    "wind_temp.set(title='Rain vs Wind',ylabel='track temp in \\N{DEGREE SIGN}c')\n",
    "air_tracktemp = sns.scatterplot(df['temp'],df['track_temp'], hue=df['temp'],ax=ax4)\n",
    "air_tracktemp.set(title='Air vs track temp',ylabel=\"track temp in \\N{DEGREE SIGN}c\", xlabel=\"Air temp in \\N{DEGREE SIGN}c\")\n",
    "ax1.get_legend().remove(); ax2.get_legend().remove(); ax3.get_legend().remove(); ax4.get_legend().remove()\n",
    "plt.tight_layout(pad=2, w_pad=2, h_pad=1); plt.show();"
   ]
  },
  {
   "cell_type": "markdown",
   "metadata": {},
   "source": [
    "Thanks to the above, we can conclude that wind and rain, and wind and temperature are independent from one another. However, it seems that for the majority, higher recorded track temps are commonly on dry days.\n",
    "This also provides us backup in regards to not including other factors in our data. Such as the 4th graph showing track vs air temperature being very closely related, where an increase in air temp results in an increase of recorded track temperatures.\n",
    "<br><br>\n",
    "\n",
    "## Statistical Modelling & Performance Evaluation <a name=\"model\">\n",
    "\n",
    "### Full Model\n",
    "Below is our current dataframe we will be using to develop our models for predicting `lapTime`."
   ]
  },
  {
   "cell_type": "code",
   "execution_count": 83,
   "metadata": {},
   "outputs": [
    {
     "data": {
      "text/html": [
       "<div>\n",
       "<style scoped>\n",
       "    .dataframe tbody tr th:only-of-type {\n",
       "        vertical-align: middle;\n",
       "    }\n",
       "\n",
       "    .dataframe tbody tr th {\n",
       "        vertical-align: top;\n",
       "    }\n",
       "\n",
       "    .dataframe thead th {\n",
       "        text-align: right;\n",
       "    }\n",
       "</style>\n",
       "<table border=\"1\" class=\"dataframe\">\n",
       "  <thead>\n",
       "    <tr style=\"text-align: right;\">\n",
       "      <th></th>\n",
       "      <th>lapTime</th>\n",
       "      <th>lapAverageSpeed</th>\n",
       "      <th>track</th>\n",
       "      <th>temp</th>\n",
       "      <th>track_temp</th>\n",
       "      <th>humidity</th>\n",
       "      <th>air_pressure</th>\n",
       "      <th>wind_speed</th>\n",
       "      <th>rain</th>\n",
       "      <th>year</th>\n",
       "    </tr>\n",
       "  </thead>\n",
       "  <tbody>\n",
       "    <tr>\n",
       "      <th>148</th>\n",
       "      <td>101203.545</td>\n",
       "      <td>193.917</td>\n",
       "      <td>shanghai</td>\n",
       "      <td>21.0</td>\n",
       "      <td>37.0</td>\n",
       "      <td>37.0</td>\n",
       "      <td>1014.0</td>\n",
       "      <td>4.8</td>\n",
       "      <td>dry</td>\n",
       "      <td>2016</td>\n",
       "    </tr>\n",
       "    <tr>\n",
       "      <th>191</th>\n",
       "      <td>84167.789</td>\n",
       "      <td>247.815</td>\n",
       "      <td>monza</td>\n",
       "      <td>22.0</td>\n",
       "      <td>32.0</td>\n",
       "      <td>61.0</td>\n",
       "      <td>995.0</td>\n",
       "      <td>2.5</td>\n",
       "      <td>dry</td>\n",
       "      <td>2018</td>\n",
       "    </tr>\n",
       "    <tr>\n",
       "      <th>125</th>\n",
       "      <td>103112.500</td>\n",
       "      <td>192.507</td>\n",
       "      <td>indianapolis</td>\n",
       "      <td>23.0</td>\n",
       "      <td>32.0</td>\n",
       "      <td>42.0</td>\n",
       "      <td>1003.0</td>\n",
       "      <td>6.0</td>\n",
       "      <td>dry</td>\n",
       "      <td>2014</td>\n",
       "    </tr>\n",
       "    <tr>\n",
       "      <th>68</th>\n",
       "      <td>91556.087</td>\n",
       "      <td>209.944</td>\n",
       "      <td>istanbul</td>\n",
       "      <td>16.0</td>\n",
       "      <td>33.0</td>\n",
       "      <td>44.0</td>\n",
       "      <td>1001.0</td>\n",
       "      <td>6.0</td>\n",
       "      <td>dry</td>\n",
       "      <td>2011</td>\n",
       "    </tr>\n",
       "    <tr>\n",
       "      <th>187</th>\n",
       "      <td>95886.722</td>\n",
       "      <td>219.376</td>\n",
       "      <td>magny-cours</td>\n",
       "      <td>24.0</td>\n",
       "      <td>41.0</td>\n",
       "      <td>52.0</td>\n",
       "      <td>966.0</td>\n",
       "      <td>1.0</td>\n",
       "      <td>dry</td>\n",
       "      <td>2018</td>\n",
       "    </tr>\n",
       "  </tbody>\n",
       "</table>\n",
       "</div>"
      ],
      "text/plain": [
       "        lapTime  lapAverageSpeed         track  temp  track_temp  humidity  \\\n",
       "148  101203.545          193.917      shanghai  21.0        37.0      37.0   \n",
       "191   84167.789          247.815         monza  22.0        32.0      61.0   \n",
       "125  103112.500          192.507  indianapolis  23.0        32.0      42.0   \n",
       "68    91556.087          209.944      istanbul  16.0        33.0      44.0   \n",
       "187   95886.722          219.376   magny-cours  24.0        41.0      52.0   \n",
       "\n",
       "     air_pressure  wind_speed rain  year  \n",
       "148        1014.0         4.8  dry  2016  \n",
       "191         995.0         2.5  dry  2018  \n",
       "125        1003.0         6.0  dry  2014  \n",
       "68         1001.0         6.0  dry  2011  \n",
       "187         966.0         1.0  dry  2018  "
      ]
     },
     "execution_count": 83,
     "metadata": {},
     "output_type": "execute_result"
    }
   ],
   "source": [
    "df.sample(5, random_state=999)"
   ]
  },
  {
   "cell_type": "markdown",
   "metadata": {},
   "source": [
    "Now we can develop our two models. On the X-Axis, we add all of our features and categorical variables. Below are the categorical features that will be converted and first dropped for our model. `year` and `track` are included in the model as performance changes throughout the years due to engine designs among other regulations pertaining to the FIA, and track, as each track requires different car configurations and differs in distance etc.\n",
    "* `rain` dummy dropped is dry\n",
    "* `track` dummy dropped is Abu-Dahbi\n",
    "* `year` dummy dropped is 2007\n",
    "\n",
    "On the Y-Axis, our target features mentioned earlier, namely `lapTime`."
   ]
  },
  {
   "cell_type": "code",
   "execution_count": 91,
   "metadata": {
    "scrolled": false
   },
   "outputs": [
    {
     "name": "stdout",
     "output_type": "stream",
     "text": [
      "                            OLS Regression Results                            \n",
      "==============================================================================\n",
      "Dep. Variable:                lapTime   R-squared:                       0.910\n",
      "Model:                            OLS   Adj. R-squared:                  0.890\n",
      "Method:                 Least Squares   F-statistic:                     46.70\n",
      "Date:                Sun, 25 Oct 2020   Prob (F-statistic):           2.11e-73\n",
      "Time:                        15:30:45   Log-Likelihood:                -2048.6\n",
      "No. Observations:                 215   AIC:                             4175.\n",
      "Df Residuals:                     176   BIC:                             4307.\n",
      "Df Model:                          38                                         \n",
      "Covariance Type:            nonrobust                                         \n",
      "======================================================================================\n",
      "                         coef    std err          t      P>|t|      [0.025      0.975]\n",
      "--------------------------------------------------------------------------------------\n",
      "const               1.608e+05   1.22e+04     13.175      0.000    1.37e+05    1.85e+05\n",
      "temp                 214.9759    105.198      2.044      0.042       7.364     422.588\n",
      "track_temp           -91.6592     65.585     -1.398      0.164    -221.092      37.774\n",
      "lapAverageSpeed     -343.6913     55.673     -6.173      0.000    -453.564    -233.819\n",
      "humidity             -30.2773     24.121     -1.255      0.211     -77.880      17.326\n",
      "air_pressure           1.3063      4.436      0.294      0.769      -7.448      10.061\n",
      "wind_speed           422.5759    200.987      2.103      0.037      25.921     819.231\n",
      "rain_wet            1144.3597   1081.408      1.058      0.291    -989.836    3278.556\n",
      "track_albert-park  -5936.7573   1946.516     -3.050      0.003   -9778.273   -2095.242\n",
      "track_austin       -3755.8037   1747.262     -2.150      0.033   -7204.085    -307.523\n",
      "track_catalunya    -1.458e+04   1794.266     -8.124      0.000   -1.81e+04    -1.1e+04\n",
      "track_de-monaco     -3.62e+04   2780.625    -13.020      0.000   -4.17e+04   -3.07e+04\n",
      "track_de-spa        2.144e+04   2576.758      8.322      0.000    1.64e+04    2.65e+04\n",
      "track_fuji           -95.8720   1972.735     -0.049      0.961   -3989.132    3797.388\n",
      "track_hungaroring  -2.031e+04   1767.947    -11.491      0.000   -2.38e+04   -1.68e+04\n",
      "track_indianapolis -3755.8037   1747.262     -2.150      0.033   -7204.085    -307.523\n",
      "track_interlagos   -2.187e+04   1978.317    -11.056      0.000   -2.58e+04    -1.8e+04\n",
      "track_istanbul     -4294.5476   2558.747     -1.678      0.095   -9344.323     755.228\n",
      "track_magny-cours  -6561.7609   2595.336     -2.528      0.012   -1.17e+04   -1439.777\n",
      "track_mexico       -2.122e+04   2491.316     -8.517      0.000   -2.61e+04   -1.63e+04\n",
      "track_montreal     -2.175e+04   1795.274    -12.118      0.000   -2.53e+04   -1.82e+04\n",
      "track_monza         1007.9936   3090.712      0.326      0.745   -5091.634    7107.621\n",
      "track_sachir       -2732.8939   1668.539     -1.638      0.103   -6025.813     560.025\n",
      "track_sepang         170.3074   1833.263      0.093      0.926   -3447.700    3788.315\n",
      "track_shanghai      -374.8349   1669.426     -0.225      0.823   -3669.504    2919.834\n",
      "track_silverstone   1233.9670   2396.415      0.515      0.607   -3495.441    5963.375\n",
      "track_valencia      1946.9203   1989.621      0.979      0.329   -1979.665    5873.506\n",
      "year_2008            962.6416   1356.528      0.710      0.479   -1714.512    3639.796\n",
      "year_2009           3327.0746   1360.878      2.445      0.015     641.336    6012.814\n",
      "year_2010           5881.0683   1322.198      4.448      0.000    3271.664    8490.472\n",
      "year_2011           4958.9803   1387.893      3.573      0.000    2219.926    7698.034\n",
      "year_2012           5153.3708   1330.382      3.874      0.000    2527.817    7778.925\n",
      "year_2013           4627.7677   1381.796      3.349      0.001    1900.747    7354.789\n",
      "year_2014           6987.4332   1415.543      4.936      0.000    4193.811    9781.055\n",
      "year_2015           6830.4870   1396.032      4.893      0.000    4075.370    9585.604\n",
      "year_2016           6436.1671   1313.438      4.900      0.000    3844.052    9028.282\n",
      "year_2017           5393.2393   1308.564      4.121      0.000    2810.742    7975.736\n",
      "year_2018           5837.9095   1338.547      4.361      0.000    3196.241    8479.578\n",
      "year_2019           6099.7762   1361.648      4.480      0.000    3412.517    8787.035\n",
      "==============================================================================\n",
      "Omnibus:                       71.886   Durbin-Watson:                   1.528\n",
      "Prob(Omnibus):                  0.000   Jarque-Bera (JB):              804.818\n",
      "Skew:                          -0.908   Prob(JB):                    1.72e-175\n",
      "Kurtosis:                      12.303   Cond. No.                     5.22e+04\n",
      "==============================================================================\n",
      "\n",
      "Warnings:\n",
      "[1] Standard Errors assume that the covariance matrix of the errors is correctly specified.\n",
      "[2] The condition number is large, 5.22e+04. This might indicate that there are\n",
      "strong multicollinearity or other numerical problems.\n"
     ]
    }
   ],
   "source": [
    "X = df[['temp', 'track_temp', 'lapAverageSpeed', 'humidity', 'air_pressure', 'wind_speed', 'rain', 'track', 'year']]\n",
    "Y = df['lapTime']\n",
    "# Convert categorical into dummy/indicator variables\n",
    "X = pd.get_dummies(data=X, drop_first=True)\n",
    "# With sklearn\n",
    "regr = linear_model.LinearRegression()\n",
    "regr.fit(X, Y)\n",
    "# With statsmodels\n",
    "X = sm.add_constant(X) # adding a constant\n",
    "model = sm.OLS(Y, X).fit()\n",
    "print(model.summary())"
   ]
  },
  {
   "cell_type": "markdown",
   "metadata": {},
   "source": [
    "#### Model Analysis\n",
    "\n",
    "91% of the variation is explained by the independant variables. Observing the p-values, `temp`, `lapAverageSpeed` and `wind_speed` are all statistically significant at the 5% level, whereas `track_temp`, `humidity`, `air_pressure` and `rain` are not. Most of the `tracks` and `years` are highly significant, bar a few.\n",
    "\n",
    "Now we produce new dataframes for prediction purposes, and plot residuals for the mull models."
   ]
  },
  {
   "cell_type": "code",
   "execution_count": 22,
   "metadata": {},
   "outputs": [
    {
     "data": {
      "text/html": [
       "<div>\n",
       "<style scoped>\n",
       "    .dataframe tbody tr th:only-of-type {\n",
       "        vertical-align: middle;\n",
       "    }\n",
       "\n",
       "    .dataframe tbody tr th {\n",
       "        vertical-align: top;\n",
       "    }\n",
       "\n",
       "    .dataframe thead th {\n",
       "        text-align: right;\n",
       "    }\n",
       "</style>\n",
       "<table border=\"1\" class=\"dataframe\">\n",
       "  <thead>\n",
       "    <tr style=\"text-align: right;\">\n",
       "      <th></th>\n",
       "      <th>actual</th>\n",
       "      <th>predicted</th>\n",
       "      <th>residual</th>\n",
       "    </tr>\n",
       "  </thead>\n",
       "  <tbody>\n",
       "    <tr>\n",
       "      <th>148</th>\n",
       "      <td>101203.545</td>\n",
       "      <td>103597.588004</td>\n",
       "      <td>-2394.043004</td>\n",
       "    </tr>\n",
       "    <tr>\n",
       "      <th>191</th>\n",
       "      <td>84167.789</td>\n",
       "      <td>84807.756397</td>\n",
       "      <td>-639.967397</td>\n",
       "    </tr>\n",
       "    <tr>\n",
       "      <th>125</th>\n",
       "      <td>103112.500</td>\n",
       "      <td>102482.073599</td>\n",
       "      <td>630.426401</td>\n",
       "    </tr>\n",
       "    <tr>\n",
       "      <th>68</th>\n",
       "      <td>91556.087</td>\n",
       "      <td>92262.273173</td>\n",
       "      <td>-706.186173</td>\n",
       "    </tr>\n",
       "    <tr>\n",
       "      <th>187</th>\n",
       "      <td>95886.722</td>\n",
       "      <td>86218.008914</td>\n",
       "      <td>9668.713086</td>\n",
       "    </tr>\n",
       "  </tbody>\n",
       "</table>\n",
       "</div>"
      ],
      "text/plain": [
       "         actual      predicted     residual\n",
       "148  101203.545  103597.588004 -2394.043004\n",
       "191   84167.789   84807.756397  -639.967397\n",
       "125  103112.500  102482.073599   630.426401\n",
       "68    91556.087   92262.273173  -706.186173\n",
       "187   95886.722   86218.008914  9668.713086"
      ]
     },
     "execution_count": 22,
     "metadata": {},
     "output_type": "execute_result"
    }
   ],
   "source": [
    "residuals_full = pd.DataFrame({'actual': df['lapTime'], \n",
    "                            'predicted': model.fittedvalues, \n",
    "                            'residual': model.resid})\n",
    "residuals_full.sample(5, random_state=999)"
   ]
  },
  {
   "cell_type": "code",
   "execution_count": 23,
   "metadata": {},
   "outputs": [
    {
     "data": {
      "image/png": "[encoded data removed]",
      "text/plain": [
       "<Figure size 432x288 with 1 Axes>"
      ]
     },
     "metadata": {
      "needs_background": "light"
     },
     "output_type": "display_data"
    }
   ],
   "source": [
    "def plot_line(axis, slope, intercept, **kargs):\n",
    "    xmin, xmax = axis.get_xlim()\n",
    "    plt.plot([xmin, xmax], [xmin*slope+intercept, xmax*slope+intercept], **kargs)\n",
    "# Creating scatter plot\n",
    "plt.scatter(residuals_full['actual'], residuals_full['predicted'], alpha=0.3);\n",
    "plot_line(axis=plt.gca(), slope=1, intercept=0, c=\"red\");\n",
    "plt.xlabel('Actual Lap Time (ms)');\n",
    "plt.ylabel('Predicted Lap Time (ms)');\n",
    "plt.title('Figure X: Actual vs. predicted lap time', fontsize=15);plt.show();"
   ]
  },
  {
   "cell_type": "markdown",
   "metadata": {},
   "source": [
    "Looking at Figure X, we can see that the model is quite accurate for most mid-range track fastest laps, but starts to suffer on longer and shorter tracks. An assumption here is that the longer the track time, the larger the total distance of the track.\n",
    "\n",
    "### Model Diagnostic Checks\n",
    "\n",
    "This section of the report will analyse assumptions of our regression, and whether or not they are sound. More noteably:\n",
    "* Linearity of relationship between target variables and independant variables\n",
    "* Constant variance of errors\n",
    "* Normality of residual distribution\n",
    "* Statistical independence of residuals\n",
    "\n",
    "First, lets produce a scatter plot of residuals for both models."
   ]
  },
  {
   "cell_type": "code",
   "execution_count": 24,
   "metadata": {},
   "outputs": [
    {
     "data": {
      "image/png": "[encoded data removed]",
      "text/plain": [
       "<Figure size 432x288 with 1 Axes>"
      ]
     },
     "metadata": {
      "needs_background": "light"
     },
     "output_type": "display_data"
    }
   ],
   "source": [
    "plt.scatter(residuals_full['predicted'], residuals_full['residual'], alpha=0.3);\n",
    "plt.xlabel('Predicted Lap Time (ms)');plt.ylabel('Residuals')\n",
    "plt.title('Figure X(a): Residuals vs. predicted lap time', fontsize=15);plt.show();"
   ]
  },
  {
   "cell_type": "markdown",
   "metadata": {},
   "source": [
    "Looking at Figure X(a), we can see majority of values centre around 0 and are mostly random. We do not see any evidence of a banding pattern. "
   ]
  },
  {
   "cell_type": "code",
   "execution_count": 25,
   "metadata": {},
   "outputs": [
    {
     "data": {
      "image/png": "[encoded data removed]",
      "text/plain": [
       "<Figure size 432x288 with 1 Axes>"
      ]
     },
     "metadata": {
      "needs_background": "light"
     },
     "output_type": "display_data"
    }
   ],
   "source": [
    "plt.scatter(residuals_full['actual'], residuals_full['residual'], alpha=0.3);\n",
    "plt.xlabel('Predicted Lap Time (ms)');plt.ylabel('Residuals')\n",
    "plt.title('Figure X(c): Residuals vs. actual lap time', fontsize=15); plt.show();"
   ]
  },
  {
   "cell_type": "markdown",
   "metadata": {},
   "source": [
    "In this particular plot, we see the model underestimating speeds below 80000ms and overestimating about 110000ms."
   ]
  },
  {
   "cell_type": "code",
   "execution_count": 26,
   "metadata": {},
   "outputs": [
    {
     "data": {
      "image/png": "[encoded data removed]",
      "text/plain": [
       "<Figure size 432x288 with 1 Axes>"
      ]
     },
     "metadata": {
      "needs_background": "light"
     },
     "output_type": "display_data"
    }
   ],
   "source": [
    "plt.hist(residuals_full['actual'], label='actual', bins=20, alpha=0.7);\n",
    "plt.hist(residuals_full['predicted'], label='predicted', bins=20, alpha=0.7);\n",
    "plt.xlabel('Lap Time (ms)');plt.ylabel('Frequency');\n",
    "plt.title('Figure X: Actual lap time vs. predicted lap time', fontsize=15);plt.legend(); plt.show();"
   ]
  },
  {
   "cell_type": "markdown",
   "metadata": {},
   "source": [
    "Here we can see that for the most part, the models predictions are fairly accurate."
   ]
  },
  {
   "cell_type": "code",
   "execution_count": 27,
   "metadata": {},
   "outputs": [
    {
     "data": {
      "image/png": "[encoded data removed]",
      "text/plain": [
       "<Figure size 432x288 with 1 Axes>"
      ]
     },
     "metadata": {
      "needs_background": "light"
     },
     "output_type": "display_data"
    }
   ],
   "source": [
    "plt.hist(residuals_full['residual'], bins = 20);\n",
    "plt.xlabel('Residual');plt.ylabel('Frequency');\n",
    "plt.title('Figure 12: Histogram of residuals for Full Model', fontsize=15);plt.show();"
   ]
  },
  {
   "cell_type": "markdown",
   "metadata": {},
   "source": [
    "Residuals are regularly symmetric. Though slightly right-skewed. However, we can say with confidence that the normality assumption is not violated.\n",
    "### Backwards Feature Selection\n",
    "\n",
    "Given the p-value violation (> 0.05) of a few features, namely...\n",
    "* `track_temp`\n",
    "* `humidity`\n",
    "* `air_pressure`\n",
    "* `rain_wet`\n",
    "\n",
    "We drop these features, a run a new OLS Regression."
   ]
  },
  {
   "cell_type": "code",
   "execution_count": 28,
   "metadata": {},
   "outputs": [
    {
     "name": "stdout",
     "output_type": "stream",
     "text": [
      "                            OLS Regression Results                            \n",
      "==============================================================================\n",
      "Dep. Variable:                lapTime   R-squared:                       0.907\n",
      "Model:                            OLS   Adj. R-squared:                  0.890\n",
      "Method:                 Least Squares   F-statistic:                     51.69\n",
      "Date:                Sun, 25 Oct 2020   Prob (F-statistic):           1.05e-75\n",
      "Time:                        14:45:24   Log-Likelihood:                -2051.8\n",
      "No. Observations:                 215   AIC:                             4174.\n",
      "Df Residuals:                     180   BIC:                             4291.\n",
      "Df Model:                          34                                         \n",
      "Covariance Type:            nonrobust                                         \n",
      "======================================================================================\n",
      "                         coef    std err          t      P>|t|      [0.025      0.975]\n",
      "--------------------------------------------------------------------------------------\n",
      "const               1.675e+05   9060.480     18.485      0.000     1.5e+05    1.85e+05\n",
      "temp                 109.6241     69.291      1.582      0.115     -27.102     246.350\n",
      "lapAverageSpeed     -378.8734     47.935     -7.904      0.000    -473.460    -284.287\n",
      "wind_speed           363.4915    198.091      1.835      0.068     -27.387     754.370\n",
      "track_albert-park  -5579.9289   1869.203     -2.985      0.003   -9268.298   -1891.559\n",
      "track_austin       -3635.9482   1712.477     -2.123      0.035   -7015.060    -256.837\n",
      "track_catalunya    -1.563e+04   1575.049     -9.921      0.000   -1.87e+04   -1.25e+04\n",
      "track_de-monaco    -3.836e+04   2379.960    -16.120      0.000   -4.31e+04   -3.37e+04\n",
      "track_de-spa        2.205e+04   2410.615      9.146      0.000    1.73e+04    2.68e+04\n",
      "track_fuji            70.9671   1833.886      0.039      0.969   -3547.713    3689.647\n",
      "track_hungaroring  -2.121e+04   1541.588    -13.758      0.000   -2.43e+04   -1.82e+04\n",
      "track_indianapolis -3635.9482   1712.477     -2.123      0.035   -7015.060    -256.837\n",
      "track_interlagos   -2.256e+04   1663.785    -13.558      0.000   -2.58e+04   -1.93e+04\n",
      "track_istanbul     -4197.9983   2356.281     -1.782      0.076   -8847.484     451.487\n",
      "track_magny-cours  -7047.0400   2395.223     -2.942      0.004   -1.18e+04   -2320.712\n",
      "track_mexico       -2.282e+04   2055.505    -11.102      0.000   -2.69e+04   -1.88e+04\n",
      "track_montreal     -2.193e+04   1652.083    -13.273      0.000   -2.52e+04   -1.87e+04\n",
      "track_monza         2218.0370   2833.357      0.783      0.435   -3372.829    7808.903\n",
      "track_sachir       -2049.7407   1611.062     -1.272      0.205   -5228.738    1129.256\n",
      "track_sepang        -307.4045   1623.936     -0.189      0.850   -3511.805    2896.996\n",
      "track_shanghai      -490.0959   1593.957     -0.307      0.759   -3635.342    2655.150\n",
      "track_silverstone   1604.2791   2166.846      0.740      0.460   -2671.408    5879.967\n",
      "track_valencia       808.7966   1810.412      0.447      0.656   -2763.563    4381.157\n",
      "year_2008           1557.4455   1328.180      1.173      0.242   -1063.360    4178.251\n",
      "year_2009           3483.8253   1362.922      2.556      0.011     794.465    6173.186\n",
      "year_2010           6156.7497   1311.901      4.693      0.000    3568.067    8745.433\n",
      "year_2011           5244.7209   1373.203      3.819      0.000    2535.075    7954.366\n",
      "year_2012           5457.3735   1296.701      4.209      0.000    2898.684    8016.063\n",
      "year_2013           4917.0176   1362.070      3.610      0.000    2229.338    7604.697\n",
      "year_2014           6443.5623   1378.460      4.674      0.000    3723.542    9163.583\n",
      "year_2015           6148.5545   1339.893      4.589      0.000    3504.636    8792.473\n",
      "year_2016           6269.0922   1292.558      4.850      0.000    3718.576    8819.608\n",
      "year_2017           5271.2162   1311.055      4.021      0.000    2684.203    7858.229\n",
      "year_2018           5984.4016   1339.537      4.468      0.000    3341.185    8627.618\n",
      "year_2019           5991.7923   1364.237      4.392      0.000    3299.838    8683.747\n",
      "==============================================================================\n",
      "Omnibus:                       74.438   Durbin-Watson:                   1.469\n",
      "Prob(Omnibus):                  0.000   Jarque-Bera (JB):              765.584\n",
      "Skew:                          -0.989   Prob(JB):                    5.70e-167\n",
      "Kurtosis:                      12.030   Cond. No.                     8.06e+03\n",
      "==============================================================================\n",
      "\n",
      "Warnings:\n",
      "[1] Standard Errors assume that the covariance matrix of the errors is correctly specified.\n",
      "[2] The condition number is large, 8.06e+03. This might indicate that there are\n",
      "strong multicollinearity or other numerical problems.\n",
      "Regression number of terms: 35\n",
      "Regression F-distribution p-value: 0.0000\n",
      "Regression R-squared: 0.9071\n",
      "Regression Adjusted R-squared: 0.8895\n"
     ]
    }
   ],
   "source": [
    "X = df[['temp', 'lapAverageSpeed', 'wind_speed', 'track', 'year']]\n",
    "# Convert categorical into dummy/indicator variables\n",
    "X = pd.get_dummies(data=X, drop_first=True)\n",
    "# With sklearn\n",
    "regr = linear_model.LinearRegression()\n",
    "regr.fit(X, Y)\n",
    "# With statsmodels\n",
    "X = sm.add_constant(X) # adding a constant\n",
    "model = sm.OLS(Y, X).fit()\n",
    "print(model.summary())\n",
    "print(f\"Regression number of terms: {len(model.model.exog_names)}\")\n",
    "print(f\"Regression F-distribution p-value: {model.f_pvalue:.4f}\")\n",
    "print(f\"Regression R-squared: {model.rsquared:.4f}\")\n",
    "print(f\"Regression Adjusted R-squared: {model.rsquared_adj:.4f}\")"
   ]
  },
  {
   "cell_type": "markdown",
   "metadata": {},
   "source": [
    "Similar to what we did with the first model, we will plot residuals etc."
   ]
  },
  {
   "cell_type": "code",
   "execution_count": 29,
   "metadata": {},
   "outputs": [
    {
     "data": {
      "text/html": [
       "<div>\n",
       "<style scoped>\n",
       "    .dataframe tbody tr th:only-of-type {\n",
       "        vertical-align: middle;\n",
       "    }\n",
       "\n",
       "    .dataframe tbody tr th {\n",
       "        vertical-align: top;\n",
       "    }\n",
       "\n",
       "    .dataframe thead th {\n",
       "        text-align: right;\n",
       "    }\n",
       "</style>\n",
       "<table border=\"1\" class=\"dataframe\">\n",
       "  <thead>\n",
       "    <tr style=\"text-align: right;\">\n",
       "      <th></th>\n",
       "      <th>actual</th>\n",
       "      <th>predicted</th>\n",
       "      <th>residual</th>\n",
       "    </tr>\n",
       "  </thead>\n",
       "  <tbody>\n",
       "    <tr>\n",
       "      <th>148</th>\n",
       "      <td>101203.545</td>\n",
       "      <td>103841.529519</td>\n",
       "      <td>-2637.984519</td>\n",
       "    </tr>\n",
       "    <tr>\n",
       "      <th>191</th>\n",
       "      <td>84167.789</td>\n",
       "      <td>85118.044226</td>\n",
       "      <td>-950.255226</td>\n",
       "    </tr>\n",
       "    <tr>\n",
       "      <th>125</th>\n",
       "      <td>103112.500</td>\n",
       "      <td>102059.796808</td>\n",
       "      <td>1052.703192</td>\n",
       "    </tr>\n",
       "    <tr>\n",
       "      <th>68</th>\n",
       "      <td>91556.087</td>\n",
       "      <td>92925.120577</td>\n",
       "      <td>-1369.033577</td>\n",
       "    </tr>\n",
       "    <tr>\n",
       "      <th>187</th>\n",
       "      <td>95886.722</td>\n",
       "      <td>86301.760057</td>\n",
       "      <td>9584.961943</td>\n",
       "    </tr>\n",
       "  </tbody>\n",
       "</table>\n",
       "</div>"
      ],
      "text/plain": [
       "         actual      predicted     residual\n",
       "148  101203.545  103841.529519 -2637.984519\n",
       "191   84167.789   85118.044226  -950.255226\n",
       "125  103112.500  102059.796808  1052.703192\n",
       "68    91556.087   92925.120577 -1369.033577\n",
       "187   95886.722   86301.760057  9584.961943"
      ]
     },
     "execution_count": 29,
     "metadata": {},
     "output_type": "execute_result"
    }
   ],
   "source": [
    "residuals_reduced = pd.DataFrame({'actual': df['lapTime'], \n",
    "                            'predicted': model.fittedvalues, \n",
    "                            'residual': model.resid})\n",
    "residuals_reduced.sample(n=5, random_state=999)"
   ]
  },
  {
   "cell_type": "code",
   "execution_count": 30,
   "metadata": {},
   "outputs": [
    {
     "data": {
      "image/png": "[encoded data removed]",
      "text/plain": [
       "<Figure size 432x288 with 1 Axes>"
      ]
     },
     "metadata": {
      "needs_background": "light"
     },
     "output_type": "display_data"
    }
   ],
   "source": [
    "plt.scatter(residuals_reduced['actual'], residuals_reduced['predicted'], alpha=0.3);\n",
    "plot_line(axis=plt.gca(), slope=1, intercept=0, c=\"red\");\n",
    "plt.xlabel('Actual Lap Time (ms)');plt.ylabel('Predicted Lap Time (ms)');\n",
    "plt.title('Figure X: Actual vs. predicted lap time', fontsize=15);plt.show();"
   ]
  },
  {
   "cell_type": "markdown",
   "metadata": {},
   "source": [
    "New model gives us an adjusted R-Squared value of 0.89. This means that 89% of the variance of lapTime can be explained with four less variables. However, we are still running into the same problems with the previous model, namely overestimation at shorter tracks and underestimation at longer.\n",
    "\n",
    "### Reduced Model Diagnostic Checks\n",
    "\n",
    "As previously, we will generate some scatter plots of residuals as a function of `lapTime`."
   ]
  },
  {
   "cell_type": "code",
   "execution_count": 31,
   "metadata": {},
   "outputs": [
    {
     "data": {
      "image/png": "[encoded data removed]",
      "text/plain": [
       "<Figure size 432x288 with 1 Axes>"
      ]
     },
     "metadata": {
      "needs_background": "light"
     },
     "output_type": "display_data"
    }
   ],
   "source": [
    "plt.scatter(residuals_reduced['predicted'], residuals_reduced['residual'], alpha=0.3);\n",
    "plt.xlabel('Predicted Lap Time (ms)');plt.ylabel('Residuals')\n",
    "plt.title('Figure X(a): Residuals vs. predicted lap time', fontsize=15);plt.show();"
   ]
  },
  {
   "cell_type": "markdown",
   "metadata": {},
   "source": [
    "Results exhibit similar nature to that of initial model. See Figure X(a)."
   ]
  },
  {
   "cell_type": "code",
   "execution_count": 32,
   "metadata": {},
   "outputs": [
    {
     "data": {
      "image/png": "[encoded data removed]",
      "text/plain": [
       "<Figure size 432x288 with 1 Axes>"
      ]
     },
     "metadata": {
      "needs_background": "light"
     },
     "output_type": "display_data"
    }
   ],
   "source": [
    "plt.hist(residuals_reduced['residual'], bins = 20);\n",
    "plt.xlabel('Residual');plt.ylabel('Frequency');\n",
    "plt.title('Figure 12: Histogram of residuals for Full Model', fontsize=15);plt.show();"
   ]
  },
  {
   "cell_type": "markdown",
   "metadata": {},
   "source": [
    "Very similar again to previous histogram generated in Figure X. Looks relatively symmetric around 0 with similar right-skewdness.\n",
    "\n",
    "## Summary & Conclusion <a name=\"conc\">\n",
    "#### Model Overview\n",
    "With the use of our numerous independant variables, namely `temp`, `wind_speed` and the likes, we were able to produce a full model with an Adjusted R-Squared value of 0.89. Performing subsequent backwards feature selection, we were surprisingly able to maintain the same performance (new Adjusted R-Squared = 0.89), with four less variables. The reduced model has 35 terms, and a F-distribution p-value of 0.\n",
    "Diagnostic checks on our reduced model suggest residuals exhibit acceptable behaviour. With random variance, symmetrical around 0. No banding patterns or significant problems observed.\n",
    "The final (reduced) models adjusted R-squared of .89 is quite high, given the amount of data collected, and problems encountered. This suggests that weather and track data combined are reliable in being able to aid predict lap time performance.\n",
    "The model predicts performance accurately best in mid length tracks, whereas shorter tracks (<80000ms) it tends to overestimate lap time, and on longer tracks (>110000ms), underestimate. These problems may be eliminated with the addition of a greater number of weather and track data points, specifially performance in rainy conditions, as these races were few and far between (33 wet vs 182 dry races).\n",
    "\n",
    "#### Data Exploration\n",
    "To conclude, there is a clear relationship between set weather events and Formula 1 track performance. However different weather events impact at varying levels.\n",
    "We can conclude that wet weather has the largest impact on the ability to perform in regards lap times.\n",
    "Track temperatures have a suprisingly lower affect than predicted, there is potential that in modern racing, both drivers and their teams have learnt to adapt to these slight changes with different tyres and driving techniques (keeping tyre temps ideal). It is however notable that, lower track temps relate to wet weather as rain has shown in our graphs to reduce the overall temperature of the track. Whereas high track temps (beyond a set threshold that we have explored), can actually reduce track performance, as it likely reduces tyre grip as they may degrade faster. \n",
    "Finally (for unique weather events), wind speeds have suprisingly more impact than first assumed. Given the assumption that track temperatures were more vital than wind speeds, it is interesting to see that the opposite may be in place. Although clearly not as impactful as wet weather, wind speeds do have a general impact on track performance by showing a pattern where higher wind speeds can actually help improve lap times. This may be due to the improved downforce generated by the additional wind force being excerted on the car, which can help steady the vehicle during higher speeds. However again, a threshold may exist where too high a wind speed may reduce the overall performance (see notable drop offs on wind vs. speed graphs).\n",
    "\n",
    "#### Furthur study suggested\n",
    "This model is only somewhat reliable for the tracks and conditions mentioned. Furthur studies it is suggested to instead of looking at tracks as a whole, look at track attributes, such as corner types, length etc. This would allow a future model to perform more accurately accross a wider range of tracks and environments, potentially allowing for new track designs to be tested.\n",
    "\n",
    "#### Sources and References\n",
    "* Monaco circuit info - https://en.wikipedia.org/wiki/Circuit_de_Monaco\n",
    "* Track temps and their effect on tyres - https://www.prismaelectronics.com/en/blog/effect-track-temperature-tire-degradation\n",
    "* Weather relationship research - https://sciencing.com/humidity-affect-weather-10033063.html\n",
    "* Regression Case Study - https://www.featureranking.com/tutorials/statistics-tutorials/regression-case-study/"
   ]
  },
  {
   "cell_type": "code",
   "execution_count": null,
   "metadata": {},
   "outputs": [],
   "source": []
  }
 ],
 "metadata": {
  "kernelspec": {
   "display_name": "Python 3",
   "language": "python",
   "name": "python3"
  },
  "language_info": {
   "codemirror_mode": {
    "name": "ipython",
    "version": 3
   },
   "file_extension": ".py",
   "mimetype": "text/x-python",
   "name": "python",
   "nbconvert_exporter": "python",
   "pygments_lexer": "ipython3",
   "version": "3.8.3"
  }
 },
 "nbformat": 4,
 "nbformat_minor": 4
}
