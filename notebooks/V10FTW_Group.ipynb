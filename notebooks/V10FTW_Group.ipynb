{
 "cells": [
  {
   "cell_type": "markdown",
   "metadata": {},
   "source": [
    "# Effect of Weather on F1 Fastest Lap Times & Speed"
   ]
  },
  {
   "cell_type": "markdown",
   "metadata": {},
   "source": [
    "## Introduction"
   ]
  },
  {
   "cell_type": "markdown",
   "metadata": {},
   "source": [
    "The objective of this project is to determine whether or not variables such as temperature, track temperature and humidity etc may effect track fastest lap speeds, times and total laps completed.\n",
    "\n",
    "Data is analysed from five tracks over four different seasons, from 2016 to 2019.\n",
    "\n",
    "* Silverstone, Britain\n",
    "* Albert Park, Melbourne\n",
    "* Interlagos, Brazil\n",
    "* Catalunya, Spain\n",
    "* De spa, Belgium"
   ]
  },
  {
   "cell_type": "markdown",
   "metadata": {},
   "source": [
    "Table of contents:\n",
    "\n",
    "Overview section\n",
    "* Data Preparation\n",
    "* Some other section\n",
    "* Another section"
   ]
  },
  {
   "cell_type": "markdown",
   "metadata": {},
   "source": [
    "## Data Preparation"
   ]
  },
  {
   "cell_type": "markdown",
   "metadata": {},
   "source": [
    "### Preliminaries"
   ]
  },
  {
   "cell_type": "code",
   "execution_count": 190,
   "metadata": {},
   "outputs": [],
   "source": [
    "# Module Imports\n",
    "import numpy as np\n",
    "import pandas as pd\n",
    "import matplotlib.pyplot as plt\n",
    "import seaborn as sns\n",
    "\n",
    "from sklearn import linear_model\n",
    "import statsmodels.api as sm\n",
    "\n"
   ]
  },
  {
   "cell_type": "code",
   "execution_count": 5,
   "metadata": {},
   "outputs": [
    {
     "data": {
      "text/plain": [
       "88604"
      ]
     },
     "execution_count": 5,
     "metadata": {},
     "output_type": "execute_result"
    }
   ],
   "source": [
    "# Helper functions\n",
    "def to_milliseconds(string):\n",
    "    string = string.replace(\".\", \":\").split(\":\")\n",
    "    minutes = int(string[0])\n",
    "    seconds = int(string[1])\n",
    "    milliseconds = int(string[2])\n",
    "    return (minutes * 60000) + (seconds * 1000) + milliseconds\n",
    "\n",
    "to_milliseconds(\"1:28.604\")"
   ]
  },
  {
   "cell_type": "markdown",
   "metadata": {},
   "source": [
    "### Reading in Data & Cleaning"
   ]
  },
  {
   "cell_type": "code",
   "execution_count": null,
   "metadata": {},
   "outputs": [],
   "source": []
  },
  {
   "cell_type": "code",
   "execution_count": 50,
   "metadata": {},
   "outputs": [],
   "source": [
    "# Read invididual data files\n",
    "races = pd.read_csv('https://raw.githubusercontent.com/floeck/formula-1-major-project/master/data/formula-1/races.csv', sep = ',')\n",
    "results = pd.read_csv('../data/formula-1/results.csv', sep = ',')\n",
    "track_weather = pd.read_csv('../data/weather/track_weather.csv', sep = ',')\n",
    "\n",
    "# Drop unneccesary columns\n",
    "races = races.drop(columns = ['year', 'circuitId', 'round', 'time', 'url'])\n",
    "results = results.drop(columns = ['resultId', 'driverId', 'constructorId', 'number', 'grid', 'position',\n",
    "                                  'positionText', 'positionOrder', 'points', 'laps', 'fastestLap', 'time',\n",
    "                                  'milliseconds', 'fastestLap', 'rank'])\n",
    "\n",
    "# Update problem data in columns & query only those with races finishes\n",
    "results = results.replace(r'\\\\N','null', regex=True)\n",
    "results = results.loc[results['fastestLapTime'] != 'null']\n",
    "results = results.drop(columns = ['statusId'])\n",
    "results['fastestLapSpeed'] = results['fastestLapSpeed'].astype(float)\n",
    "\n",
    "# Convert fastest time to milliseconds\n",
    "results['fastestLapTime'] = results['fastestLapTime'].apply(to_milliseconds)\n",
    "\n",
    "# Group by race and track and average fastest lap and top speed for race\n",
    "races_results = races.merge(results, on = 'raceId').groupby(['raceId', 'name', 'date']).mean()\n",
    "\n",
    "df = races_results.merge(track_weather, on = 'date')\n",
    "\n",
    "# Add rain column\n",
    "rain_desc = [\"rain\", \"shower\", \"drizzle\", \"wet\"]\n",
    "df['rain'] = np.where(df['weather'].str.contains('|'.join(rain_desc)), 'wet', 'dry')\n",
    "\n",
    "#remove messy weather column (various titles for same meaning, inconclusive weather, e.g ('wet/dry','dry then wet' etc))\n",
    "df = df.drop(columns=['weather'])\n",
    "\n",
    "# Add year categorical column\n",
    "df['year'] = df['date'].str[:4].astype(int).astype('category')\n",
    "\n",
    "# Export dataframe to csv for submission\n",
    "df.to_csv('../data/V10FTW_Data.csv')\n",
    "\n",
    "\n",
    "\n",
    "# Debug query for specific years/tracks\n",
    "#df = df.loc[~df['track'].str.contains('|'.join(tracks))]\n",
    "#df = df.loc[df['date'].str.contains('|'.join(years))]"
   ]
  },
  {
   "cell_type": "code",
   "execution_count": 51,
   "metadata": {},
   "outputs": [
    {
     "data": {
      "text/html": [
       "<div>\n",
       "<style scoped>\n",
       "    .dataframe tbody tr th:only-of-type {\n",
       "        vertical-align: middle;\n",
       "    }\n",
       "\n",
       "    .dataframe tbody tr th {\n",
       "        vertical-align: top;\n",
       "    }\n",
       "\n",
       "    .dataframe thead th {\n",
       "        text-align: right;\n",
       "    }\n",
       "</style>\n",
       "<table border=\"1\" class=\"dataframe\">\n",
       "  <thead>\n",
       "    <tr style=\"text-align: right;\">\n",
       "      <th></th>\n",
       "      <th>raceId</th>\n",
       "      <th>fastestLapTime</th>\n",
       "      <th>fastestLapSpeed</th>\n",
       "    </tr>\n",
       "  </thead>\n",
       "  <tbody>\n",
       "    <tr>\n",
       "      <th>0</th>\n",
       "      <td>18</td>\n",
       "      <td>87452</td>\n",
       "      <td>218.300</td>\n",
       "    </tr>\n",
       "    <tr>\n",
       "      <th>1</th>\n",
       "      <td>18</td>\n",
       "      <td>87739</td>\n",
       "      <td>217.586</td>\n",
       "    </tr>\n",
       "    <tr>\n",
       "      <th>2</th>\n",
       "      <td>18</td>\n",
       "      <td>88090</td>\n",
       "      <td>216.719</td>\n",
       "    </tr>\n",
       "    <tr>\n",
       "      <th>3</th>\n",
       "      <td>18</td>\n",
       "      <td>88603</td>\n",
       "      <td>215.464</td>\n",
       "    </tr>\n",
       "    <tr>\n",
       "      <th>4</th>\n",
       "      <td>18</td>\n",
       "      <td>87418</td>\n",
       "      <td>218.385</td>\n",
       "    </tr>\n",
       "  </tbody>\n",
       "</table>\n",
       "</div>"
      ],
      "text/plain": [
       "   raceId  fastestLapTime  fastestLapSpeed\n",
       "0      18           87452          218.300\n",
       "1      18           87739          217.586\n",
       "2      18           88090          216.719\n",
       "3      18           88603          215.464\n",
       "4      18           87418          218.385"
      ]
     },
     "execution_count": 51,
     "metadata": {},
     "output_type": "execute_result"
    }
   ],
   "source": [
    "#results.sample(n = 12, random_state = 998)\n",
    "results.head()"
   ]
  },
  {
   "cell_type": "markdown",
   "metadata": {},
   "source": [
    "## Data Plots"
   ]
  },
  {
   "cell_type": "markdown",
   "metadata": {},
   "source": [
    "### Basic Scatter Plots"
   ]
  },
  {
   "cell_type": "code",
   "execution_count": 52,
   "metadata": {},
   "outputs": [
    {
     "data": {
      "image/png": "[encoded data removed]",
      "text/plain": [
       "<Figure size 576x576 with 1 Axes>"
      ]
     },
     "metadata": {},
     "output_type": "display_data"
    }
   ],
   "source": [
    "# create scatterplot \n",
    "sns.set(rc={'figure.figsize':(8,8)})\n",
    "\n",
    "sns.scatterplot(df['rain'], df['track_temp'], hue=df['rain'])\n",
    "plt.title('Figure 1: Fastest Lap Speed over the years')\n",
    "plt.legend(bbox_to_anchor=(1,1))\n",
    "plt.show();\n",
    "\n",
    "\n"
   ]
  },
  {
   "cell_type": "code",
   "execution_count": 53,
   "metadata": {},
   "outputs": [
    {
     "name": "stdout",
     "output_type": "stream",
     "text": [
      "Intercept: \n",
      " 102659.3442220435\n",
      "Coefficients: \n",
      " [ -384.49162342   343.99589999 -3093.32541805  1865.27185668\n",
      "  4877.40360358  2619.10797971  4302.91407992  2518.3315955\n",
      "  6152.45561144  6009.4868061   4817.10532574  1611.73251339\n",
      "   220.25973395   152.15232975]\n",
      "                            OLS Regression Results                            \n",
      "==============================================================================\n",
      "Dep. Variable:         fastestLapTime   R-squared:                       0.176\n",
      "Model:                            OLS   Adj. R-squared:                  0.119\n",
      "Method:                 Least Squares   F-statistic:                     3.059\n",
      "Date:                Tue, 22 Sep 2020   Prob (F-statistic):           0.000261\n",
      "Time:                        14:36:21   Log-Likelihood:                -2286.3\n",
      "No. Observations:                 215   AIC:                             4603.\n",
      "Df Residuals:                     200   BIC:                             4653.\n",
      "Df Model:                          14                                         \n",
      "Covariance Type:            nonrobust                                         \n",
      "==============================================================================\n",
      "                 coef    std err          t      P>|t|      [0.025      0.975]\n",
      "------------------------------------------------------------------------------\n",
      "const       1.027e+05   4300.434     23.872      0.000    9.42e+04    1.11e+05\n",
      "track_temp  -384.4916     80.661     -4.767      0.000    -543.547    -225.437\n",
      "wind_speed   343.9959    478.080      0.720      0.473    -598.728    1286.720\n",
      "year_2008  -3093.3254   3727.320     -0.830      0.408   -1.04e+04    4256.563\n",
      "year_2009   1865.2719   3742.750      0.498      0.619   -5515.043    9245.587\n",
      "year_2010   4877.4036   3642.774      1.339      0.182   -2305.768    1.21e+04\n",
      "year_2011   2619.1080   3762.443      0.696      0.487   -4800.040       1e+04\n",
      "year_2012   4302.9141   3615.840      1.190      0.235   -2827.148    1.14e+04\n",
      "year_2013   2518.3316   3776.505      0.667      0.506   -4928.545    9965.208\n",
      "year_2014   6152.4556   3679.011      1.672      0.096   -1102.171    1.34e+04\n",
      "year_2015   6009.4868   3588.896      1.674      0.096   -1067.444    1.31e+04\n",
      "year_2016   4817.1053   3548.691      1.357      0.176   -2180.544    1.18e+04\n",
      "year_2017   1611.7325   3534.641      0.456      0.649   -5358.213    8581.678\n",
      "year_2018    220.2597   3547.469      0.062      0.951   -6774.981    7215.500\n",
      "year_2019    152.1523   3541.296      0.043      0.966   -6830.916    7135.221\n",
      "==============================================================================\n",
      "Omnibus:                        4.910   Durbin-Watson:                   2.099\n",
      "Prob(Omnibus):                  0.086   Jarque-Bera (JB):                3.183\n",
      "Skew:                           0.111   Prob(JB):                        0.204\n",
      "Kurtosis:                       2.447   Cond. No.                         496.\n",
      "==============================================================================\n",
      "\n",
      "Warnings:\n",
      "[1] Standard Errors assume that the covariance matrix of the errors is correctly specified.\n"
     ]
    }
   ],
   "source": [
    "# fit linear regression temp \ttrack_temp \thumidity \tair_pressure \twind_speed \twind_direction \train\n",
    "X = df[['track_temp', 'wind_speed', 'year']]\n",
    "Y = df['fastestLapTime']\n",
    "\n",
    "# convert categorical into dummy/indicator variables\n",
    "X = pd.get_dummies(data=X, drop_first=True)\n",
    "\n",
    "# with sklearn\n",
    "regr = linear_model.LinearRegression()\n",
    "regr.fit(X, Y)\n",
    "\n",
    "print('Intercept: \\n', regr.intercept_)\n",
    "print('Coefficients: \\n', regr.coef_)\n",
    "\n",
    "# prediction with sklearn\n",
    "\n",
    "track_temp = 24\n",
    "humidity = 80\n",
    "air_pressure = 1000\n",
    "wind_speed = 2\n",
    "rain = 0\n",
    "year = 2016\n",
    "#print ('Predicted Fastest Lap Speed: \\n', regr.predict([[track_temp, humidity, wind_speed, rain, year]]))\n",
    "\n",
    "# with statsmodels\n",
    "X = sm.add_constant(X) # adding a constant\n",
    " \n",
    "model = sm.OLS(Y, X).fit()\n",
    "#predictions = model.predict(X) \n",
    " \n",
    "print_model = model.summary()\n",
    "print(print_model)\n"
   ]
  },
  {
   "cell_type": "code",
   "execution_count": 42,
   "metadata": {},
   "outputs": [],
   "source": [
    "# Year not much of a predictor, \n",
    "# however, 2014 - 2015 (P < 0.1) statistically significant at the 10% level\n",
    "# may indicate fastest lap times in 2014, 2015 were significantly higher than base year of 2007"
   ]
  },
  {
   "cell_type": "markdown",
   "metadata": {},
   "source": [
    "<h2>Wet weather on different circuits:</h2>\n",
    "<p>Comparing different tracks and the affect that wet vs dry weather has on the fastest lap times on each</p>"
   ]
  },
  {
   "cell_type": "code",
   "execution_count": 179,
   "metadata": {},
   "outputs": [
    {
     "data": {
      "text/plain": [
       "dry    182\n",
       "wet     33\n",
       "Name: rain, dtype: int64"
      ]
     },
     "execution_count": 179,
     "metadata": {},
     "output_type": "execute_result"
    }
   ],
   "source": [
    "#No. of recorded races with with vs dry weather:\n",
    "df['rain'].value_counts()"
   ]
  },
  {
   "cell_type": "code",
   "execution_count": 180,
   "metadata": {},
   "outputs": [],
   "source": [
    "#Compare dry vs wet laptimes at one circuit vs another\n",
    "wet = df.loc[(df['rain'] == 'wet')]\n",
    "\n",
    "#wet['track'].value_counts()  #view how many wet laptimes are recorded at each course\n",
    "\n",
    "silverstone = df[df['track']=='silverstone']\n",
    "sepang = df[df['track']=='sepang']\n",
    "interlagos = df[df['track']=='interlagos']"
   ]
  },
  {
   "cell_type": "code",
   "execution_count": 185,
   "metadata": {},
   "outputs": [
    {
     "data": {
      "image/png": "[encoded data removed]",
      "text/plain": [
       "<Figure size 576x576 with 3 Axes>"
      ]
     },
     "metadata": {},
     "output_type": "display_data"
    }
   ],
   "source": [
    "#Figure setup\n",
    "fig = plt.figure()\n",
    "ax1 = fig.add_subplot(131)\n",
    "ax2 = fig.add_subplot(132)\n",
    "ax3 = fig.add_subplot(133)\n",
    "\n",
    "#show sepang times\n",
    "sepangTimes = sns.boxplot(y=\"fastestLapTime\",x=\"rain\",data=sepang.sort_values(by='rain',ascending=False),ax=ax1)\n",
    "sepangTimes.set(ylabel=\"fastest lap time in ms\",title=\"Fastest laptimes at Sepang\")\n",
    "#Show silverstone times\n",
    "silverstoneTimes = sns.boxplot(y=\"fastestLapTime\",x=\"rain\",data=silverstone.sort_values(by='rain',ascending=False),ax=ax2)\n",
    "silverstoneTimes.set(ylabel=\"fastest lap time in ms\",title='Fastest laptimes at Silverstone')\n",
    "#Show interlagos times\n",
    "interlagosTimes = sns.boxplot(y=\"fastestLapTime\",x=\"rain\",data=interlagos.sort_values(by='rain',ascending=False),ax=ax3)\n",
    "interlagosTimes.set(ylabel=\"fastest lap time in ms\",title='Fastest laptimes at Interlagos')\n",
    "\n",
    "plt.tight_layout()\n"
   ]
  },
  {
   "cell_type": "markdown",
   "metadata": {},
   "source": [
    "In the above comparison, Sepang, Interlagos and Silverstone (3 of the tracks with the highest quantity of wet races, likely due to climates) show that wet lap times can have a general increase on laptimes (as expected). However, this also shows that there are some outliers and external factors other than rain that can affect these lengthier times. \n",
    "Those anomolies (on both wet and dry) are likely due to either severe weather or safety factors.\n",
    "All of them do however show that it is incredibly unlikely to get the fastest possible laptime in wet conditions."
   ]
  },
  {
   "cell_type": "code",
   "execution_count": null,
   "metadata": {},
   "outputs": [],
   "source": []
  }
 ],
 "metadata": {
  "kernelspec": {
   "display_name": "Python 3",
   "language": "python",
   "name": "python3"
  },
  "language_info": {
   "codemirror_mode": {
    "name": "ipython",
    "version": 3
   },
   "file_extension": ".py",
   "mimetype": "text/x-python",
   "name": "python",
   "nbconvert_exporter": "python",
   "pygments_lexer": "ipython3",
   "version": "3.7.6"
  }
 },
 "nbformat": 4,
 "nbformat_minor": 4
}
