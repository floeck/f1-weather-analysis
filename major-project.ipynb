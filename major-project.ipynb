{
 "cells": [
  {
   "cell_type": "markdown",
   "metadata": {},
   "source": [
    "# Effect of weather on Formula 1, a broad analysis"
   ]
  },
  {
   "cell_type": "markdown",
   "metadata": {},
   "source": [
    "## Introduction"
   ]
  },
  {
   "cell_type": "markdown",
   "metadata": {},
   "source": [
    "The objective of this project is to determine whether or not variables such as temperature, track temperature and humidity etc may effect track fastest lap speeds, times and total laps completed.\n",
    "\n",
    "Data is analysed from five tracks over four different seasons, from 2016 to 2019.\n",
    "\n",
    "* Silverstone, Britain\n",
    "* Albert Park, Melbourne\n",
    "* Interlagos, Brazil\n",
    "* Catalunya, Spain\n",
    "* De spa, Belgium"
   ]
  },
  {
   "cell_type": "markdown",
   "metadata": {},
   "source": [
    "Table of contents:\n",
    "\n",
    "Overview section\n",
    "* Data Preparation\n",
    "* Some other section\n",
    "* Another section"
   ]
  },
  {
   "cell_type": "markdown",
   "metadata": {},
   "source": [
    "## Data Preparation"
   ]
  },
  {
   "cell_type": "markdown",
   "metadata": {},
   "source": [
    "### Preliminaries"
   ]
  },
  {
   "cell_type": "code",
   "execution_count": 70,
   "metadata": {},
   "outputs": [],
   "source": [
    "# Module Imports\n",
    "import numpy as np\n",
    "import pandas as pd\n",
    "import matplotlib.pyplot as plt\n",
    "import seaborn as sns"
   ]
  },
  {
   "cell_type": "code",
   "execution_count": 212,
   "metadata": {},
   "outputs": [],
   "source": [
    "# Read invididual data files\n",
    "races = pd.read_csv('data/formula-1/races.csv', sep = ',')\n",
    "results = pd.read_csv('data/formula-1/results.csv', sep = ',')\n",
    "track_weather = pd.read_csv('data/track_weather.csv', sep = ',')\n",
    "\n",
    "# Merge data (on raceID & date)\n",
    "data_raw = races.merge(results, on = 'raceId').merge(track_weather, on = 'date')\n",
    "\n",
    "# Clean data (4620, 20) 204\n",
    "df = data_raw.drop(columns = ['url', 'year', 'round', 'circuitId', 'time_x', 'constructorId', 'number', 'grid', 'position', 'track', 'positionOrder', 'positionText', 'resultId', 'time_y'])\n",
    "\n",
    "# Remove '\\N' characters (4416, 20)\n",
    "df = df.replace(r'\\\\N','null', regex=True) \n",
    "df = df.loc[df['fastestLapSpeed'] != 'null']\n",
    "df['fastestLapSpeed'] = df['fastestLapSpeed'].astype(float)\n",
    "\n",
    "\n",
    "fastestLapSpeed = df.groupby(['name', 'date'])['fastestLapSpeed'].mean().reset_index()\n",
    "#fastestLapTime = df.groupby(['name', 'date'])['fastestLapTime'].mean().reset_index()\n",
    "\n",
    "df = fastestLapSpeed.merge(track_weather, on = 'date')\n",
    "\n",
    "df = df.loc[df['track'] == 'de-monaco']\n",
    "\n",
    "\n"
   ]
  },
  {
   "cell_type": "code",
   "execution_count": 162,
   "metadata": {},
   "outputs": [
    {
     "data": {
      "text/plain": [
       "name                object\n",
       "date                object\n",
       "fastestLapSpeed    float64\n",
       "track               object\n",
       "local_time          object\n",
       "weather             object\n",
       "temp               float64\n",
       "track_temp         float64\n",
       "humidity           float64\n",
       "air_pressure       float64\n",
       "wind_speed         float64\n",
       "wind_direction      object\n",
       "dtype: object"
      ]
     },
     "execution_count": 162,
     "metadata": {},
     "output_type": "execute_result"
    }
   ],
   "source": [
    "df.dtypes"
   ]
  },
  {
   "cell_type": "code",
   "execution_count": 163,
   "metadata": {},
   "outputs": [
    {
     "data": {
      "text/html": [
       "<div>\n",
       "<style scoped>\n",
       "    .dataframe tbody tr th:only-of-type {\n",
       "        vertical-align: middle;\n",
       "    }\n",
       "\n",
       "    .dataframe tbody tr th {\n",
       "        vertical-align: top;\n",
       "    }\n",
       "\n",
       "    .dataframe thead th {\n",
       "        text-align: right;\n",
       "    }\n",
       "</style>\n",
       "<table border=\"1\" class=\"dataframe\">\n",
       "  <thead>\n",
       "    <tr style=\"text-align: right;\">\n",
       "      <th></th>\n",
       "      <th>name</th>\n",
       "      <th>date</th>\n",
       "      <th>fastestLapSpeed</th>\n",
       "      <th>track</th>\n",
       "      <th>local_time</th>\n",
       "      <th>weather</th>\n",
       "      <th>temp</th>\n",
       "      <th>track_temp</th>\n",
       "      <th>humidity</th>\n",
       "      <th>air_pressure</th>\n",
       "      <th>wind_speed</th>\n",
       "      <th>wind_direction</th>\n",
       "    </tr>\n",
       "  </thead>\n",
       "  <tbody>\n",
       "    <tr>\n",
       "      <th>13</th>\n",
       "      <td>Australian Grand Prix</td>\n",
       "      <td>2009-03-29</td>\n",
       "      <td>214.918895</td>\n",
       "      <td>albert-park</td>\n",
       "      <td>17:00:00</td>\n",
       "      <td>sunny</td>\n",
       "      <td>21.0</td>\n",
       "      <td>27.0</td>\n",
       "      <td>65.0</td>\n",
       "      <td>1020.0</td>\n",
       "      <td>5.0</td>\n",
       "      <td>south</td>\n",
       "    </tr>\n",
       "    <tr>\n",
       "      <th>15</th>\n",
       "      <td>Australian Grand Prix</td>\n",
       "      <td>2011-03-27</td>\n",
       "      <td>208.256136</td>\n",
       "      <td>albert-park</td>\n",
       "      <td>17:00:00</td>\n",
       "      <td>slightly cloudy</td>\n",
       "      <td>17.0</td>\n",
       "      <td>20.0</td>\n",
       "      <td>61.0</td>\n",
       "      <td>1025.0</td>\n",
       "      <td>4.0</td>\n",
       "      <td>south</td>\n",
       "    </tr>\n",
       "    <tr>\n",
       "      <th>22</th>\n",
       "      <td>Australian Grand Prix</td>\n",
       "      <td>2018-03-25</td>\n",
       "      <td>216.718100</td>\n",
       "      <td>albert-park</td>\n",
       "      <td>16:10:00</td>\n",
       "      <td>slightly cloudy</td>\n",
       "      <td>24.0</td>\n",
       "      <td>36.0</td>\n",
       "      <td>31.0</td>\n",
       "      <td>996.0</td>\n",
       "      <td>4.0</td>\n",
       "      <td>northeast</td>\n",
       "    </tr>\n",
       "    <tr>\n",
       "      <th>17</th>\n",
       "      <td>Australian Grand Prix</td>\n",
       "      <td>2013-03-17</td>\n",
       "      <td>210.337571</td>\n",
       "      <td>albert-park</td>\n",
       "      <td>17:00:00</td>\n",
       "      <td>cloudy</td>\n",
       "      <td>17.0</td>\n",
       "      <td>19.0</td>\n",
       "      <td>50.0</td>\n",
       "      <td>1022.0</td>\n",
       "      <td>4.0</td>\n",
       "      <td>south</td>\n",
       "    </tr>\n",
       "    <tr>\n",
       "      <th>23</th>\n",
       "      <td>Australian Grand Prix</td>\n",
       "      <td>2019-03-17</td>\n",
       "      <td>216.880850</td>\n",
       "      <td>albert-park</td>\n",
       "      <td>16:10:00</td>\n",
       "      <td>sunny</td>\n",
       "      <td>23.0</td>\n",
       "      <td>40.0</td>\n",
       "      <td>70.0</td>\n",
       "      <td>1015.0</td>\n",
       "      <td>1.5</td>\n",
       "      <td>northwest</td>\n",
       "    </tr>\n",
       "    <tr>\n",
       "      <th>18</th>\n",
       "      <td>Australian Grand Prix</td>\n",
       "      <td>2014-03-16</td>\n",
       "      <td>200.978800</td>\n",
       "      <td>albert-park</td>\n",
       "      <td>17:00:00</td>\n",
       "      <td>cloudy</td>\n",
       "      <td>18.0</td>\n",
       "      <td>26.0</td>\n",
       "      <td>46.0</td>\n",
       "      <td>1006.0</td>\n",
       "      <td>8.0</td>\n",
       "      <td>west</td>\n",
       "    </tr>\n",
       "    <tr>\n",
       "      <th>20</th>\n",
       "      <td>Australian Grand Prix</td>\n",
       "      <td>2016-03-20</td>\n",
       "      <td>207.407476</td>\n",
       "      <td>albert-park</td>\n",
       "      <td>16:00:00</td>\n",
       "      <td>slightly cloudy</td>\n",
       "      <td>22.0</td>\n",
       "      <td>31.0</td>\n",
       "      <td>46.0</td>\n",
       "      <td>1018.0</td>\n",
       "      <td>4.0</td>\n",
       "      <td>southern</td>\n",
       "    </tr>\n",
       "    <tr>\n",
       "      <th>14</th>\n",
       "      <td>Australian Grand Prix</td>\n",
       "      <td>2010-03-28</td>\n",
       "      <td>203.904150</td>\n",
       "      <td>albert-park</td>\n",
       "      <td>17:00:00</td>\n",
       "      <td>cloudy, occasional rain</td>\n",
       "      <td>26.0</td>\n",
       "      <td>23.0</td>\n",
       "      <td>41.0</td>\n",
       "      <td>1008.0</td>\n",
       "      <td>2.0</td>\n",
       "      <td>west</td>\n",
       "    </tr>\n",
       "    <tr>\n",
       "      <th>21</th>\n",
       "      <td>Australian Grand Prix</td>\n",
       "      <td>2017-03-26</td>\n",
       "      <td>215.679800</td>\n",
       "      <td>albert-park</td>\n",
       "      <td>16:00:00</td>\n",
       "      <td>slightly cloudy</td>\n",
       "      <td>24.0</td>\n",
       "      <td>34.0</td>\n",
       "      <td>69.0</td>\n",
       "      <td>1010.0</td>\n",
       "      <td>2.0</td>\n",
       "      <td>northwest</td>\n",
       "    </tr>\n",
       "    <tr>\n",
       "      <th>19</th>\n",
       "      <td>Australian Grand Prix</td>\n",
       "      <td>2015-03-15</td>\n",
       "      <td>207.175692</td>\n",
       "      <td>albert-park</td>\n",
       "      <td>17:00:00</td>\n",
       "      <td>slightly cloudy</td>\n",
       "      <td>18.0</td>\n",
       "      <td>34.0</td>\n",
       "      <td>60.0</td>\n",
       "      <td>1015.0</td>\n",
       "      <td>6.0</td>\n",
       "      <td>south</td>\n",
       "    </tr>\n",
       "  </tbody>\n",
       "</table>\n",
       "</div>"
      ],
      "text/plain": [
       "                     name        date  fastestLapSpeed        track  \\\n",
       "13  Australian Grand Prix  2009-03-29       214.918895  albert-park   \n",
       "15  Australian Grand Prix  2011-03-27       208.256136  albert-park   \n",
       "22  Australian Grand Prix  2018-03-25       216.718100  albert-park   \n",
       "17  Australian Grand Prix  2013-03-17       210.337571  albert-park   \n",
       "23  Australian Grand Prix  2019-03-17       216.880850  albert-park   \n",
       "18  Australian Grand Prix  2014-03-16       200.978800  albert-park   \n",
       "20  Australian Grand Prix  2016-03-20       207.407476  albert-park   \n",
       "14  Australian Grand Prix  2010-03-28       203.904150  albert-park   \n",
       "21  Australian Grand Prix  2017-03-26       215.679800  albert-park   \n",
       "19  Australian Grand Prix  2015-03-15       207.175692  albert-park   \n",
       "\n",
       "   local_time                  weather  temp  track_temp  humidity  \\\n",
       "13   17:00:00                    sunny  21.0        27.0      65.0   \n",
       "15   17:00:00          slightly cloudy  17.0        20.0      61.0   \n",
       "22   16:10:00          slightly cloudy  24.0        36.0      31.0   \n",
       "17   17:00:00                   cloudy  17.0        19.0      50.0   \n",
       "23   16:10:00                    sunny  23.0        40.0      70.0   \n",
       "18   17:00:00                   cloudy  18.0        26.0      46.0   \n",
       "20   16:00:00          slightly cloudy  22.0        31.0      46.0   \n",
       "14   17:00:00  cloudy, occasional rain  26.0        23.0      41.0   \n",
       "21   16:00:00          slightly cloudy  24.0        34.0      69.0   \n",
       "19   17:00:00          slightly cloudy  18.0        34.0      60.0   \n",
       "\n",
       "    air_pressure  wind_speed wind_direction  \n",
       "13        1020.0         5.0          south  \n",
       "15        1025.0         4.0          south  \n",
       "22         996.0         4.0      northeast  \n",
       "17        1022.0         4.0          south  \n",
       "23        1015.0         1.5      northwest  \n",
       "18        1006.0         8.0           west  \n",
       "20        1018.0         4.0       southern  \n",
       "14        1008.0         2.0           west  \n",
       "21        1010.0         2.0      northwest  \n",
       "19        1015.0         6.0          south  "
      ]
     },
     "execution_count": 163,
     "metadata": {},
     "output_type": "execute_result"
    }
   ],
   "source": [
    "df.sample(n = 10, random_state=999)"
   ]
  },
  {
   "cell_type": "code",
   "execution_count": 3,
   "metadata": {},
   "outputs": [
    {
     "ename": "NameError",
     "evalue": "name 'gameData' is not defined",
     "output_type": "error",
     "traceback": [
      "\u001b[0;31m---------------------------------------------------------------------------\u001b[0m",
      "\u001b[0;31mNameError\u001b[0m                                 Traceback (most recent call last)",
      "\u001b[0;32m<ipython-input-3-491934a4c88f>\u001b[0m in \u001b[0;36m<module>\u001b[0;34m\u001b[0m\n\u001b[0;32m----> 1\u001b[0;31m \u001b[0mgameData\u001b[0m \u001b[0;34m=\u001b[0m \u001b[0mgameData\u001b[0m\u001b[0;34m.\u001b[0m\u001b[0mdrop\u001b[0m\u001b[0;34m(\u001b[0m\u001b[0mcolumns\u001b[0m \u001b[0;34m=\u001b[0m \u001b[0;34m[\u001b[0m\u001b[0;34m'id'\u001b[0m\u001b[0;34m,\u001b[0m \u001b[0;34m'Round'\u001b[0m\u001b[0;34m]\u001b[0m\u001b[0;34m)\u001b[0m\u001b[0;34m\u001b[0m\u001b[0;34m\u001b[0m\u001b[0m\n\u001b[0m\u001b[1;32m      2\u001b[0m \u001b[0mgameData\u001b[0m\u001b[0;34m[\u001b[0m\u001b[0;34m'Date'\u001b[0m\u001b[0;34m]\u001b[0m \u001b[0;34m=\u001b[0m \u001b[0mgameData\u001b[0m\u001b[0;34m[\u001b[0m\u001b[0;34m'Date'\u001b[0m\u001b[0;34m]\u001b[0m\u001b[0;34m.\u001b[0m\u001b[0mstr\u001b[0m\u001b[0;34m.\u001b[0m\u001b[0msplit\u001b[0m\u001b[0;34m(\u001b[0m\u001b[0;34m' '\u001b[0m\u001b[0;34m)\u001b[0m\u001b[0;34m.\u001b[0m\u001b[0mstr\u001b[0m\u001b[0;34m[\u001b[0m\u001b[0;36m0\u001b[0m\u001b[0;34m]\u001b[0m\u001b[0;34m\u001b[0m\u001b[0;34m\u001b[0m\u001b[0m\n\u001b[1;32m      3\u001b[0m \u001b[0;34m\u001b[0m\u001b[0m\n\u001b[1;32m      4\u001b[0m \u001b[0mindexNames\u001b[0m \u001b[0;34m=\u001b[0m \u001b[0mgameData\u001b[0m\u001b[0;34m[\u001b[0m\u001b[0mgameData\u001b[0m\u001b[0;34m[\u001b[0m\u001b[0;34m'Venue'\u001b[0m\u001b[0;34m]\u001b[0m \u001b[0;34m!=\u001b[0m \u001b[0;34m'M.C.G.'\u001b[0m\u001b[0;34m]\u001b[0m\u001b[0;34m.\u001b[0m\u001b[0mindex\u001b[0m\u001b[0;34m\u001b[0m\u001b[0;34m\u001b[0m\u001b[0m\n\u001b[1;32m      5\u001b[0m \u001b[0mgameData\u001b[0m\u001b[0;34m.\u001b[0m\u001b[0mdrop\u001b[0m\u001b[0;34m(\u001b[0m\u001b[0mindexNames\u001b[0m\u001b[0;34m,\u001b[0m \u001b[0minplace\u001b[0m\u001b[0;34m=\u001b[0m\u001b[0;32mTrue\u001b[0m\u001b[0;34m)\u001b[0m\u001b[0;34m\u001b[0m\u001b[0;34m\u001b[0m\u001b[0m\n",
      "\u001b[0;31mNameError\u001b[0m: name 'gameData' is not defined"
     ]
    }
   ],
   "source": [
    "\n",
    "gameData = gameData.drop(columns = ['id', 'Round'])\n",
    "gameData['Date'] = gameData['Date'].str.split(' ').str[0]\n",
    "\n",
    "indexNames = gameData[gameData['Venue'] != 'M.C.G.'].index\n",
    "gameData.drop(indexNames, inplace=True)\n",
    "\n",
    "gameData['Total.Score'] = gameData['Home.Points'] + gameData['Away.Points']\n",
    "gameData['Total.Goals'] = gameData['Home.Goals'] + gameData['Away.Goals']\n",
    "gameData['Total.Behinds'] = gameData['Home.Behinds'] + gameData['Away.Behinds']\n",
    "\n",
    "# Read & Clean Weather Data\n",
    "\n",
    "years = ['2015', '2016', '2017', '2018', '2019']\n",
    "weatherData = pd.read_csv('data/IDCJAC0009_086338_1800_Data.csv', sep = ',')\n",
    "weatherData = weatherData.loc[weatherData['Year'].isin(years)]\n",
    "weatherData['Month'] = weatherData['Month'].map(lambda x: str(x).zfill(2))\n",
    "weatherData['Day'] = weatherData['Day'].map(lambda x: str(x).zfill(2))\n",
    "weatherData['Date'] = weatherData['Year'].astype(str) + '-' + weatherData['Month'] + '-' + weatherData['Day'].astype(str)\n",
    "weatherData = weatherData.drop(columns = ['Year', 'Month', 'Day', 'Product code', 'Bureau of Meteorology station number', 'Period over which rainfall was measured (days)', 'Quality'])\n",
    "\n",
    "# Read & Clean Solar Data\n",
    "\n",
    "solarData = pd.read_csv('data/IDCJAC0016_086338_1800_Data.csv', sep = ',')\n",
    "solarData = solarData.loc[solarData['Year'].isin(years)]\n",
    "solarData['Month'] = solarData['Month'].map(lambda x: str(x).zfill(2))\n",
    "solarData['Day'] = solarData['Day'].map(lambda x: str(x).zfill(2))\n",
    "solarData['Date'] = solarData['Year'].astype(str) + '-' + solarData['Month'] + '-' + solarData['Day'].astype(str)\n",
    "solarData = solarData.drop(columns = ['Year', 'Month', 'Day', 'Product code', 'Bureau of Meteorology station number'])\n",
    "\n",
    "# Combined Data Sets\n",
    "\n",
    "data = gameData.merge(weatherData, on = 'Date').merge(solarData, on = 'Date')\n",
    "data = data.rename(columns = {'Daily global solar exposure (MJ/m*m)': 'solar_exposure', 'Rainfall amount (millimetres)': 'daily_rainfall'})"
   ]
  },
  {
   "cell_type": "markdown",
   "metadata": {},
   "source": [
    "## Data Plots"
   ]
  },
  {
   "cell_type": "markdown",
   "metadata": {},
   "source": [
    "### Basic Scatter Plots"
   ]
  },
  {
   "cell_type": "code",
   "execution_count": 216,
   "metadata": {},
   "outputs": [
    {
     "data": {
      "image/png": "[encoded data removed]",
      "text/plain": [
       "<Figure size 432x288 with 1 Axes>"
      ]
     },
     "metadata": {
      "needs_background": "light"
     },
     "output_type": "display_data"
    }
   ],
   "source": [
    "# create scatterplot \n",
    "sns.scatterplot(df['track_temp'], df['fastestLapSpeed'])\n",
    "plt.title('Figure 1: some shit yo')\n",
    "plt.show();\n",
    "\n",
    "\n"
   ]
  },
  {
   "cell_type": "code",
   "execution_count": 214,
   "metadata": {},
   "outputs": [
    {
     "name": "stdout",
     "output_type": "stream",
     "text": [
      "temp: 0.8266263621240918\n",
      "track_temp: 0.6711805459872388\n",
      "humidity: -0.5583753614677653\n",
      "air_pressure: 0.1060927956711287\n",
      "wind_speed: -0.8254507754631096\n"
     ]
    }
   ],
   "source": [
    "print(\"temp: \" + str((df.temp).corr(df.fastestLapSpeed)))\n",
    "print(\"track_temp: \" + str((df.track_temp).corr(df.fastestLapSpeed)))\n",
    "print(\"humidity: \" + str((df.humidity).corr(df.fastestLapSpeed)))\n",
    "print(\"air_pressure: \" + str((df.air_pressure).corr(df.fastestLapSpeed)))\n",
    "print(\"wind_speed: \" + str((df.wind_speed).corr(df.fastestLapSpeed)))\n",
    "\n",
    "               "
   ]
  },
  {
   "cell_type": "code",
   "execution_count": null,
   "metadata": {},
   "outputs": [],
   "source": []
  }
 ],
 "metadata": {
  "kernelspec": {
   "display_name": "Python 3",
   "language": "python",
   "name": "python3"
  },
  "language_info": {
   "codemirror_mode": {
    "name": "ipython",
    "version": 3
   },
   "file_extension": ".py",
   "mimetype": "text/x-python",
   "name": "python",
   "nbconvert_exporter": "python",
   "pygments_lexer": "ipython3",
   "version": "3.8.3"
  }
 },
 "nbformat": 4,
 "nbformat_minor": 4
}
